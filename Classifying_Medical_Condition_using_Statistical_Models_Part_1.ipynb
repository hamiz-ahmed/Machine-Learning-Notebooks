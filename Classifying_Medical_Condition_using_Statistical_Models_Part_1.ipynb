{
  "nbformat": 4,
  "nbformat_minor": 0,
  "metadata": {
    "colab": {
      "name": "Classifying Medical Condition using Statistical Models - Part 1.ipynb",
      "provenance": [],
      "toc_visible": true,
      "mount_file_id": "1zBYsRBwcXwalkL2FHKvslZwjZRGZZDeR",
      "authorship_tag": "ABX9TyPD+TiFthwv7/6yAksZQzI+"
    },
    "kernelspec": {
      "name": "python3",
      "display_name": "Python 3"
    }
  },
  "cells": [
    {
      "cell_type": "markdown",
      "metadata": {
        "id": "XtEjvPOKkiAJ",
        "colab_type": "text"
      },
      "source": [
        "### Import Libraries\n"
      ]
    },
    {
      "cell_type": "code",
      "metadata": {
        "id": "M84HvXipkZfk",
        "colab_type": "code",
        "colab": {}
      },
      "source": [
        "from sklearn.model_selection import train_test_split, cross_val_score, cross_val_predict, StratifiedKFold\n",
        "import plotly.express as px\n",
        "import numpy as np\n",
        "import pandas as pd\n",
        "from mlxtend.plotting import plot_learning_curves\n",
        "from sklearn.preprocessing import LabelEncoder\n",
        "\n",
        "\n",
        "from sklearn.pipeline import Pipeline\n",
        "from sklearn.feature_extraction.text import CountVectorizer, TfidfVectorizer, TfidfTransformer\n",
        "from sklearn.multiclass import OneVsRestClassifier\n",
        "from nltk.corpus import stopwords\n",
        "from sklearn.ensemble import RandomForestClassifier\n",
        "from sklearn.naive_bayes import MultinomialNB, GaussianNB\n",
        "from sklearn.linear_model import LogisticRegression, SGDClassifier\n",
        "from sklearn.neighbors import KNeighborsClassifier\n",
        "from nltk.stem import WordNetLemmatizer, SnowballStemmer"
      ],
      "execution_count": null,
      "outputs": []
    },
    {
      "cell_type": "markdown",
      "metadata": {
        "id": "GyBYtDC9k-L8",
        "colab_type": "text"
      },
      "source": [
        "## Data Preprocessing"
      ]
    },
    {
      "cell_type": "code",
      "metadata": {
        "id": "welfC3_Ekov4",
        "colab_type": "code",
        "colab": {}
      },
      "source": [
        "# train data\n",
        "df_train = pd.read_csv(\"/content/drive/My Drive/data/drugsComTest_raw.csv\")\n",
        "\n",
        "# test data\n",
        "df_test = pd.read_csv(\"/content/drive/My Drive/data/drugsComTest_raw.csv\")"
      ],
      "execution_count": null,
      "outputs": []
    },
    {
      "cell_type": "code",
      "metadata": {
        "id": "fr0m4LH0lGuD",
        "colab_type": "code",
        "colab": {}
      },
      "source": [
        "# Removing nan values\n",
        "df_train = df_train.dropna()\n",
        "df_test = df_test.dropna()"
      ],
      "execution_count": null,
      "outputs": []
    },
    {
      "cell_type": "code",
      "metadata": {
        "id": "1qrGpjiHlIXG",
        "colab_type": "code",
        "colab": {
          "base_uri": "https://localhost:8080/",
          "height": 202
        },
        "outputId": "f81f8a7a-95ec-43a6-8b85-90efe19e3313"
      },
      "source": [
        "df_train.head()"
      ],
      "execution_count": null,
      "outputs": [
        {
          "output_type": "execute_result",
          "data": {
            "text/html": [
              "<div>\n",
              "<style scoped>\n",
              "    .dataframe tbody tr th:only-of-type {\n",
              "        vertical-align: middle;\n",
              "    }\n",
              "\n",
              "    .dataframe tbody tr th {\n",
              "        vertical-align: top;\n",
              "    }\n",
              "\n",
              "    .dataframe thead th {\n",
              "        text-align: right;\n",
              "    }\n",
              "</style>\n",
              "<table border=\"1\" class=\"dataframe\">\n",
              "  <thead>\n",
              "    <tr style=\"text-align: right;\">\n",
              "      <th></th>\n",
              "      <th>uniqueID</th>\n",
              "      <th>drugName</th>\n",
              "      <th>condition</th>\n",
              "      <th>review</th>\n",
              "      <th>rating</th>\n",
              "      <th>date</th>\n",
              "      <th>usefulCount</th>\n",
              "    </tr>\n",
              "  </thead>\n",
              "  <tbody>\n",
              "    <tr>\n",
              "      <th>0</th>\n",
              "      <td>163740</td>\n",
              "      <td>Mirtazapine</td>\n",
              "      <td>Depression</td>\n",
              "      <td>\"I&amp;#039;ve tried a few antidepressants over th...</td>\n",
              "      <td>10</td>\n",
              "      <td>28-Feb-12</td>\n",
              "      <td>22</td>\n",
              "    </tr>\n",
              "    <tr>\n",
              "      <th>1</th>\n",
              "      <td>206473</td>\n",
              "      <td>Mesalamine</td>\n",
              "      <td>Crohn's Disease, Maintenance</td>\n",
              "      <td>\"My son has Crohn&amp;#039;s disease and has done ...</td>\n",
              "      <td>8</td>\n",
              "      <td>17-May-09</td>\n",
              "      <td>17</td>\n",
              "    </tr>\n",
              "    <tr>\n",
              "      <th>2</th>\n",
              "      <td>159672</td>\n",
              "      <td>Bactrim</td>\n",
              "      <td>Urinary Tract Infection</td>\n",
              "      <td>\"Quick reduction of symptoms\"</td>\n",
              "      <td>9</td>\n",
              "      <td>29-Sep-17</td>\n",
              "      <td>3</td>\n",
              "    </tr>\n",
              "    <tr>\n",
              "      <th>3</th>\n",
              "      <td>39293</td>\n",
              "      <td>Contrave</td>\n",
              "      <td>Weight Loss</td>\n",
              "      <td>\"Contrave combines drugs that were used for al...</td>\n",
              "      <td>9</td>\n",
              "      <td>5-Mar-17</td>\n",
              "      <td>35</td>\n",
              "    </tr>\n",
              "    <tr>\n",
              "      <th>4</th>\n",
              "      <td>97768</td>\n",
              "      <td>Cyclafem 1 / 35</td>\n",
              "      <td>Birth Control</td>\n",
              "      <td>\"I have been on this birth control for one cyc...</td>\n",
              "      <td>9</td>\n",
              "      <td>22-Oct-15</td>\n",
              "      <td>4</td>\n",
              "    </tr>\n",
              "  </tbody>\n",
              "</table>\n",
              "</div>"
            ],
            "text/plain": [
              "   uniqueID         drugName  ...       date usefulCount\n",
              "0    163740      Mirtazapine  ...  28-Feb-12          22\n",
              "1    206473       Mesalamine  ...  17-May-09          17\n",
              "2    159672          Bactrim  ...  29-Sep-17           3\n",
              "3     39293         Contrave  ...   5-Mar-17          35\n",
              "4     97768  Cyclafem 1 / 35  ...  22-Oct-15           4\n",
              "\n",
              "[5 rows x 7 columns]"
            ]
          },
          "metadata": {
            "tags": []
          },
          "execution_count": 4
        }
      ]
    },
    {
      "cell_type": "markdown",
      "metadata": {
        "id": "VqATJK0AlPST",
        "colab_type": "text"
      },
      "source": [
        "#### Show Class Distibution "
      ]
    },
    {
      "cell_type": "code",
      "metadata": {
        "id": "9hFk5XpslJRQ",
        "colab_type": "code",
        "colab": {
          "base_uri": "https://localhost:8080/",
          "height": 435
        },
        "outputId": "91e32c2e-8f25-4bb5-c3f8-ff9c7dfae68b"
      },
      "source": [
        "def plot_bar_chart(df):\n",
        "    # analyze the condition labels\n",
        "    counts_series = df.condition.value_counts()\n",
        "    counts_df = pd.DataFrame(counts_series)\n",
        "    counts_df.reset_index(level=0, inplace=True)\n",
        "\n",
        "    number_of_classes(df)\n",
        "\n",
        "    fig = px.bar(counts_df, x=\"index\", y=\"condition\", orientation='v',\n",
        "              height=400,\n",
        "              title='xc')\n",
        "    fig.show()\n",
        "\n",
        "def number_of_classes(df):\n",
        "    print(\"Number of classes: \", len(df[\"condition\"].unique()))\n",
        "\n",
        "plot_bar_chart(df_train)"
      ],
      "execution_count": null,
      "outputs": [
        {
          "output_type": "stream",
          "text": [
            "Number of classes:  708\n"
          ],
          "name": "stdout"
        },
        {
          "output_type": "display_data",
          "data": {
            "text/html": [
              "<html>\n",
              "<head><meta charset=\"utf-8\" /></head>\n",
              "<body>\n",
              "    <div>\n",
              "            <script src=\"https://cdnjs.cloudflare.com/ajax/libs/mathjax/2.7.5/MathJax.js?config=TeX-AMS-MML_SVG\"></script><script type=\"text/javascript\">if (window.MathJax) {MathJax.Hub.Config({SVG: {font: \"STIX-Web\"}});}</script>\n",
              "                <script type=\"text/javascript\">window.PlotlyConfig = {MathJaxConfig: 'local'};</script>\n",
              "        <script src=\"https://cdn.plot.ly/plotly-latest.min.js\"></script>    \n",
              "            <div id=\"63cb4724-4940-417c-a5d2-8bfc871a6cab\" class=\"plotly-graph-div\" style=\"height:400px; width:100%;\"></div>\n",
              "            <script type=\"text/javascript\">\n",
              "                \n",
              "                    window.PLOTLYENV=window.PLOTLYENV || {};\n",
              "                    \n",
              "                if (document.getElementById(\"63cb4724-4940-417c-a5d2-8bfc871a6cab\")) {\n",
              "                    Plotly.newPlot(\n",
              "                        '63cb4724-4940-417c-a5d2-8bfc871a6cab',\n",
              "                        [{\"alignmentgroup\": \"True\", \"hoverlabel\": {\"namelength\": 0}, \"hovertemplate\": \"index=%{x}<br>condition=%{y}\", \"legendgroup\": \"\", \"marker\": {\"color\": \"#636efa\"}, \"name\": \"\", \"offsetgroup\": \"\", \"orientation\": \"v\", \"showlegend\": false, \"textposition\": \"auto\", \"type\": \"bar\", \"x\": [\"Birth Control\", \"Depression\", \"Pain\", \"Anxiety\", \"Acne\", \"Bipolar Disorde\", \"Weight Loss\", \"Insomnia\", \"Obesity\", \"ADHD\", \"Emergency Contraception\", \"Vaginal Yeast Infection\", \"Diabetes, Type 2\", \"High Blood Pressure\", \"Smoking Cessation\", \"Abnormal Uterine Bleeding\", \"Bowel Preparation\", \"Migraine\", \"ibromyalgia\", \"Anxiety and Stress\", \"Constipation\", \"Major Depressive Disorde\", \"Chronic Pain\", \"Panic Disorde\", \"Migraine Prevention\", \"Urinary Tract Infection\", \"Opiate Dependence\", \"Osteoarthritis\", \"Muscle Spasm\", \"Erectile Dysfunction\", \"Generalized Anxiety Disorde\", \"Allergic Rhinitis\", \"Irritable Bowel Syndrome\", \"Rheumatoid Arthritis\", \"Bacterial Infection\", \"Cough\", \"Sinusitis\", \"Nausea/Vomiting\", \"GERD\", \"Hepatitis C\", \"Restless Legs Syndrome\", \"Hyperhidrosis\", \"Overactive Bladde\", \"Multiple Sclerosis\", \"High Cholesterol\", \"HIV Infection\", \"Psoriasis\", \"Schizophrenia\", \"Hypogonadism, Male\", \"Endometriosis\", \"Back Pain\", \"Constipation, Chronic\", \"Seizures\", \"Rosacea\", \"Obsessive Compulsive Disorde\", \"Benign Prostatic Hyperplasia\", \"Asthma, Maintenance\", \"Bronchitis\", \"Bacterial Vaginitis\", \"Headache\", \"Not Listed / Othe\", \"Narcolepsy\", \"Onychomycosis, Toenail\", \"Postmenopausal Symptoms\", \"Social Anxiety Disorde\", \"Alcohol Dependence\", \"Bladder Infection\", \"Herpes Simplex\", \"Menstrual Disorders\", \"Schizoaffective Disorde\", \"Epilepsy\", \"Post Traumatic Stress Disorde\", \"Underactive Thyroid\", \"Influenza\", \"Cough and Nasal Congestion\", \"Psoriatic Arthritis\", \"Opiate Withdrawal\", \"Cold Sores\", \"Inflammatory Conditions\", \"Nasal Congestion\", \"Breast Cance\", \"Premenstrual Dysphoric Disorde\", \"Plaque Psoriasis\", \"Chlamydia Infection\", \"Neuropathic Pain\", \"Pneumonia\", \"Osteoporosis\", \"Anesthesia\", \"Urticaria\", \"COPD, Maintenance\", \"Polycystic Ovary Syndrome\", \"Asthma\", \"Constipation, Drug Induced\", \"Helicobacter Pylori Infection\", \"Ulcerative Colitis\", \"Atrial Fibrillation\", \"Crohn's Disease, Maintenance\", \"Motion Sickness\", \"mance Anxiety\", \"Seizure Prevention\", \"Hashimoto's disease\", \"Diarrhea\", \"Alcohol Withdrawal\", \"Hot Flashes\", \"Urinary Incontinence\", \"Upper Respiratory Tract Infection\", \"Sedation\", \"Ankylosing Spondylitis\", \"Peripheral Neuropathy\", \"Gout, Acute\", \"Skin or Soft Tissue Infection\", \"Otitis Media\", \"Ovarian Cysts\", \"Atopic Dermatitis\", \"Diabetic Peripheral Neuropathy\", \"Dry Eye Disease\", \"Atrophic Vaginitis\", \"Crohn's Disease\", \"Eczema\", \"Trigeminal Neuralgia\", \"Parkinson's Disease\", \"Borderline Personality Disorde\", \"Strep Throat\", \"Allergies\", \"Hirsutism\", \"Period Pain\", \"Prostate Cance\", \"Cluster Headaches\", \"Diabetes, Type 1\", \"Interstitial Cystitis\", \"Keratosis\", \"Bacterial Skin Infection\", \"COPD\", \"Prevention of Thromboembolism in Atrial Fibrillation\", \"Herpes Simplex, Suppression\", \"Diverticulitis\", \"Postherpetic Neuralgia\", \"Ulcerative Colitis, Active\", \"Urinary Tract Stones\", \"Arrhythmia\", \"Edema\", \"Sciatica\", \"Non-Small Cell Lung Cance\", \"Human Papilloma Virus\", \"Nausea/Vomiting of Pregnancy\", \"Obstructive Sleep Apnea/Hypopnea Syndrome\", \"Hypothyroidism, After Thyroid Removal\", \"Systemic Lupus Erythematosus\", \"Premature Lab\", \"Alopecia\", \"Dermatitis\", \"Cold Symptoms\", \"Supraventricular Tachycardia\", \"moterol)\", \"Asthma, acute\", \"Alzheimer's Disease\", \"Kidney Infections\", \"Head Lice\", \"Anorexia\", \"Muscle Pain\", \"Rhinitis\", \"1</span> users found this comment helpful.\", \"Neuralgia\", \"Autism\", \"Renal Cell Carcinoma\", \"Hemorrhoids\", \"Angina\", \"Postpartum Depression\", \"Allergic Reactions\", \"Sexual Dysfunction, SSRI Induced\", \"Binge Eating Disorde\", \"Dysuria\", \"Benign Essential Trem\", \"Chronic Fatigue Syndrome\", \"Pseudotumor Cerebri\", \"Melasma\", \"Heart Failure\", \"Gout\", \"Pulmonary Hypertension\", \"Chronic Myelogenous Leukemia\", \"Amenorrhea\", \"Hypertriglyceridemia\", \"Breast Cancer, Metastatic\", \"Keratoconjunctivitis Sicca\", \"Vitamin/Mineral Supplementation during Pregnancy/Lactation\", \"Psychosis\", \"Hypersomnia\", \"Prostatitis\", \"Shift Work Sleep Disorde\", \"Diarrhea, Chronic\", \"Deep Vein Thrombosis\", \"0</span> users found this comment helpful.\", \"Light Sedation\", \"Tonsillitis/Pharyngitis\", \"Dental Abscess\", \"Vertig\", \"Dietary Supplementation\", \"Chronic Idiopathic Constipation\", \"Dry Skin\", \"emale Infertility\", \"Tourette's Syndrome\", \"Stomach Ulce\", \"4</span> users found this comment helpful.\", \"Seasonal Allergic Conjunctivitis\", \"Sinus Symptoms\", \"atigue\", \"Conjunctivitis, Allergic\", \"Tendonitis\", \"Cervical Dystonia\", \"Pulmonary Embolism\", \"Mania\", \"2</span> users found this comment helpful.\", \"Erosive Esophagitis\", \"Indigestion\", \"Basal Cell Carcinoma\", \"Trichomoniasis\", \"5</span> users found this comment helpful.\", \"Constipation, Acute\", \"Heart Attack\", \"Skin and Structure Infection\", \"Sjogren's Syndrome\", \"High Cholesterol, Familial Heterozygous\", \"Opioid-Induced Constipation\", \"Glaucoma, Open Angle\", \"Conjunctivitis, Bacterial\", \"Barrett's Esophagus\", \"6</span> users found this comment helpful.\", \"Prevention of Bladder infection\", \"3</span> users found this comment helpful.\", \"Pruritus\", \"Uterine Fibroids\", \"Androgenetic Alopecia\", \"Periodic Limb Movement Disorde\", \"Menorrhagia\", \"Bulimia\", \"min)\", \"Iron Deficiency Anemia\", \"Perimenopausal Symptoms\", \"Eye Redness\", \"Nausea/Vomiting, Chemotherapy Induced\", \"Hyperprolactinemia\", \"Breakthrough Pain\", \"Gastroparesis\", \"Malaria Prevention\", \"Soft Tissue Sarcoma\", \"Postoperative Pain\", \"7</span> users found this comment helpful.\", \"Raynaud's Syndrome\", \"Light Anesthesia\", \"Burns, External\", \"Myasthenia Gravis\", \"Dermatological Disorders\", \"Reflex Sympathetic Dystrophy Syndrome\", \"Primary Immunodeficiency Syndrome\", \"Organ Transplant, Rejection Prophylaxis\", \"Ulcerative Colitis, Maintenance\", \"Tinea Pedis\", \"Crohn's Disease, Acute\", \"Prevention of Osteoporosis\", \"Neutropenia Associated with Chemotherapy\", \"Tinea Versicol\", \"Pneumococcal Disease Prophylaxis\", \"acial Wrinkles\", \"Chronic Lymphocytic Leukemia\", \"Acute Coronary Syndrome\", \"Otitis Externa\", \"Gastroenteritis\", \"Macular Degeneration\", \"Temporomandibular Joint Disorde\", \"Cutaneous Candidiasis\", \"Extrapyramidal Reaction\", \"Herpes Zoste\", \"Seborrheic Dermatitis\", \"Paranoid Disorde\", \"10</span> users found this comment helpful.\", \"Postural Orthostatic Tachycardia Syndrome\", \"Lyme Disease\", \"Anemia\", \"Eye Redness/Itching\", \"Vulvodynia\", \"Gouty Arthritis\", \"Intraocular Hypertension\", \"Inflammatory Bowel Disease\", \"Hypoestrogenism\", \"Glaucoma\", \"Mitral Valve Prolapse\", \"Tinea Cruris\", \"Angina Pectoris Prophylaxis\", \"9</span> users found this comment helpful.\", \"12</span> users found this comment helpful.\", \"Postoperative Ocular Inflammation\", \"Anemia Associated with Chronic Renal Failure\", \"Uveitis\", \"Human Papillomavirus Prophylaxis\", \"Xerostomia\", \"Actinic Keratosis\", \"Hepatic Encephalopathy\", \"Atrial Flutte\", \"Insulin Resistance Syndrome\", \"Tinnitus\", \"Agitated State\", \"Juvenile Rheumatoid Arthritis\", \"Nocturnal Leg Cramps\", \"min / sitagliptin)\", \"Meniere's Disease\", \"Methicillin-Resistant Staphylococcus Aureus Infection\", \"Clostridial Infection\", \"Ovulation Induction\", \"Photoaging of the Skin\", \"Ischemic Stroke, Prophylaxis\", \"Conjunctivitis\", \"Vitamin/Mineral Supplementation and Deficiency\", \"Cystic Fibrosis\", \"Benzodiazepine Withdrawal\", \"8</span> users found this comment helpful.\", \"Hepatitis B\", \"Swine Flu\", \"Malaria\", \"Premenstrual Syndrome\", \"Asperger Syndrome\", \"Idiopathic Thrombocytopenic Purpura\", \"Nightmares\", \"Giardiasis\", \"Hereditary Angioedema\", \"Bronchospasm Prophylaxis\", \"Surgical Prophylaxis\", \"Juvenile Idiopathic Arthritis\", \"Gas\", \"moterol / mometasone)\", \"Diabetes Insipidus\", \"Onychomycosis, Fingernail\", \"Diagnosis and Investigation\", \"Pseudobulbar Affect\", \"zen Shoulde\", \"Left Ventricular Dysfunction\", \"Pancreatic Exocrine Dysfunction\", \"Undifferentiated Connective Tissue Disease\", \"Duodenal Ulce\", \"Hiccups\", \"Vitamin D Deficiency\", \"Autoimmune Hepatitis\", \"Agitation\", \"Diaper Rash\", \"TSH Suppression\", \"Dermatologic Lesion\", \"Allergic Urticaria\", \"Myelodysplastic Syndrome\", \"Herpes Simplex, Mucocutaneous/Immunocompetent Host\", \"Tinea Corporis\", \"ge (amlodipine / valsartan)\", \"Night Terrors\", \"Pinworm Infection (Enterobius vermicularis)\", \"Breast Cancer, Adjuvant\", \"Deep Vein Thrombosis, Prophylaxis\", \"Precocious Puberty\", \"Nausea/Vomiting, Postoperative\", \"Infection Prophylaxis\", \"Mucositis\", \"Opioid Overdose\", \"Condylomata Acuminata\", \"Influenza Prophylaxis\", \"18</span> users found this comment helpful.\", \"Hyperphosphatemia of Renal Failure\", \"Cyclic Vomiting Syndrome\", \"Chronic Pancreatitis\", \"Dysautonomia\", \"Gingivitis\", \"Breast Cancer, Prevention\", \"Herbal Supplementation\", \"Peptic Ulce\", \"COPD, Acute\", \"Biliary Cirrhosis\", \"Nasal Polyps\", \"Noninfectious Colitis\", \"Hyperlipoproteinemia Type IIa, Elevated LDL\", \"Diabetic Kidney Disease\", \"Vitamin B12 Deficiency\", \"15</span> users found this comment helpful.\", \"Non-Hodgkin's Lymphoma\", \"Labor Induction\", \"Anal Fissure and Fistula\", \"17</span> users found this comment helpful.\", \"13</span> users found this comment helpful.\", \"39</span> users found this comment helpful.\", \"Lennox-Gastaut Syndrome\", \"Burning Mouth Syndrome\", \"Labor Pain\", \"Dyspareunia\", \"Anemia, Sickle Cell\", \"Ventricular Tachycardia\", \"Reversal of Opioid Sedation\", \"eve\", \"Sarcoidosis\", \"Auditory Processing Disorde\", \"Spondyloarthritis\", \"Osteolytic Bone Lesions of Multiple Myeloma\", \"Hypotension\", \"Mycobacterium avium-intracellulare, Treatment\", \"Primary Ovarian Failure\", \"Pediatric Growth Hormone Deficiency\", \"Skin Disinfection, Preoperative\", \"Mountain Sickness / Altitude Sickness\", \"Oral Thrush\", \"Skin Cance\", \"11</span> users found this comment helpful.\", \"Occipital Neuralgia\", \"Diarrhea, Acute\", \"Lactation Augmentation\", \"Menopausal Disorders\", \"Pelvic Inflammatory Disease\", \"Anal Itching\", \"Bullous Pemphigoid\", \"14</span> users found this comment helpful.\", \"Lyme Disease, Neurologic\", \"llicle Stimulation\", \"Bone infection\", \"Thyroid Cance\", \"Gastrointestinal Decontamination\", \"Dystonia\", \"Atrophic Urethritis\", \"Gastrointestinal Stromal Tum\", \"Computed Tomography\", \"min / saxagliptin)\", \"Pe\", \"Progesterone Insufficiency\", \"Secondary Hyperparathyroidism\", \"Endometrial Hyperplasia\", \"Ulcerative Proctitis\", \"Lipodystrophy\", \"Bacterial Endocarditis Prevention\", \"Deep Neck Infection\", \"Impetig\", \"Peritonitis\", \"NSAID-Induced Gastric Ulce\", \"Bursitis\", \"mulation) (phenylephrine)\", \"Dietary Fiber Supplementation\", \"Adrenocortical Insufficiency\", \"Deep Vein Thrombosis Prophylaxis after Hip Replacement Surgery\", \"Primary Nocturnal Enuresis\", \"Endometrial Cance\", \"Perioral Dermatitis\", \"Aphthous Ulce\", \"High Cholesterol, Familial Homozygous\", \"Mild Cognitive Impairment\", \"Insomnia, Stimulant-Associated\", \"Ophthalmic Surgery\", \"Diabetic Macular Edema\", \"lic Acid Deficiency\", \"Prevention of Cardiovascular Disease\", \"Percutaneous Coronary Intervention\", \"Oophorectomy\", \"von Willebrand's Disease\", \"Gastric Ulcer Maintenance Treatment\", \"Aplastic Anemia\", \"Skin Rash\", \"Melanoma, Metastatic\", \"Hidradenitis Suppurativa\", \"Gastritis/Duodenitis\", \"23</span> users found this comment helpful.\", \"Women (oxybutynin)\", \"Ear Wax Impaction\", \"Seasonal Affective Disorde\", \"Iritis\", \"Lichen Planus\", \"Tuberculosis, Latent\", \"Macular Edema\", \"Rhinorrhea\", \"Intermittent Claudication\", \"Lymphoma\", \"Hypomagnesemia\", \"Multiple Myeloma\", \"Osteolytic Bone Metastases of Solid Tumors\", \"21</span> users found this comment helpful.\", \"Local Anesthesia\", \"Persistent Depressive Disorde\", \"Hypocalcemia\", \"Hyperthyroidism\", \"Dercum's Disease\", \"Eyelash Hypotrichosis\", \"Amebiasis\", \"Cataplexy\", \"Colorectal Cance\", \"Cerebral Spasticity\", \"Systemic Sclerosis\", \"27</span> users found this comment helpful.\", \"Glioblastoma Multiforme\", \"Neck Pain\", \"Lymphocytic Colitis\", \"Intraabdominal Infection\", \"Liver Magnetic Resonance Imaging\", \"Pupillary Dilation\", \"Submental Fullness\", \"Lichen Sclerosus\", \"Varicella-Zoste\", \"Acute Lymphoblastic Leukemia\", \"Thromboembolic Stroke Prophylaxis\", \"25</span> users found this comment helpful.\", \"m Pain Disorde\", \"Dumping Syndrome\", \"Scabies\", \"Chronic Spasticity\", \"Pulmonary Embolism, First Event\", \"Streptococcal Infection\", \"Still's Disease\", \"Platelet Aggregation Inhibition\", \"Thrombocythemia\", \"Acute Otitis Externa\", \"Breast Cancer, Palliative\", \"Bleeding Disorde\", \"16</span> users found this comment helpful.\", \"Hypoparathyroidism\", \"Alpha-1 Proteinase Inhibitor Deficiency\", \"Expectoration\", \"28</span> users found this comment helpful.\", \"Bacteremia\", \"34</span> users found this comment helpful.\", \"Lactose Intolerance\", \"Mycoplasma Pneumonia\", \"22</span> users found this comment helpful.\", \"Deep Vein Thrombosis, First Event\", \"ICU Agitation\", \"Costochondritis\", \"Uterine Bleeding\", \"Deep Vein Thrombosis, Recurrent Event\", \"33</span> users found this comment helpful.\", \"Ischemic Stroke\", \"Abortion\", \"Gallbladder Disease\", \"Antiphospholipid Syndrome\", \"Opiate Adjunct\", \"Trichotillomania\", \"Prevention of Dental Caries\", \"Paget's Disease\", \"Oligospermia\", \"Gastrointestinal Hemorrhage\", \"Hyperlipoproteinemia\", \"Behcet's Disease\", \"Hypercalcemia of Malignancy\", \"20</span> users found this comment helpful.\", \"Premature Ventricular Depolarizations\", \"Schnitzler Syndrome\", \"Pharyngitis\", \"Post-Cholecystectomy Diarrhea\", \"Periodontitis\", \"51</span> users found this comment helpful.\", \"32</span> users found this comment helpful.\", \"Dandruff\", \"Chronic Myofascial Pain\", \"Occupational Exposure\", \"Traveler's Diarrhea\", \"Salmonella Gastroenteritis\", \"Gonococcal Infection, Uncomplicated\", \"55</span> users found this comment helpful.\", \"AIDS Related Wasting\", \"Warts\", \"Performance Anxiety\", \"Addison's Disease\", \"Systemic Mastocytosis\", \"Ventricular Fibrillation\", \"Corneal Refractive Surgery\", \"Hepatocellular Carcinoma\", \"Renal Tubular Acidosis\", \"Mantle Cell Lymphoma\", \"Hyperekplexia\", \"Cance\", \"New Daily Persistent Headache\", \"Polymyositis/Dermatomyositis\", \"Tympanostomy Tube Placement Surgery\", \"38</span> users found this comment helpful.\", \"Zollinger-Ellison Syndrome\", \"Joint Infection\", \"Polycythemia Vera\", \"Melanoma\", \"Pre-Exposure Prophylaxis\", \"Neutropenia\", \"me\", \"Dissociative Identity Disorde\", \"Aspergillosis, Aspergilloma\", \"Ehrlichiosis\", \"Wegener's Granulomatosis\", \"Esophageal Variceal Hemorrhage Prophylaxis\", \"Pudendal Neuralgia\", \"100</span> users found this comment helpful.\", \"Hyperphosphatemia\", \"Postoperative Increased Intraocular Pressure\", \"Enterocolitis\", \"70</span> users found this comment helpful.\", \"Premature Ejaculation\", \"Yellow Fever Prophylaxis\", \"Thyrotoxicosis\", \"135</span> users found this comment helpful.\", \"Myotonia Congenita\", \"31</span> users found this comment helpful.\", \"Dermatophytosis\", \"Myeloproliferative Disorders\", \"Meningococcal Meningitis Prophylaxis\", \"Coronary Artery Disease\", \"Wolff-Parkinson-White Syndrome\", \"Blepharitis\", \"Hemophilia B\", \"Nasal Carriage of Staphylococcus aureus\", \"Hypodermoclysis\", \"Giant Cell Tumor of Bone\", \"Rat-bite Feve\", \"83</span> users found this comment helpful.\", \"Acute Nonlymphocytic Leukemia\", \"Mixed Connective Tissue Disease\", \"ibrocystic Breast Disease\", \"Stress Ulcer Prophylaxis\", \"Pertussis\", \"Primary Hyperaldosteronism\", \"Herpes Simplex Dendritic Keratitis\", \"Pemphigus\", \"Ventricular Arrhythmia\", \"41</span> users found this comment helpful.\", \"Pemphigoid\", \"Parkinsonism\", \"Lyme Disease, Erythema Chronicum Migrans\", \"Histoplasmosis\", \"Strongyloidiasis\", \"Squamous Cell Carcinoma\", \"Oral and Dental Conditions\", \"Schilling Test\", \"Nausea (phosphorated carbohydrate solution)\", \"Herpes Zoster, Prophylaxis\", \"Cachexia\", \"Hyperkalemia\", \"Leukemia\", \"Somat\", \"Uveitis, Posteri\", \"Immunosuppression\", \"Hypertensive Emergency\", \"Cerebral Edema\", \"Acute Promyelocytic Leukemia\", \"Strabismus\", \"Epididymitis, Sexually Transmitted\", \"Transient Ischemic Attack\", \"Eosinophilic Esophagitis\", \"35</span> users found this comment helpful.\", \"Chronic Inflammatory Demyelinating Polyradiculoneuropathy\", \"Oppositional Defiant Disorde\", \"Cyclothymic Disorde\", \"Small Bowel or Pancreatic Fistula\", \"Subarachnoid Hemorrhage\", \"Glioblastoma Multi\", \"acial Lipoatrophy\", \"Organ Transplant, Rejection Reversal\", \"105</span> users found this comment helpful.\", \"24</span> users found this comment helpful.\", \"Anthrax\", \"B12 Nutritional Deficiency\", \"Cyclitis\", \"Spondylolisthesis\", \"Reversal of Nondepolarizing Muscle Relaxants\", \"Sunburn\", \"Pain/Feve\", \"Hypoactive Sexual Desire Disorde\", \"Myelofibrosis\", \"Dupuytren's contracture\", \"Head Injury\", \"Keratitis\", \"Syringomyelia\", \"Steroid Responsive Inflammatory Conditions\", \"Anaplastic Astrocytoma\", \"Cutaneous T-cell Lymphoma\", \"amilial Cold Autoinflammatory Syndrome\", \"Herpes Simplex, Mucocutaneous/Immunocompromised Host\", \"Ichthyosis\", \"CMV Prophylaxis\", \"Nephrotic Syndrome\", \"Stomach Cance\", \"Upper Limb Spasticity\", \"actor IX Deficiency\", \"Jet Lag\", \"Coccidioidomycosis\", \"Hypokalemic Periodic Paralysis\", \"Sore Throat\", \"Mononucleosis\", \"mist (\", \"Status Epilepticus\", \"Radionuclide Myocardial Perfusion Study\", \"Ovarian Cance\", \"Acetaminophen Overdose\", \"Pityriasis rubra pilaris\", \"Prevention of Hypokalemia\", \"Autoimmune Hemolytic Anemia\", \"Gonadotropin Inhibition\", \"Urinary Retention\", \"Pulmonary Edema\", \"tic (mycophenolic acid)\", \"Hemophilia A\", \"Adult Human Growth Hormone Deficiency\", \"Gender Dysphoria\", \"Body Dysmorphic Disorde\", \"37</span> users found this comment helpful.\", \"Pertussis Prophylaxis\", \"Head and Neck Cance\", \"Topical Disinfection\", \"Pancreatic Cance\", \"Peripheral Arterial Disease\", \"Nonoccupational Exposure\", \"Dementia\", \"Hemorrhoids (pramoxine / zinc oxide)\", \"Anemia, Chemotherapy Induced\", \"29</span> users found this comment helpful.\", \"Dermatomyositis\", \"cal Segmental Glomerulosclerosis\"], \"xaxis\": \"x\", \"y\": [9648, 3095, 2100, 1908, 1847, 1380, 1248, 1231, 1189, 1126, 827, 811, 808, 783, 660, 648, 639, 583, 579, 573, 525, 524, 485, 469, 454, 431, 398, 387, 387, 381, 378, 350, 325, 320, 307, 297, 289, 266, 246, 245, 240, 240, 234, 215, 206, 202, 198, 195, 195, 192, 192, 179, 176, 175, 173, 165, 158, 157, 153, 153, 153, 152, 137, 136, 133, 130, 130, 129, 127, 127, 120, 118, 118, 117, 113, 112, 107, 105, 103, 100, 99, 98, 98, 98, 96, 88, 86, 86, 80, 78, 78, 77, 77, 77, 75, 75, 74, 72, 72, 71, 71, 69, 68, 67, 64, 64, 63, 61, 60, 56, 56, 55, 55, 54, 54, 54, 53, 53, 52, 51, 50, 50, 49, 49, 48, 48, 47, 46, 45, 45, 45, 45, 45, 44, 44, 43, 43, 43, 43, 42, 41, 40, 40, 39, 38, 37, 37, 37, 36, 36, 35, 35, 35, 34, 34, 32, 32, 32, 31, 31, 31, 31, 31, 31, 30, 30, 30, 30, 30, 29, 29, 28, 28, 28, 28, 28, 27, 26, 26, 26, 26, 26, 26, 26, 25, 25, 25, 24, 24, 24, 24, 24, 23, 23, 23, 23, 22, 22, 22, 22, 21, 21, 21, 21, 21, 21, 21, 21, 21, 20, 20, 20, 20, 20, 19, 19, 19, 19, 19, 19, 18, 18, 18, 18, 18, 18, 18, 18, 17, 17, 17, 17, 17, 16, 16, 15, 15, 15, 15, 15, 14, 14, 14, 14, 13, 13, 13, 13, 13, 13, 13, 13, 13, 12, 12, 12, 12, 11, 11, 11, 11, 11, 11, 11, 11, 11, 10, 10, 10, 10, 10, 10, 10, 10, 10, 10, 10, 10, 10, 10, 9, 9, 9, 9, 9, 9, 9, 9, 9, 9, 8, 8, 8, 8, 8, 8, 8, 8, 8, 8, 8, 8, 8, 8, 8, 8, 8, 8, 8, 8, 7, 7, 7, 7, 7, 7, 7, 7, 7, 7, 7, 7, 7, 7, 7, 7, 7, 7, 7, 7, 7, 7, 7, 7, 7, 7, 7, 7, 6, 6, 6, 6, 6, 6, 6, 6, 6, 6, 6, 6, 6, 6, 6, 6, 6, 6, 5, 5, 5, 5, 5, 5, 5, 5, 5, 5, 5, 5, 5, 5, 5, 5, 5, 5, 5, 5, 5, 5, 5, 5, 5, 5, 5, 5, 5, 5, 5, 5, 4, 4, 4, 4, 4, 4, 4, 4, 4, 4, 4, 4, 4, 4, 4, 4, 4, 4, 4, 4, 4, 4, 4, 4, 4, 4, 4, 4, 4, 4, 4, 4, 4, 4, 4, 4, 3, 3, 3, 3, 3, 3, 3, 3, 3, 3, 3, 3, 3, 3, 3, 3, 3, 3, 3, 3, 3, 3, 3, 3, 3, 3, 3, 3, 3, 3, 3, 3, 3, 3, 3, 3, 3, 3, 3, 3, 3, 3, 3, 3, 3, 3, 3, 3, 3, 3, 3, 3, 3, 3, 3, 3, 3, 2, 2, 2, 2, 2, 2, 2, 2, 2, 2, 2, 2, 2, 2, 2, 2, 2, 2, 2, 2, 2, 2, 2, 2, 2, 2, 2, 2, 2, 2, 2, 2, 2, 2, 2, 2, 2, 2, 2, 2, 2, 2, 2, 2, 2, 2, 2, 2, 2, 2, 2, 2, 2, 2, 2, 2, 2, 2, 2, 2, 2, 2, 2, 2, 2, 2, 2, 2, 2, 2, 2, 2, 2, 2, 2, 2, 2, 2, 2, 2, 2, 2, 2, 2, 2, 2, 2, 1, 1, 1, 1, 1, 1, 1, 1, 1, 1, 1, 1, 1, 1, 1, 1, 1, 1, 1, 1, 1, 1, 1, 1, 1, 1, 1, 1, 1, 1, 1, 1, 1, 1, 1, 1, 1, 1, 1, 1, 1, 1, 1, 1, 1, 1, 1, 1, 1, 1, 1, 1, 1, 1, 1, 1, 1, 1, 1, 1, 1, 1, 1, 1, 1, 1, 1, 1, 1, 1, 1, 1, 1, 1, 1, 1, 1, 1, 1, 1, 1, 1, 1, 1, 1, 1, 1, 1, 1, 1, 1, 1, 1, 1, 1, 1, 1, 1, 1, 1, 1, 1, 1, 1, 1, 1, 1, 1, 1, 1, 1, 1, 1, 1, 1, 1, 1, 1, 1, 1, 1, 1, 1, 1, 1, 1, 1, 1, 1, 1, 1, 1, 1, 1, 1, 1, 1, 1, 1, 1], \"yaxis\": \"y\"}],\n",
              "                        {\"barmode\": \"relative\", \"height\": 400, \"legend\": {\"tracegroupgap\": 0}, \"template\": {\"data\": {\"bar\": [{\"error_x\": {\"color\": \"#2a3f5f\"}, \"error_y\": {\"color\": \"#2a3f5f\"}, \"marker\": {\"line\": {\"color\": \"#E5ECF6\", \"width\": 0.5}}, \"type\": \"bar\"}], \"barpolar\": [{\"marker\": {\"line\": {\"color\": \"#E5ECF6\", \"width\": 0.5}}, \"type\": \"barpolar\"}], \"carpet\": [{\"aaxis\": {\"endlinecolor\": \"#2a3f5f\", \"gridcolor\": \"white\", \"linecolor\": \"white\", \"minorgridcolor\": \"white\", \"startlinecolor\": \"#2a3f5f\"}, \"baxis\": {\"endlinecolor\": \"#2a3f5f\", \"gridcolor\": \"white\", \"linecolor\": \"white\", \"minorgridcolor\": \"white\", \"startlinecolor\": \"#2a3f5f\"}, \"type\": \"carpet\"}], \"choropleth\": [{\"colorbar\": {\"outlinewidth\": 0, \"ticks\": \"\"}, \"type\": \"choropleth\"}], \"contour\": [{\"colorbar\": {\"outlinewidth\": 0, \"ticks\": \"\"}, \"colorscale\": [[0.0, \"#0d0887\"], [0.1111111111111111, \"#46039f\"], [0.2222222222222222, \"#7201a8\"], [0.3333333333333333, \"#9c179e\"], [0.4444444444444444, \"#bd3786\"], [0.5555555555555556, \"#d8576b\"], [0.6666666666666666, \"#ed7953\"], [0.7777777777777778, \"#fb9f3a\"], [0.8888888888888888, \"#fdca26\"], [1.0, \"#f0f921\"]], \"type\": \"contour\"}], \"contourcarpet\": [{\"colorbar\": {\"outlinewidth\": 0, \"ticks\": \"\"}, \"type\": \"contourcarpet\"}], \"heatmap\": [{\"colorbar\": {\"outlinewidth\": 0, \"ticks\": \"\"}, \"colorscale\": [[0.0, \"#0d0887\"], [0.1111111111111111, \"#46039f\"], [0.2222222222222222, \"#7201a8\"], [0.3333333333333333, \"#9c179e\"], [0.4444444444444444, \"#bd3786\"], [0.5555555555555556, \"#d8576b\"], [0.6666666666666666, \"#ed7953\"], [0.7777777777777778, \"#fb9f3a\"], [0.8888888888888888, \"#fdca26\"], [1.0, \"#f0f921\"]], \"type\": \"heatmap\"}], \"heatmapgl\": [{\"colorbar\": {\"outlinewidth\": 0, \"ticks\": \"\"}, \"colorscale\": [[0.0, \"#0d0887\"], [0.1111111111111111, \"#46039f\"], [0.2222222222222222, \"#7201a8\"], [0.3333333333333333, \"#9c179e\"], [0.4444444444444444, \"#bd3786\"], [0.5555555555555556, \"#d8576b\"], [0.6666666666666666, \"#ed7953\"], [0.7777777777777778, \"#fb9f3a\"], [0.8888888888888888, \"#fdca26\"], [1.0, \"#f0f921\"]], \"type\": \"heatmapgl\"}], \"histogram\": [{\"marker\": {\"colorbar\": {\"outlinewidth\": 0, \"ticks\": \"\"}}, \"type\": \"histogram\"}], \"histogram2d\": [{\"colorbar\": {\"outlinewidth\": 0, \"ticks\": \"\"}, \"colorscale\": [[0.0, \"#0d0887\"], [0.1111111111111111, \"#46039f\"], [0.2222222222222222, \"#7201a8\"], [0.3333333333333333, \"#9c179e\"], [0.4444444444444444, \"#bd3786\"], [0.5555555555555556, \"#d8576b\"], [0.6666666666666666, \"#ed7953\"], [0.7777777777777778, \"#fb9f3a\"], [0.8888888888888888, \"#fdca26\"], [1.0, \"#f0f921\"]], \"type\": \"histogram2d\"}], \"histogram2dcontour\": [{\"colorbar\": {\"outlinewidth\": 0, \"ticks\": \"\"}, \"colorscale\": [[0.0, \"#0d0887\"], [0.1111111111111111, \"#46039f\"], [0.2222222222222222, \"#7201a8\"], [0.3333333333333333, \"#9c179e\"], [0.4444444444444444, \"#bd3786\"], [0.5555555555555556, \"#d8576b\"], [0.6666666666666666, \"#ed7953\"], [0.7777777777777778, \"#fb9f3a\"], [0.8888888888888888, \"#fdca26\"], [1.0, \"#f0f921\"]], \"type\": \"histogram2dcontour\"}], \"mesh3d\": [{\"colorbar\": {\"outlinewidth\": 0, \"ticks\": \"\"}, \"type\": \"mesh3d\"}], \"parcoords\": [{\"line\": {\"colorbar\": {\"outlinewidth\": 0, \"ticks\": \"\"}}, \"type\": \"parcoords\"}], \"pie\": [{\"automargin\": true, \"type\": \"pie\"}], \"scatter\": [{\"marker\": {\"colorbar\": {\"outlinewidth\": 0, \"ticks\": \"\"}}, \"type\": \"scatter\"}], \"scatter3d\": [{\"line\": {\"colorbar\": {\"outlinewidth\": 0, \"ticks\": \"\"}}, \"marker\": {\"colorbar\": {\"outlinewidth\": 0, \"ticks\": \"\"}}, \"type\": \"scatter3d\"}], \"scattercarpet\": [{\"marker\": {\"colorbar\": {\"outlinewidth\": 0, \"ticks\": \"\"}}, \"type\": \"scattercarpet\"}], \"scattergeo\": [{\"marker\": {\"colorbar\": {\"outlinewidth\": 0, \"ticks\": \"\"}}, \"type\": \"scattergeo\"}], \"scattergl\": [{\"marker\": {\"colorbar\": {\"outlinewidth\": 0, \"ticks\": \"\"}}, \"type\": \"scattergl\"}], \"scattermapbox\": [{\"marker\": {\"colorbar\": {\"outlinewidth\": 0, \"ticks\": \"\"}}, \"type\": \"scattermapbox\"}], \"scatterpolar\": [{\"marker\": {\"colorbar\": {\"outlinewidth\": 0, \"ticks\": \"\"}}, \"type\": \"scatterpolar\"}], \"scatterpolargl\": [{\"marker\": {\"colorbar\": {\"outlinewidth\": 0, \"ticks\": \"\"}}, \"type\": \"scatterpolargl\"}], \"scatterternary\": [{\"marker\": {\"colorbar\": {\"outlinewidth\": 0, \"ticks\": \"\"}}, \"type\": \"scatterternary\"}], \"surface\": [{\"colorbar\": {\"outlinewidth\": 0, \"ticks\": \"\"}, \"colorscale\": [[0.0, \"#0d0887\"], [0.1111111111111111, \"#46039f\"], [0.2222222222222222, \"#7201a8\"], [0.3333333333333333, \"#9c179e\"], [0.4444444444444444, \"#bd3786\"], [0.5555555555555556, \"#d8576b\"], [0.6666666666666666, \"#ed7953\"], [0.7777777777777778, \"#fb9f3a\"], [0.8888888888888888, \"#fdca26\"], [1.0, \"#f0f921\"]], \"type\": \"surface\"}], \"table\": [{\"cells\": {\"fill\": {\"color\": \"#EBF0F8\"}, \"line\": {\"color\": \"white\"}}, \"header\": {\"fill\": {\"color\": \"#C8D4E3\"}, \"line\": {\"color\": \"white\"}}, \"type\": \"table\"}]}, \"layout\": {\"annotationdefaults\": {\"arrowcolor\": \"#2a3f5f\", \"arrowhead\": 0, \"arrowwidth\": 1}, \"coloraxis\": {\"colorbar\": {\"outlinewidth\": 0, \"ticks\": \"\"}}, \"colorscale\": {\"diverging\": [[0, \"#8e0152\"], [0.1, \"#c51b7d\"], [0.2, \"#de77ae\"], [0.3, \"#f1b6da\"], [0.4, \"#fde0ef\"], [0.5, \"#f7f7f7\"], [0.6, \"#e6f5d0\"], [0.7, \"#b8e186\"], [0.8, \"#7fbc41\"], [0.9, \"#4d9221\"], [1, \"#276419\"]], \"sequential\": [[0.0, \"#0d0887\"], [0.1111111111111111, \"#46039f\"], [0.2222222222222222, \"#7201a8\"], [0.3333333333333333, \"#9c179e\"], [0.4444444444444444, \"#bd3786\"], [0.5555555555555556, \"#d8576b\"], [0.6666666666666666, \"#ed7953\"], [0.7777777777777778, \"#fb9f3a\"], [0.8888888888888888, \"#fdca26\"], [1.0, \"#f0f921\"]], \"sequentialminus\": [[0.0, \"#0d0887\"], [0.1111111111111111, \"#46039f\"], [0.2222222222222222, \"#7201a8\"], [0.3333333333333333, \"#9c179e\"], [0.4444444444444444, \"#bd3786\"], [0.5555555555555556, \"#d8576b\"], [0.6666666666666666, \"#ed7953\"], [0.7777777777777778, \"#fb9f3a\"], [0.8888888888888888, \"#fdca26\"], [1.0, \"#f0f921\"]]}, \"colorway\": [\"#636efa\", \"#EF553B\", \"#00cc96\", \"#ab63fa\", \"#FFA15A\", \"#19d3f3\", \"#FF6692\", \"#B6E880\", \"#FF97FF\", \"#FECB52\"], \"font\": {\"color\": \"#2a3f5f\"}, \"geo\": {\"bgcolor\": \"white\", \"lakecolor\": \"white\", \"landcolor\": \"#E5ECF6\", \"showlakes\": true, \"showland\": true, \"subunitcolor\": \"white\"}, \"hoverlabel\": {\"align\": \"left\"}, \"hovermode\": \"closest\", \"mapbox\": {\"style\": \"light\"}, \"paper_bgcolor\": \"white\", \"plot_bgcolor\": \"#E5ECF6\", \"polar\": {\"angularaxis\": {\"gridcolor\": \"white\", \"linecolor\": \"white\", \"ticks\": \"\"}, \"bgcolor\": \"#E5ECF6\", \"radialaxis\": {\"gridcolor\": \"white\", \"linecolor\": \"white\", \"ticks\": \"\"}}, \"scene\": {\"xaxis\": {\"backgroundcolor\": \"#E5ECF6\", \"gridcolor\": \"white\", \"gridwidth\": 2, \"linecolor\": \"white\", \"showbackground\": true, \"ticks\": \"\", \"zerolinecolor\": \"white\"}, \"yaxis\": {\"backgroundcolor\": \"#E5ECF6\", \"gridcolor\": \"white\", \"gridwidth\": 2, \"linecolor\": \"white\", \"showbackground\": true, \"ticks\": \"\", \"zerolinecolor\": \"white\"}, \"zaxis\": {\"backgroundcolor\": \"#E5ECF6\", \"gridcolor\": \"white\", \"gridwidth\": 2, \"linecolor\": \"white\", \"showbackground\": true, \"ticks\": \"\", \"zerolinecolor\": \"white\"}}, \"shapedefaults\": {\"line\": {\"color\": \"#2a3f5f\"}}, \"ternary\": {\"aaxis\": {\"gridcolor\": \"white\", \"linecolor\": \"white\", \"ticks\": \"\"}, \"baxis\": {\"gridcolor\": \"white\", \"linecolor\": \"white\", \"ticks\": \"\"}, \"bgcolor\": \"#E5ECF6\", \"caxis\": {\"gridcolor\": \"white\", \"linecolor\": \"white\", \"ticks\": \"\"}}, \"title\": {\"x\": 0.05}, \"xaxis\": {\"automargin\": true, \"gridcolor\": \"white\", \"linecolor\": \"white\", \"ticks\": \"\", \"title\": {\"standoff\": 15}, \"zerolinecolor\": \"white\", \"zerolinewidth\": 2}, \"yaxis\": {\"automargin\": true, \"gridcolor\": \"white\", \"linecolor\": \"white\", \"ticks\": \"\", \"title\": {\"standoff\": 15}, \"zerolinecolor\": \"white\", \"zerolinewidth\": 2}}}, \"title\": {\"text\": \"xc\"}, \"xaxis\": {\"anchor\": \"y\", \"domain\": [0.0, 1.0], \"title\": {\"text\": \"index\"}}, \"yaxis\": {\"anchor\": \"x\", \"domain\": [0.0, 1.0], \"title\": {\"text\": \"condition\"}}},\n",
              "                        {\"responsive\": true}\n",
              "                    ).then(function(){\n",
              "                            \n",
              "var gd = document.getElementById('63cb4724-4940-417c-a5d2-8bfc871a6cab');\n",
              "var x = new MutationObserver(function (mutations, observer) {{\n",
              "        var display = window.getComputedStyle(gd).display;\n",
              "        if (!display || display === 'none') {{\n",
              "            console.log([gd, 'removed!']);\n",
              "            Plotly.purge(gd);\n",
              "            observer.disconnect();\n",
              "        }}\n",
              "}});\n",
              "\n",
              "// Listen for the removal of the full notebook cells\n",
              "var notebookContainer = gd.closest('#notebook-container');\n",
              "if (notebookContainer) {{\n",
              "    x.observe(notebookContainer, {childList: true});\n",
              "}}\n",
              "\n",
              "// Listen for the clearing of the current output cell\n",
              "var outputEl = gd.closest('.output');\n",
              "if (outputEl) {{\n",
              "    x.observe(outputEl, {childList: true});\n",
              "}}\n",
              "\n",
              "                        })\n",
              "                };\n",
              "                \n",
              "            </script>\n",
              "        </div>\n",
              "</body>\n",
              "</html>"
            ]
          },
          "metadata": {
            "tags": []
          }
        }
      ]
    },
    {
      "cell_type": "code",
      "metadata": {
        "id": "LFBRS092lWcP",
        "colab_type": "code",
        "colab": {
          "base_uri": "https://localhost:8080/",
          "height": 35
        },
        "outputId": "d2733b6e-f9a3-4a6c-f14b-954fb34eb07c"
      },
      "source": [
        "# Keeping classes which have more than 20 values in them\n",
        "index_counts = df_train[\"condition\"].value_counts()[df_train.condition.value_counts() >= 20].index\n",
        "df_train = df_train[df_train[\"condition\"].isin(index_counts)]\n",
        "number_of_classes(df_train)"
      ],
      "execution_count": null,
      "outputs": [
        {
          "output_type": "stream",
          "text": [
            "Number of classes:  214\n"
          ],
          "name": "stdout"
        }
      ]
    },
    {
      "cell_type": "markdown",
      "metadata": {
        "id": "E2gwievCl5nT",
        "colab_type": "text"
      },
      "source": [
        "#### Balancing Classes\n",
        "Undersampling all classes with samples greater than 200 to 200"
      ]
    },
    {
      "cell_type": "code",
      "metadata": {
        "id": "wUjvztsVly18",
        "colab_type": "code",
        "colab": {}
      },
      "source": [
        "# undersampling all classes with samples greater than 200 to 200\n",
        "condition_over200 = df_train[\"condition\"].value_counts()[df_train.condition.value_counts() >= 200].index\n",
        "\n",
        "for condition in condition_over200:\n",
        "    # randomly shuffle the samples\n",
        "    condition_samples = df_train[df_train[\"condition\"]==condition]\n",
        "    condition_samples = condition_samples.sample(frac=1).reset_index(drop=True)\n",
        "\n",
        "    # extract only 200\n",
        "    condition_samples = condition_samples[:200]\n",
        "\n",
        "    df_train = df_train[df_train[\"condition\"]!=condition]\n",
        "    # put it back\n",
        "    df_train = pd.concat([df_train, condition_samples], ignore_index=True)"
      ],
      "execution_count": null,
      "outputs": []
    },
    {
      "cell_type": "markdown",
      "metadata": {
        "id": "wbSY7qCkpNPK",
        "colab_type": "text"
      },
      "source": [
        "### Filtering Labels and removing alpha numeric values.\n"
      ]
    },
    {
      "cell_type": "code",
      "metadata": {
        "id": "qAJqk5sFmCtw",
        "colab_type": "code",
        "colab": {}
      },
      "source": [
        "def filter_labels(labels):\n",
        "    labels = labels.tolist()\n",
        "    labels_truth = []\n",
        "    for label in labels:\n",
        "        if label[0].isdigit():\n",
        "            labels_truth.append(False)\n",
        "        else:\n",
        "            labels_truth.append(True)\n",
        "    return labels_truth"
      ],
      "execution_count": null,
      "outputs": []
    },
    {
      "cell_type": "code",
      "metadata": {
        "id": "RrUJ0BOtUWKg",
        "colab_type": "code",
        "colab": {
          "base_uri": "https://localhost:8080/",
          "height": 52
        },
        "outputId": "eca28baf-4a87-48ee-cf88-2c358e9ca6fc"
      },
      "source": [
        "df_train = df_train[filter_labels(df_train[\"condition\"])]\n",
        "print(\"Train \", number_of_classes(df_train))"
      ],
      "execution_count": null,
      "outputs": [
        {
          "output_type": "stream",
          "text": [
            "Number of classes:  210\n",
            "Train  None\n"
          ],
          "name": "stdout"
        }
      ]
    },
    {
      "cell_type": "code",
      "metadata": {
        "id": "0s_SS3J4Ucjs",
        "colab_type": "code",
        "colab": {
          "base_uri": "https://localhost:8080/",
          "height": 52
        },
        "outputId": "fcfff87a-5485-4770-c54c-ee7ab55792b9"
      },
      "source": [
        "df_test = df_test[filter_labels(df_test[\"condition\"])]\n",
        "print(\"Test \", number_of_classes(df_test))"
      ],
      "execution_count": null,
      "outputs": [
        {
          "output_type": "stream",
          "text": [
            "Number of classes:  664\n",
            "Test  None\n"
          ],
          "name": "stdout"
        }
      ]
    },
    {
      "cell_type": "markdown",
      "metadata": {
        "id": "xTAOfUI-prTn",
        "colab_type": "text"
      },
      "source": [
        "### Only keeping the classes that are in the training set, in to the test set"
      ]
    },
    {
      "cell_type": "code",
      "metadata": {
        "id": "wLQAL1FapVeL",
        "colab_type": "code",
        "colab": {
          "base_uri": "https://localhost:8080/",
          "height": 35
        },
        "outputId": "14ec1126-7d66-413d-9425-6877f6b4e595"
      },
      "source": [
        "df_test = df_test[df_test[\"condition\"].isin(df_train[\"condition\"])]\n",
        "number_of_classes(df_test)"
      ],
      "execution_count": null,
      "outputs": [
        {
          "output_type": "stream",
          "text": [
            "Number of classes:  210\n"
          ],
          "name": "stdout"
        }
      ]
    },
    {
      "cell_type": "markdown",
      "metadata": {
        "id": "Hr9FbFbMUmvY",
        "colab_type": "text"
      },
      "source": [
        "### Revised Class Distribution"
      ]
    },
    {
      "cell_type": "code",
      "metadata": {
        "id": "9Go7nhZaUlHd",
        "colab_type": "code",
        "colab": {
          "base_uri": "https://localhost:8080/",
          "height": 435
        },
        "outputId": "785df3a2-15f0-4bda-b400-c77ae2167f03"
      },
      "source": [
        "plot_bar_chart(df_train)"
      ],
      "execution_count": null,
      "outputs": [
        {
          "output_type": "stream",
          "text": [
            "Number of classes:  210\n"
          ],
          "name": "stdout"
        },
        {
          "output_type": "display_data",
          "data": {
            "text/html": [
              "<html>\n",
              "<head><meta charset=\"utf-8\" /></head>\n",
              "<body>\n",
              "    <div>\n",
              "            <script src=\"https://cdnjs.cloudflare.com/ajax/libs/mathjax/2.7.5/MathJax.js?config=TeX-AMS-MML_SVG\"></script><script type=\"text/javascript\">if (window.MathJax) {MathJax.Hub.Config({SVG: {font: \"STIX-Web\"}});}</script>\n",
              "                <script type=\"text/javascript\">window.PlotlyConfig = {MathJaxConfig: 'local'};</script>\n",
              "        <script src=\"https://cdn.plot.ly/plotly-latest.min.js\"></script>    \n",
              "            <div id=\"439d032c-3b25-451c-ac33-60fefadecd54\" class=\"plotly-graph-div\" style=\"height:400px; width:100%;\"></div>\n",
              "            <script type=\"text/javascript\">\n",
              "                \n",
              "                    window.PLOTLYENV=window.PLOTLYENV || {};\n",
              "                    \n",
              "                if (document.getElementById(\"439d032c-3b25-451c-ac33-60fefadecd54\")) {\n",
              "                    Plotly.newPlot(\n",
              "                        '439d032c-3b25-451c-ac33-60fefadecd54',\n",
              "                        [{\"alignmentgroup\": \"True\", \"hoverlabel\": {\"namelength\": 0}, \"hovertemplate\": \"index=%{x}<br>condition=%{y}\", \"legendgroup\": \"\", \"marker\": {\"color\": \"#636efa\"}, \"name\": \"\", \"offsetgroup\": \"\", \"orientation\": \"v\", \"showlegend\": false, \"textposition\": \"auto\", \"type\": \"bar\", \"x\": [\"Opiate Dependence\", \"Anxiety\", \"Migraine\", \"Hyperhidrosis\", \"Birth Control\", \"Overactive Bladde\", \"Muscle Spasm\", \"Generalized Anxiety Disorde\", \"Multiple Sclerosis\", \"Irritable Bowel Syndrome\", \"Sinusitis\", \"ADHD\", \"Bipolar Disorde\", \"Bacterial Infection\", \"Osteoarthritis\", \"Acne\", \"Hepatitis C\", \"High Blood Pressure\", \"Chronic Pain\", \"Abnormal Uterine Bleeding\", \"Vaginal Yeast Infection\", \"Allergic Rhinitis\", \"High Cholesterol\", \"Pain\", \"Insomnia\", \"Constipation\", \"Major Depressive Disorde\", \"Anxiety and Stress\", \"Erectile Dysfunction\", \"Smoking Cessation\", \"GERD\", \"Urinary Tract Infection\", \"Bowel Preparation\", \"Nausea/Vomiting\", \"Depression\", \"Cough\", \"Restless Legs Syndrome\", \"Obesity\", \"HIV Infection\", \"Diabetes, Type 2\", \"Migraine Prevention\", \"Rheumatoid Arthritis\", \"Panic Disorde\", \"Weight Loss\", \"ibromyalgia\", \"Emergency Contraception\", \"Psoriasis\", \"Hypogonadism, Male\", \"Schizophrenia\", \"Back Pain\", \"Endometriosis\", \"Constipation, Chronic\", \"Seizures\", \"Rosacea\", \"Obsessive Compulsive Disorde\", \"Benign Prostatic Hyperplasia\", \"Asthma, Maintenance\", \"Bronchitis\", \"Not Listed / Othe\", \"Bacterial Vaginitis\", \"Headache\", \"Narcolepsy\", \"Onychomycosis, Toenail\", \"Postmenopausal Symptoms\", \"Social Anxiety Disorde\", \"Bladder Infection\", \"Alcohol Dependence\", \"Herpes Simplex\", \"Schizoaffective Disorde\", \"Menstrual Disorders\", \"Epilepsy\", \"Underactive Thyroid\", \"Post Traumatic Stress Disorde\", \"Influenza\", \"Cough and Nasal Congestion\", \"Psoriatic Arthritis\", \"Opiate Withdrawal\", \"Cold Sores\", \"Inflammatory Conditions\", \"Nasal Congestion\", \"Breast Cance\", \"Chlamydia Infection\", \"Plaque Psoriasis\", \"Premenstrual Dysphoric Disorde\", \"Neuropathic Pain\", \"Pneumonia\", \"Osteoporosis\", \"Anesthesia\", \"Urticaria\", \"COPD, Maintenance\", \"Polycystic Ovary Syndrome\", \"Helicobacter Pylori Infection\", \"Constipation, Drug Induced\", \"Asthma\", \"Ulcerative Colitis\", \"Atrial Fibrillation\", \"Crohn's Disease, Maintenance\", \"Motion Sickness\", \"mance Anxiety\", \"Seizure Prevention\", \"Hashimoto's disease\", \"Diarrhea\", \"Alcohol Withdrawal\", \"Hot Flashes\", \"Urinary Incontinence\", \"Upper Respiratory Tract Infection\", \"Sedation\", \"Ankylosing Spondylitis\", \"Peripheral Neuropathy\", \"Gout, Acute\", \"Skin or Soft Tissue Infection\", \"Otitis Media\", \"Ovarian Cysts\", \"Diabetic Peripheral Neuropathy\", \"Atopic Dermatitis\", \"Dry Eye Disease\", \"Atrophic Vaginitis\", \"Crohn's Disease\", \"Eczema\", \"Trigeminal Neuralgia\", \"Borderline Personality Disorde\", \"Parkinson's Disease\", \"Strep Throat\", \"Allergies\", \"Hirsutism\", \"Period Pain\", \"Prostate Cance\", \"Cluster Headaches\", \"Diabetes, Type 1\", \"Interstitial Cystitis\", \"Bacterial Skin Infection\", \"Keratosis\", \"COPD\", \"Prevention of Thromboembolism in Atrial Fibrillation\", \"Herpes Simplex, Suppression\", \"Postherpetic Neuralgia\", \"Urinary Tract Stones\", \"Diverticulitis\", \"Ulcerative Colitis, Active\", \"Arrhythmia\", \"Edema\", \"Non-Small Cell Lung Cance\", \"Sciatica\", \"Human Papilloma Virus\", \"Nausea/Vomiting of Pregnancy\", \"Obstructive Sleep Apnea/Hypopnea Syndrome\", \"Systemic Lupus Erythematosus\", \"Hypothyroidism, After Thyroid Removal\", \"Alopecia\", \"Premature Lab\", \"Cold Symptoms\", \"Supraventricular Tachycardia\", \"Dermatitis\", \"Asthma, acute\", \"moterol)\", \"Alzheimer's Disease\", \"Head Lice\", \"Kidney Infections\", \"Anorexia\", \"Muscle Pain\", \"Rhinitis\", \"Autism\", \"Neuralgia\", \"Angina\", \"Postpartum Depression\", \"Renal Cell Carcinoma\", \"Hemorrhoids\", \"Allergic Reactions\", \"Binge Eating Disorde\", \"Sexual Dysfunction, SSRI Induced\", \"Benign Essential Trem\", \"Melasma\", \"Pseudotumor Cerebri\", \"Dysuria\", \"Chronic Fatigue Syndrome\", \"Heart Failure\", \"Hypertriglyceridemia\", \"Pulmonary Hypertension\", \"Amenorrhea\", \"Breast Cancer, Metastatic\", \"Chronic Myelogenous Leukemia\", \"Gout\", \"Keratoconjunctivitis Sicca\", \"Hypersomnia\", \"Psychosis\", \"Vitamin/Mineral Supplementation during Pregnancy/Lactation\", \"Deep Vein Thrombosis\", \"Prostatitis\", \"Shift Work Sleep Disorde\", \"Diarrhea, Chronic\", \"Tonsillitis/Pharyngitis\", \"Light Sedation\", \"Dental Abscess\", \"Vertig\", \"Chronic Idiopathic Constipation\", \"Dietary Supplementation\", \"emale Infertility\", \"Dry Skin\", \"Cervical Dystonia\", \"Sinus Symptoms\", \"Conjunctivitis, Allergic\", \"Stomach Ulce\", \"Tendonitis\", \"Seasonal Allergic Conjunctivitis\", \"atigue\", \"Tourette's Syndrome\", \"Pulmonary Embolism\", \"Mania\", \"Indigestion\", \"Erosive Esophagitis\"], \"xaxis\": \"x\", \"y\": [200, 200, 200, 200, 200, 200, 200, 200, 200, 200, 200, 200, 200, 200, 200, 200, 200, 200, 200, 200, 200, 200, 200, 200, 200, 200, 200, 200, 200, 200, 200, 200, 200, 200, 200, 200, 200, 200, 200, 200, 200, 200, 200, 200, 200, 200, 198, 195, 195, 192, 192, 179, 176, 175, 173, 165, 158, 157, 153, 153, 153, 152, 137, 136, 133, 130, 130, 129, 127, 127, 120, 118, 118, 117, 113, 112, 107, 105, 103, 100, 99, 98, 98, 98, 96, 88, 86, 86, 80, 78, 78, 77, 77, 77, 75, 75, 74, 72, 72, 71, 71, 69, 68, 67, 64, 64, 63, 61, 60, 56, 56, 55, 55, 54, 54, 54, 53, 53, 52, 51, 50, 50, 49, 49, 48, 48, 47, 46, 45, 45, 45, 45, 45, 44, 44, 43, 43, 43, 43, 42, 41, 40, 40, 39, 38, 37, 37, 37, 36, 36, 35, 35, 35, 34, 34, 32, 32, 32, 31, 31, 31, 31, 31, 30, 30, 30, 30, 30, 29, 29, 28, 28, 28, 28, 28, 27, 26, 26, 26, 26, 26, 26, 26, 25, 25, 25, 24, 24, 24, 24, 23, 23, 23, 23, 22, 22, 22, 22, 21, 21, 21, 21, 21, 21, 21, 21, 20, 20, 20, 20], \"yaxis\": \"y\"}],\n",
              "                        {\"barmode\": \"relative\", \"height\": 400, \"legend\": {\"tracegroupgap\": 0}, \"template\": {\"data\": {\"bar\": [{\"error_x\": {\"color\": \"#2a3f5f\"}, \"error_y\": {\"color\": \"#2a3f5f\"}, \"marker\": {\"line\": {\"color\": \"#E5ECF6\", \"width\": 0.5}}, \"type\": \"bar\"}], \"barpolar\": [{\"marker\": {\"line\": {\"color\": \"#E5ECF6\", \"width\": 0.5}}, \"type\": \"barpolar\"}], \"carpet\": [{\"aaxis\": {\"endlinecolor\": \"#2a3f5f\", \"gridcolor\": \"white\", \"linecolor\": \"white\", \"minorgridcolor\": \"white\", \"startlinecolor\": \"#2a3f5f\"}, \"baxis\": {\"endlinecolor\": \"#2a3f5f\", \"gridcolor\": \"white\", \"linecolor\": \"white\", \"minorgridcolor\": \"white\", \"startlinecolor\": \"#2a3f5f\"}, \"type\": \"carpet\"}], \"choropleth\": [{\"colorbar\": {\"outlinewidth\": 0, \"ticks\": \"\"}, \"type\": \"choropleth\"}], \"contour\": [{\"colorbar\": {\"outlinewidth\": 0, \"ticks\": \"\"}, \"colorscale\": [[0.0, \"#0d0887\"], [0.1111111111111111, \"#46039f\"], [0.2222222222222222, \"#7201a8\"], [0.3333333333333333, \"#9c179e\"], [0.4444444444444444, \"#bd3786\"], [0.5555555555555556, \"#d8576b\"], [0.6666666666666666, \"#ed7953\"], [0.7777777777777778, \"#fb9f3a\"], [0.8888888888888888, \"#fdca26\"], [1.0, \"#f0f921\"]], \"type\": \"contour\"}], \"contourcarpet\": [{\"colorbar\": {\"outlinewidth\": 0, \"ticks\": \"\"}, \"type\": \"contourcarpet\"}], \"heatmap\": [{\"colorbar\": {\"outlinewidth\": 0, \"ticks\": \"\"}, \"colorscale\": [[0.0, \"#0d0887\"], [0.1111111111111111, \"#46039f\"], [0.2222222222222222, \"#7201a8\"], [0.3333333333333333, \"#9c179e\"], [0.4444444444444444, \"#bd3786\"], [0.5555555555555556, \"#d8576b\"], [0.6666666666666666, \"#ed7953\"], [0.7777777777777778, \"#fb9f3a\"], [0.8888888888888888, \"#fdca26\"], [1.0, \"#f0f921\"]], \"type\": \"heatmap\"}], \"heatmapgl\": [{\"colorbar\": {\"outlinewidth\": 0, \"ticks\": \"\"}, \"colorscale\": [[0.0, \"#0d0887\"], [0.1111111111111111, \"#46039f\"], [0.2222222222222222, \"#7201a8\"], [0.3333333333333333, \"#9c179e\"], [0.4444444444444444, \"#bd3786\"], [0.5555555555555556, \"#d8576b\"], [0.6666666666666666, \"#ed7953\"], [0.7777777777777778, \"#fb9f3a\"], [0.8888888888888888, \"#fdca26\"], [1.0, \"#f0f921\"]], \"type\": \"heatmapgl\"}], \"histogram\": [{\"marker\": {\"colorbar\": {\"outlinewidth\": 0, \"ticks\": \"\"}}, \"type\": \"histogram\"}], \"histogram2d\": [{\"colorbar\": {\"outlinewidth\": 0, \"ticks\": \"\"}, \"colorscale\": [[0.0, \"#0d0887\"], [0.1111111111111111, \"#46039f\"], [0.2222222222222222, \"#7201a8\"], [0.3333333333333333, \"#9c179e\"], [0.4444444444444444, \"#bd3786\"], [0.5555555555555556, \"#d8576b\"], [0.6666666666666666, \"#ed7953\"], [0.7777777777777778, \"#fb9f3a\"], [0.8888888888888888, \"#fdca26\"], [1.0, \"#f0f921\"]], \"type\": \"histogram2d\"}], \"histogram2dcontour\": [{\"colorbar\": {\"outlinewidth\": 0, \"ticks\": \"\"}, \"colorscale\": [[0.0, \"#0d0887\"], [0.1111111111111111, \"#46039f\"], [0.2222222222222222, \"#7201a8\"], [0.3333333333333333, \"#9c179e\"], [0.4444444444444444, \"#bd3786\"], [0.5555555555555556, \"#d8576b\"], [0.6666666666666666, \"#ed7953\"], [0.7777777777777778, \"#fb9f3a\"], [0.8888888888888888, \"#fdca26\"], [1.0, \"#f0f921\"]], \"type\": \"histogram2dcontour\"}], \"mesh3d\": [{\"colorbar\": {\"outlinewidth\": 0, \"ticks\": \"\"}, \"type\": \"mesh3d\"}], \"parcoords\": [{\"line\": {\"colorbar\": {\"outlinewidth\": 0, \"ticks\": \"\"}}, \"type\": \"parcoords\"}], \"pie\": [{\"automargin\": true, \"type\": \"pie\"}], \"scatter\": [{\"marker\": {\"colorbar\": {\"outlinewidth\": 0, \"ticks\": \"\"}}, \"type\": \"scatter\"}], \"scatter3d\": [{\"line\": {\"colorbar\": {\"outlinewidth\": 0, \"ticks\": \"\"}}, \"marker\": {\"colorbar\": {\"outlinewidth\": 0, \"ticks\": \"\"}}, \"type\": \"scatter3d\"}], \"scattercarpet\": [{\"marker\": {\"colorbar\": {\"outlinewidth\": 0, \"ticks\": \"\"}}, \"type\": \"scattercarpet\"}], \"scattergeo\": [{\"marker\": {\"colorbar\": {\"outlinewidth\": 0, \"ticks\": \"\"}}, \"type\": \"scattergeo\"}], \"scattergl\": [{\"marker\": {\"colorbar\": {\"outlinewidth\": 0, \"ticks\": \"\"}}, \"type\": \"scattergl\"}], \"scattermapbox\": [{\"marker\": {\"colorbar\": {\"outlinewidth\": 0, \"ticks\": \"\"}}, \"type\": \"scattermapbox\"}], \"scatterpolar\": [{\"marker\": {\"colorbar\": {\"outlinewidth\": 0, \"ticks\": \"\"}}, \"type\": \"scatterpolar\"}], \"scatterpolargl\": [{\"marker\": {\"colorbar\": {\"outlinewidth\": 0, \"ticks\": \"\"}}, \"type\": \"scatterpolargl\"}], \"scatterternary\": [{\"marker\": {\"colorbar\": {\"outlinewidth\": 0, \"ticks\": \"\"}}, \"type\": \"scatterternary\"}], \"surface\": [{\"colorbar\": {\"outlinewidth\": 0, \"ticks\": \"\"}, \"colorscale\": [[0.0, \"#0d0887\"], [0.1111111111111111, \"#46039f\"], [0.2222222222222222, \"#7201a8\"], [0.3333333333333333, \"#9c179e\"], [0.4444444444444444, \"#bd3786\"], [0.5555555555555556, \"#d8576b\"], [0.6666666666666666, \"#ed7953\"], [0.7777777777777778, \"#fb9f3a\"], [0.8888888888888888, \"#fdca26\"], [1.0, \"#f0f921\"]], \"type\": \"surface\"}], \"table\": [{\"cells\": {\"fill\": {\"color\": \"#EBF0F8\"}, \"line\": {\"color\": \"white\"}}, \"header\": {\"fill\": {\"color\": \"#C8D4E3\"}, \"line\": {\"color\": \"white\"}}, \"type\": \"table\"}]}, \"layout\": {\"annotationdefaults\": {\"arrowcolor\": \"#2a3f5f\", \"arrowhead\": 0, \"arrowwidth\": 1}, \"coloraxis\": {\"colorbar\": {\"outlinewidth\": 0, \"ticks\": \"\"}}, \"colorscale\": {\"diverging\": [[0, \"#8e0152\"], [0.1, \"#c51b7d\"], [0.2, \"#de77ae\"], [0.3, \"#f1b6da\"], [0.4, \"#fde0ef\"], [0.5, \"#f7f7f7\"], [0.6, \"#e6f5d0\"], [0.7, \"#b8e186\"], [0.8, \"#7fbc41\"], [0.9, \"#4d9221\"], [1, \"#276419\"]], \"sequential\": [[0.0, \"#0d0887\"], [0.1111111111111111, \"#46039f\"], [0.2222222222222222, \"#7201a8\"], [0.3333333333333333, \"#9c179e\"], [0.4444444444444444, \"#bd3786\"], [0.5555555555555556, \"#d8576b\"], [0.6666666666666666, \"#ed7953\"], [0.7777777777777778, \"#fb9f3a\"], [0.8888888888888888, \"#fdca26\"], [1.0, \"#f0f921\"]], \"sequentialminus\": [[0.0, \"#0d0887\"], [0.1111111111111111, \"#46039f\"], [0.2222222222222222, \"#7201a8\"], [0.3333333333333333, \"#9c179e\"], [0.4444444444444444, \"#bd3786\"], [0.5555555555555556, \"#d8576b\"], [0.6666666666666666, \"#ed7953\"], [0.7777777777777778, \"#fb9f3a\"], [0.8888888888888888, \"#fdca26\"], [1.0, \"#f0f921\"]]}, \"colorway\": [\"#636efa\", \"#EF553B\", \"#00cc96\", \"#ab63fa\", \"#FFA15A\", \"#19d3f3\", \"#FF6692\", \"#B6E880\", \"#FF97FF\", \"#FECB52\"], \"font\": {\"color\": \"#2a3f5f\"}, \"geo\": {\"bgcolor\": \"white\", \"lakecolor\": \"white\", \"landcolor\": \"#E5ECF6\", \"showlakes\": true, \"showland\": true, \"subunitcolor\": \"white\"}, \"hoverlabel\": {\"align\": \"left\"}, \"hovermode\": \"closest\", \"mapbox\": {\"style\": \"light\"}, \"paper_bgcolor\": \"white\", \"plot_bgcolor\": \"#E5ECF6\", \"polar\": {\"angularaxis\": {\"gridcolor\": \"white\", \"linecolor\": \"white\", \"ticks\": \"\"}, \"bgcolor\": \"#E5ECF6\", \"radialaxis\": {\"gridcolor\": \"white\", \"linecolor\": \"white\", \"ticks\": \"\"}}, \"scene\": {\"xaxis\": {\"backgroundcolor\": \"#E5ECF6\", \"gridcolor\": \"white\", \"gridwidth\": 2, \"linecolor\": \"white\", \"showbackground\": true, \"ticks\": \"\", \"zerolinecolor\": \"white\"}, \"yaxis\": {\"backgroundcolor\": \"#E5ECF6\", \"gridcolor\": \"white\", \"gridwidth\": 2, \"linecolor\": \"white\", \"showbackground\": true, \"ticks\": \"\", \"zerolinecolor\": \"white\"}, \"zaxis\": {\"backgroundcolor\": \"#E5ECF6\", \"gridcolor\": \"white\", \"gridwidth\": 2, \"linecolor\": \"white\", \"showbackground\": true, \"ticks\": \"\", \"zerolinecolor\": \"white\"}}, \"shapedefaults\": {\"line\": {\"color\": \"#2a3f5f\"}}, \"ternary\": {\"aaxis\": {\"gridcolor\": \"white\", \"linecolor\": \"white\", \"ticks\": \"\"}, \"baxis\": {\"gridcolor\": \"white\", \"linecolor\": \"white\", \"ticks\": \"\"}, \"bgcolor\": \"#E5ECF6\", \"caxis\": {\"gridcolor\": \"white\", \"linecolor\": \"white\", \"ticks\": \"\"}}, \"title\": {\"x\": 0.05}, \"xaxis\": {\"automargin\": true, \"gridcolor\": \"white\", \"linecolor\": \"white\", \"ticks\": \"\", \"title\": {\"standoff\": 15}, \"zerolinecolor\": \"white\", \"zerolinewidth\": 2}, \"yaxis\": {\"automargin\": true, \"gridcolor\": \"white\", \"linecolor\": \"white\", \"ticks\": \"\", \"title\": {\"standoff\": 15}, \"zerolinecolor\": \"white\", \"zerolinewidth\": 2}}}, \"title\": {\"text\": \"xc\"}, \"xaxis\": {\"anchor\": \"y\", \"domain\": [0.0, 1.0], \"title\": {\"text\": \"index\"}}, \"yaxis\": {\"anchor\": \"x\", \"domain\": [0.0, 1.0], \"title\": {\"text\": \"condition\"}}},\n",
              "                        {\"responsive\": true}\n",
              "                    ).then(function(){\n",
              "                            \n",
              "var gd = document.getElementById('439d032c-3b25-451c-ac33-60fefadecd54');\n",
              "var x = new MutationObserver(function (mutations, observer) {{\n",
              "        var display = window.getComputedStyle(gd).display;\n",
              "        if (!display || display === 'none') {{\n",
              "            console.log([gd, 'removed!']);\n",
              "            Plotly.purge(gd);\n",
              "            observer.disconnect();\n",
              "        }}\n",
              "}});\n",
              "\n",
              "// Listen for the removal of the full notebook cells\n",
              "var notebookContainer = gd.closest('#notebook-container');\n",
              "if (notebookContainer) {{\n",
              "    x.observe(notebookContainer, {childList: true});\n",
              "}}\n",
              "\n",
              "// Listen for the clearing of the current output cell\n",
              "var outputEl = gd.closest('.output');\n",
              "if (outputEl) {{\n",
              "    x.observe(outputEl, {childList: true});\n",
              "}}\n",
              "\n",
              "                        })\n",
              "                };\n",
              "                \n",
              "            </script>\n",
              "        </div>\n",
              "</body>\n",
              "</html>"
            ]
          },
          "metadata": {
            "tags": []
          }
        }
      ]
    },
    {
      "cell_type": "markdown",
      "metadata": {
        "id": "MCE4ntKKUrb9",
        "colab_type": "text"
      },
      "source": [
        "## Reviews Preprocessing"
      ]
    },
    {
      "cell_type": "markdown",
      "metadata": {
        "id": "TjZEWRi9qYQc",
        "colab_type": "text"
      },
      "source": [
        "### Removing Stepwords and stemming"
      ]
    },
    {
      "cell_type": "code",
      "metadata": {
        "id": "j3vbOMLDqjFg",
        "colab_type": "code",
        "colab": {
          "base_uri": "https://localhost:8080/",
          "height": 69
        },
        "outputId": "b7dcc6dc-e28a-41eb-be2d-41893ea2c0a9"
      },
      "source": [
        "import nltk\n",
        "nltk.download('stopwords')"
      ],
      "execution_count": null,
      "outputs": [
        {
          "output_type": "stream",
          "text": [
            "[nltk_data] Downloading package stopwords to /root/nltk_data...\n",
            "[nltk_data]   Package stopwords is already up-to-date!\n"
          ],
          "name": "stdout"
        },
        {
          "output_type": "execute_result",
          "data": {
            "text/plain": [
              "True"
            ]
          },
          "metadata": {
            "tags": []
          },
          "execution_count": 13
        }
      ]
    },
    {
      "cell_type": "markdown",
      "metadata": {
        "id": "7p6ZKgxhPxwr",
        "colab_type": "text"
      },
      "source": [
        "### Lower Casing Reviews"
      ]
    },
    {
      "cell_type": "code",
      "metadata": {
        "id": "lFORfDgPp2On",
        "colab_type": "code",
        "colab": {}
      },
      "source": [
        "# combining drug name with review\n",
        "# df_train[\"combined\"] = df_train[\"drugName\"].str.lower() + \": \" + df_train[\"review\"].str.lower()\n",
        "# df_test[\"combined\"] = df_test[\"drugName\"].str.lower() + \": \" + df_test[\"review\"].str.lower()\n",
        "\n",
        "df_train[\"review\"] = df_train[\"review\"].str.lower()\n",
        "df_test[\"review\"] = df_test[\"review\"].str.lower()"
      ],
      "execution_count": null,
      "outputs": []
    },
    {
      "cell_type": "code",
      "metadata": {
        "id": "VWtV-f7SqCSq",
        "colab_type": "code",
        "colab": {}
      },
      "source": [
        "import string\n",
        "\n",
        "def filter_data(reviews):\n",
        "  \n",
        "  \"\"\"\n",
        "  Filter the corpus of training and testing df.\n",
        "  This function removes stop and stem words from the corpus\n",
        "  :param reviews:\n",
        "  :return:\n",
        "  \"\"\"\n",
        "  stop = stopwords.words('english')\n",
        "  stemmer = SnowballStemmer(\"english\")\n",
        "\n",
        "  # remove punctuations\n",
        "  series = reviews.str.replace('[{}]'.format(string.punctuation), '')\n",
        "\n",
        "  # remove stop words\n",
        "  series = series.apply(\n",
        "      lambda x: ' '.join([word for word in x.split() if word not in stop]))\n",
        "\n",
        "  # remove stem words\n",
        "  series = series.apply(lambda x: ' '.join([stemmer.stem(word) for word in x.split()]))\n",
        "\n",
        "  return series\n",
        "    \n",
        "df_train[\"review\"] = filter_data(df_train[\"review\"]).str.lower()\n",
        "df_test[\"review\"] = filter_data(df_test[\"review\"]).str.lower()"
      ],
      "execution_count": null,
      "outputs": []
    },
    {
      "cell_type": "markdown",
      "metadata": {
        "id": "T539dPZQp0cg",
        "colab_type": "text"
      },
      "source": [
        "### Lowercasing Classes"
      ]
    },
    {
      "cell_type": "code",
      "metadata": {
        "id": "4Jr9ECMVp8c7",
        "colab_type": "code",
        "colab": {}
      },
      "source": [
        "\n",
        "df_train[\"Label\"] = df_train[\"condition\"].str.lower()\n",
        "df_test[\"Label\"] = df_test[\"condition\"].str.lower()"
      ],
      "execution_count": null,
      "outputs": []
    },
    {
      "cell_type": "code",
      "metadata": {
        "id": "UfIWTejVKv_l",
        "colab_type": "code",
        "colab": {
          "base_uri": "https://localhost:8080/",
          "height": 225
        },
        "outputId": "473eb160-a6e0-4a26-b072-b4a5971b2cfa"
      },
      "source": [
        "df_test[\"Label\"]"
      ],
      "execution_count": null,
      "outputs": [
        {
          "output_type": "execute_result",
          "data": {
            "text/plain": [
              "0                          depression\n",
              "1        crohn's disease, maintenance\n",
              "2             urinary tract infection\n",
              "3                         weight loss\n",
              "4                       birth control\n",
              "                     ...             \n",
              "53760                   birth control\n",
              "53762                         anxiety\n",
              "53763                   birth control\n",
              "53764                            pain\n",
              "53765                        sciatica\n",
              "Name: Label, Length: 51122, dtype: object"
            ]
          },
          "metadata": {
            "tags": []
          },
          "execution_count": 18
        }
      ]
    },
    {
      "cell_type": "markdown",
      "metadata": {
        "id": "gGZlqzgJq4DL",
        "colab_type": "text"
      },
      "source": [
        "## Creating Model for Reviews Only"
      ]
    },
    {
      "cell_type": "code",
      "metadata": {
        "id": "WWHh599omIP-",
        "colab_type": "code",
        "colab": {}
      },
      "source": [
        "# shuffle the training dataframe and saving the columns in X and Y\n",
        "df_train = df_train.sample(frac=1)\n",
        "X = df_train['review']\n",
        "Y = df_train['Label']"
      ],
      "execution_count": null,
      "outputs": []
    },
    {
      "cell_type": "markdown",
      "metadata": {
        "id": "AW1p67xtQ60o",
        "colab_type": "text"
      },
      "source": [
        "### Creating Count Vectorizer Object and transforming whole training dataset from it"
      ]
    },
    {
      "cell_type": "code",
      "metadata": {
        "id": "kmYfmhA3Qlo2",
        "colab_type": "code",
        "colab": {}
      },
      "source": [
        "count_vectorizer = CountVectorizer(ngram_range=(1,2))\n",
        "X_count_vec = count_vectorizer.fit_transform(X)"
      ],
      "execution_count": null,
      "outputs": []
    },
    {
      "cell_type": "markdown",
      "metadata": {
        "id": "N_4aY1tOQlTC",
        "colab_type": "text"
      },
      "source": [
        "### Defining a function for K-Fold Cross Validation for multiple classifiers"
      ]
    },
    {
      "cell_type": "code",
      "metadata": {
        "id": "K9KZnP2iGGeL",
        "colab_type": "code",
        "colab": {}
      },
      "source": [
        "def cross_val_multiple_classifiers(X, Y):\n",
        "  classifiers = [MultinomialNB(), SGDClassifier(loss=\"modified_huber\"), \n",
        "                 RandomForestClassifier(n_estimators=100), \n",
        "                 KNeighborsClassifier(n_neighbors=5)]\n",
        "  labels = ['Multinomial Naive Bayes', 'SGD Classifier', 'Random Forest',  'KNN']\n",
        "  clf_cv_mean = []\n",
        "  clf_cv_std = []\n",
        "  for clf, label in zip(classifiers, labels): \n",
        "      scores = cross_val_score(clf, X, Y, cv=4, scoring='accuracy')\n",
        "      print (\"Accuracy: %.2f (+/- %.2f) [%s]\" %(scores.mean(), scores.std(), label))\n",
        "\n"
      ],
      "execution_count": null,
      "outputs": []
    },
    {
      "cell_type": "markdown",
      "metadata": {
        "id": "xTl5f1W1SHcw",
        "colab_type": "text"
      },
      "source": [
        "#### Calling K Fold validation of multiple classifiers on Count Vectorized Dataset"
      ]
    },
    {
      "cell_type": "code",
      "metadata": {
        "id": "7mJDUSOW0KPo",
        "colab_type": "code",
        "colab": {
          "base_uri": "https://localhost:8080/",
          "height": 87
        },
        "outputId": "51383459-858a-410d-d1a8-ef411311cb82"
      },
      "source": [
        "# calling multiple classifiers on the vectorized features\n",
        "cross_val_multiple_classifiers(X_count_vec, Y)"
      ],
      "execution_count": null,
      "outputs": [
        {
          "output_type": "stream",
          "text": [
            "Accuracy: 0.41 (+/- 0.01) [Multinomial Naive Bayes]\n",
            "Accuracy: 0.47 (+/- 0.00) [SGD Classifier]\n",
            "Accuracy: 0.54 (+/- 0.00) [Random Forest]\n",
            "Accuracy: 0.06 (+/- 0.00) [KNN]\n"
          ],
          "name": "stdout"
        }
      ]
    },
    {
      "cell_type": "markdown",
      "metadata": {
        "id": "qvxm50PkYEUQ",
        "colab_type": "text"
      },
      "source": [
        "## Training the best model for getting results on the Test Set"
      ]
    },
    {
      "cell_type": "code",
      "metadata": {
        "id": "zjF-hhk7YQUP",
        "colab_type": "code",
        "colab": {}
      },
      "source": [
        "# training the Random Forest Classifier on complete training data\n",
        "fin_clf = RandomForestClassifier(n_estimators=100)\n",
        "fin_clf.fit(X_count_vec, Y)\n",
        "\n",
        "# transforming test_data with count vectorizer\n",
        "X_test_vec = count_vectorizer.transform(df_test['review'])\n",
        "\n",
        "# getting preds on the test data\n",
        "preds = fin_clf.predict(X_test_vec)"
      ],
      "execution_count": null,
      "outputs": []
    },
    {
      "cell_type": "code",
      "metadata": {
        "id": "Cb82nRdzN67c",
        "colab_type": "code",
        "colab": {
          "base_uri": "https://localhost:8080/",
          "height": 69
        },
        "outputId": "6e9efc0e-1284-4d4a-8f07-8d32f393bbce"
      },
      "source": [
        "from sklearn.metrics import accuracy_score\n",
        "from sklearn.metrics import f1_score\n",
        "\n",
        "print(\"Accuracy on test data: \", accuracy_score(df_test[\"Label\"].str.lower(), \n",
        "                                                preds))\n",
        "print(\"Macro F-1 Score on test data: \", f1_score(df_test[\"Label\"].str.lower(), \n",
        "                                                preds, average=\"macro\"))\n",
        "print(\"Micro F-1 Score on test data: \", f1_score(df_test[\"Label\"].str.lower(), \n",
        "                                                preds, average=\"micro\"))"
      ],
      "execution_count": null,
      "outputs": [
        {
          "output_type": "stream",
          "text": [
            "Accuracy on test data:  0.7017722311333673\n",
            "Macro F-1 Score on test data:  0.859285546997113\n",
            "Micro F-1 Score on test data:  0.7017722311333673\n"
          ],
          "name": "stdout"
        }
      ]
    }
  ]
}