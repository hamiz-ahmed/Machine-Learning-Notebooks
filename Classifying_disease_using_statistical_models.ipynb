{
  "nbformat": 4,
  "nbformat_minor": 0,
  "metadata": {
    "colab": {
      "name": "Classifying disease using statistical models.ipynb",
      "provenance": [],
      "toc_visible": true,
      "mount_file_id": "1zBYsRBwcXwalkL2FHKvslZwjZRGZZDeR",
      "authorship_tag": "ABX9TyN6fNRYjqNwy2Lf1NHXWlmH"
    },
    "kernelspec": {
      "name": "python3",
      "display_name": "Python 3"
    }
  },
  "cells": [
    {
      "cell_type": "markdown",
      "metadata": {
        "id": "XtEjvPOKkiAJ",
        "colab_type": "text"
      },
      "source": [
        "### Import Libraries\n"
      ]
    },
    {
      "cell_type": "code",
      "metadata": {
        "id": "M84HvXipkZfk",
        "colab_type": "code",
        "colab": {}
      },
      "source": [
        "from sklearn.model_selection import train_test_split, cross_val_score, cross_val_predict, StratifiedKFold\n",
        "import plotly.express as px\n",
        "import numpy as np\n",
        "import pandas as pd\n",
        "from mlxtend.plotting import plot_learning_curves\n",
        "from sklearn.preprocessing import LabelEncoder\n",
        "\n",
        "\n",
        "from sklearn.pipeline import Pipeline\n",
        "from sklearn.feature_extraction.text import CountVectorizer, TfidfVectorizer, TfidfTransformer\n",
        "from sklearn.multiclass import OneVsRestClassifier\n",
        "from nltk.corpus import stopwords\n",
        "from sklearn.ensemble import RandomForestClassifier\n",
        "from sklearn.naive_bayes import MultinomialNB, GaussianNB\n",
        "from sklearn.linear_model import LogisticRegression, SGDClassifier\n",
        "from sklearn.neighbors import KNeighborsClassifier\n",
        "from nltk.stem import WordNetLemmatizer, SnowballStemmer"
      ],
      "execution_count": null,
      "outputs": []
    },
    {
      "cell_type": "markdown",
      "metadata": {
        "id": "GyBYtDC9k-L8",
        "colab_type": "text"
      },
      "source": [
        "## Data Preprocessing"
      ]
    },
    {
      "cell_type": "code",
      "metadata": {
        "id": "welfC3_Ekov4",
        "colab_type": "code",
        "colab": {}
      },
      "source": [
        "# train data\n",
        "df_train = pd.read_csv(\"/content/drive/My Drive/data/drugsComTest_raw.csv\")\n",
        "\n",
        "# test data\n",
        "df_test = pd.read_csv(\"/content/drive/My Drive/data/drugsComTest_raw.csv\")"
      ],
      "execution_count": null,
      "outputs": []
    },
    {
      "cell_type": "code",
      "metadata": {
        "id": "fr0m4LH0lGuD",
        "colab_type": "code",
        "colab": {}
      },
      "source": [
        "# Removing nan values\n",
        "df_train = df_train.dropna()\n",
        "df_test = df_test.dropna()"
      ],
      "execution_count": null,
      "outputs": []
    },
    {
      "cell_type": "code",
      "metadata": {
        "id": "1qrGpjiHlIXG",
        "colab_type": "code",
        "colab": {
          "base_uri": "https://localhost:8080/",
          "height": 195
        },
        "outputId": "892e218d-5659-4d6b-dc07-292adddd51ac"
      },
      "source": [
        "df_train.head()"
      ],
      "execution_count": null,
      "outputs": [
        {
          "output_type": "execute_result",
          "data": {
            "text/html": [
              "<div>\n",
              "<style scoped>\n",
              "    .dataframe tbody tr th:only-of-type {\n",
              "        vertical-align: middle;\n",
              "    }\n",
              "\n",
              "    .dataframe tbody tr th {\n",
              "        vertical-align: top;\n",
              "    }\n",
              "\n",
              "    .dataframe thead th {\n",
              "        text-align: right;\n",
              "    }\n",
              "</style>\n",
              "<table border=\"1\" class=\"dataframe\">\n",
              "  <thead>\n",
              "    <tr style=\"text-align: right;\">\n",
              "      <th></th>\n",
              "      <th>uniqueID</th>\n",
              "      <th>drugName</th>\n",
              "      <th>condition</th>\n",
              "      <th>review</th>\n",
              "      <th>rating</th>\n",
              "      <th>date</th>\n",
              "      <th>usefulCount</th>\n",
              "    </tr>\n",
              "  </thead>\n",
              "  <tbody>\n",
              "    <tr>\n",
              "      <th>0</th>\n",
              "      <td>163740</td>\n",
              "      <td>Mirtazapine</td>\n",
              "      <td>Depression</td>\n",
              "      <td>\"I&amp;#039;ve tried a few antidepressants over th...</td>\n",
              "      <td>10</td>\n",
              "      <td>28-Feb-12</td>\n",
              "      <td>22</td>\n",
              "    </tr>\n",
              "    <tr>\n",
              "      <th>1</th>\n",
              "      <td>206473</td>\n",
              "      <td>Mesalamine</td>\n",
              "      <td>Crohn's Disease, Maintenance</td>\n",
              "      <td>\"My son has Crohn&amp;#039;s disease and has done ...</td>\n",
              "      <td>8</td>\n",
              "      <td>17-May-09</td>\n",
              "      <td>17</td>\n",
              "    </tr>\n",
              "    <tr>\n",
              "      <th>2</th>\n",
              "      <td>159672</td>\n",
              "      <td>Bactrim</td>\n",
              "      <td>Urinary Tract Infection</td>\n",
              "      <td>\"Quick reduction of symptoms\"</td>\n",
              "      <td>9</td>\n",
              "      <td>29-Sep-17</td>\n",
              "      <td>3</td>\n",
              "    </tr>\n",
              "    <tr>\n",
              "      <th>3</th>\n",
              "      <td>39293</td>\n",
              "      <td>Contrave</td>\n",
              "      <td>Weight Loss</td>\n",
              "      <td>\"Contrave combines drugs that were used for al...</td>\n",
              "      <td>9</td>\n",
              "      <td>5-Mar-17</td>\n",
              "      <td>35</td>\n",
              "    </tr>\n",
              "    <tr>\n",
              "      <th>4</th>\n",
              "      <td>97768</td>\n",
              "      <td>Cyclafem 1 / 35</td>\n",
              "      <td>Birth Control</td>\n",
              "      <td>\"I have been on this birth control for one cyc...</td>\n",
              "      <td>9</td>\n",
              "      <td>22-Oct-15</td>\n",
              "      <td>4</td>\n",
              "    </tr>\n",
              "  </tbody>\n",
              "</table>\n",
              "</div>"
            ],
            "text/plain": [
              "   uniqueID         drugName  ...       date usefulCount\n",
              "0    163740      Mirtazapine  ...  28-Feb-12          22\n",
              "1    206473       Mesalamine  ...  17-May-09          17\n",
              "2    159672          Bactrim  ...  29-Sep-17           3\n",
              "3     39293         Contrave  ...   5-Mar-17          35\n",
              "4     97768  Cyclafem 1 / 35  ...  22-Oct-15           4\n",
              "\n",
              "[5 rows x 7 columns]"
            ]
          },
          "metadata": {
            "tags": []
          },
          "execution_count": 35
        }
      ]
    },
    {
      "cell_type": "markdown",
      "metadata": {
        "id": "VqATJK0AlPST",
        "colab_type": "text"
      },
      "source": [
        "#### Show Class Distibution "
      ]
    },
    {
      "cell_type": "code",
      "metadata": {
        "id": "9hFk5XpslJRQ",
        "colab_type": "code",
        "colab": {
          "base_uri": "https://localhost:8080/",
          "height": 434
        },
        "outputId": "4038e613-74c5-40d9-c46f-79b3a75dd295"
      },
      "source": [
        "def plot_bar_chart(df):\n",
        "    # analyze the condition labels\n",
        "    counts_series = df.condition.value_counts()\n",
        "    counts_df = pd.DataFrame(counts_series)\n",
        "    counts_df.reset_index(level=0, inplace=True)\n",
        "\n",
        "    number_of_classes(df)\n",
        "\n",
        "    fig = px.bar(counts_df, x=\"index\", y=\"condition\", orientation='v',\n",
        "              height=400,\n",
        "              title='xc')\n",
        "    fig.show()\n",
        "\n",
        "def number_of_classes(df):\n",
        "    print(\"Number of classes: \", len(df[\"condition\"].unique()))\n",
        "\n",
        "plot_bar_chart(df_train)"
      ],
      "execution_count": null,
      "outputs": [
        {
          "output_type": "stream",
          "text": [
            "Number of classes:  708\n"
          ],
          "name": "stdout"
        },
        {
          "output_type": "display_data",
          "data": {
            "text/html": [
              "<html>\n",
              "<head><meta charset=\"utf-8\" /></head>\n",
              "<body>\n",
              "    <div>\n",
              "            <script src=\"https://cdnjs.cloudflare.com/ajax/libs/mathjax/2.7.5/MathJax.js?config=TeX-AMS-MML_SVG\"></script><script type=\"text/javascript\">if (window.MathJax) {MathJax.Hub.Config({SVG: {font: \"STIX-Web\"}});}</script>\n",
              "                <script type=\"text/javascript\">window.PlotlyConfig = {MathJaxConfig: 'local'};</script>\n",
              "        <script src=\"https://cdn.plot.ly/plotly-latest.min.js\"></script>    \n",
              "            <div id=\"f46f38ef-0cee-4d11-a671-b07ce53439f5\" class=\"plotly-graph-div\" style=\"height:400px; width:100%;\"></div>\n",
              "            <script type=\"text/javascript\">\n",
              "                \n",
              "                    window.PLOTLYENV=window.PLOTLYENV || {};\n",
              "                    \n",
              "                if (document.getElementById(\"f46f38ef-0cee-4d11-a671-b07ce53439f5\")) {\n",
              "                    Plotly.newPlot(\n",
              "                        'f46f38ef-0cee-4d11-a671-b07ce53439f5',\n",
              "                        [{\"alignmentgroup\": \"True\", \"hoverlabel\": {\"namelength\": 0}, \"hovertemplate\": \"index=%{x}<br>condition=%{y}\", \"legendgroup\": \"\", \"marker\": {\"color\": \"#636efa\"}, \"name\": \"\", \"offsetgroup\": \"\", \"orientation\": \"v\", \"showlegend\": false, \"textposition\": \"auto\", \"type\": \"bar\", \"x\": [\"Birth Control\", \"Depression\", \"Pain\", \"Anxiety\", \"Acne\", \"Bipolar Disorde\", \"Weight Loss\", \"Insomnia\", \"Obesity\", \"ADHD\", \"Emergency Contraception\", \"Vaginal Yeast Infection\", \"Diabetes, Type 2\", \"High Blood Pressure\", \"Smoking Cessation\", \"Abnormal Uterine Bleeding\", \"Bowel Preparation\", \"Migraine\", \"ibromyalgia\", \"Anxiety and Stress\", \"Constipation\", \"Major Depressive Disorde\", \"Chronic Pain\", \"Panic Disorde\", \"Migraine Prevention\", \"Urinary Tract Infection\", \"Opiate Dependence\", \"Muscle Spasm\", \"Osteoarthritis\", \"Erectile Dysfunction\", \"Generalized Anxiety Disorde\", \"Allergic Rhinitis\", \"Irritable Bowel Syndrome\", \"Rheumatoid Arthritis\", \"Bacterial Infection\", \"Cough\", \"Sinusitis\", \"Nausea/Vomiting\", \"GERD\", \"Hepatitis C\", \"Restless Legs Syndrome\", \"Hyperhidrosis\", \"Overactive Bladde\", \"Multiple Sclerosis\", \"High Cholesterol\", \"HIV Infection\", \"Psoriasis\", \"Schizophrenia\", \"Hypogonadism, Male\", \"Back Pain\", \"Endometriosis\", \"Constipation, Chronic\", \"Seizures\", \"Rosacea\", \"Obsessive Compulsive Disorde\", \"Benign Prostatic Hyperplasia\", \"Asthma, Maintenance\", \"Bronchitis\", \"Headache\", \"Bacterial Vaginitis\", \"Not Listed / Othe\", \"Narcolepsy\", \"Onychomycosis, Toenail\", \"Postmenopausal Symptoms\", \"Social Anxiety Disorde\", \"Alcohol Dependence\", \"Bladder Infection\", \"Herpes Simplex\", \"Schizoaffective Disorde\", \"Menstrual Disorders\", \"Epilepsy\", \"Underactive Thyroid\", \"Post Traumatic Stress Disorde\", \"Influenza\", \"Cough and Nasal Congestion\", \"Psoriatic Arthritis\", \"Opiate Withdrawal\", \"Cold Sores\", \"Inflammatory Conditions\", \"Nasal Congestion\", \"Breast Cance\", \"Chlamydia Infection\", \"Premenstrual Dysphoric Disorde\", \"Plaque Psoriasis\", \"Neuropathic Pain\", \"Pneumonia\", \"Anesthesia\", \"Osteoporosis\", \"Urticaria\", \"COPD, Maintenance\", \"Polycystic Ovary Syndrome\", \"Constipation, Drug Induced\", \"Helicobacter Pylori Infection\", \"Asthma\", \"Ulcerative Colitis\", \"Atrial Fibrillation\", \"Crohn's Disease, Maintenance\", \"Motion Sickness\", \"mance Anxiety\", \"Hashimoto's disease\", \"Seizure Prevention\", \"Diarrhea\", \"Alcohol Withdrawal\", \"Hot Flashes\", \"Urinary Incontinence\", \"Upper Respiratory Tract Infection\", \"Sedation\", \"Ankylosing Spondylitis\", \"Peripheral Neuropathy\", \"Skin or Soft Tissue Infection\", \"Gout, Acute\", \"Otitis Media\", \"Ovarian Cysts\", \"Diabetic Peripheral Neuropathy\", \"Dry Eye Disease\", \"Atopic Dermatitis\", \"Atrophic Vaginitis\", \"Crohn's Disease\", \"Eczema\", \"Trigeminal Neuralgia\", \"Parkinson's Disease\", \"Borderline Personality Disorde\", \"Strep Throat\", \"Allergies\", \"Hirsutism\", \"Period Pain\", \"Prostate Cance\", \"Cluster Headaches\", \"Interstitial Cystitis\", \"COPD\", \"Keratosis\", \"Bacterial Skin Infection\", \"Diabetes, Type 1\", \"Herpes Simplex, Suppression\", \"Prevention of Thromboembolism in Atrial Fibrillation\", \"Diverticulitis\", \"Postherpetic Neuralgia\", \"Urinary Tract Stones\", \"Ulcerative Colitis, Active\", \"Arrhythmia\", \"Edema\", \"Sciatica\", \"Non-Small Cell Lung Cance\", \"Human Papilloma Virus\", \"Nausea/Vomiting of Pregnancy\", \"Hypothyroidism, After Thyroid Removal\", \"Obstructive Sleep Apnea/Hypopnea Syndrome\", \"Systemic Lupus Erythematosus\", \"Alopecia\", \"Premature Lab\", \"Cold Symptoms\", \"Dermatitis\", \"Supraventricular Tachycardia\", \"moterol)\", \"Asthma, acute\", \"Alzheimer's Disease\", \"Kidney Infections\", \"Head Lice\", \"Autism\", \"Anorexia\", \"Neuralgia\", \"Muscle Pain\", \"1</span> users found this comment helpful.\", \"Rhinitis\", \"Allergic Reactions\", \"Angina\", \"Postpartum Depression\", \"Renal Cell Carcinoma\", \"Hemorrhoids\", \"Sexual Dysfunction, SSRI Induced\", \"Binge Eating Disorde\", \"Pseudotumor Cerebri\", \"Benign Essential Trem\", \"Dysuria\", \"Chronic Fatigue Syndrome\", \"Melasma\", \"Heart Failure\", \"Keratoconjunctivitis Sicca\", \"Breast Cancer, Metastatic\", \"Hypertriglyceridemia\", \"Chronic Myelogenous Leukemia\", \"Gout\", \"Pulmonary Hypertension\", \"Amenorrhea\", \"Hypersomnia\", \"Psychosis\", \"Vitamin/Mineral Supplementation during Pregnancy/Lactation\", \"Deep Vein Thrombosis\", \"Shift Work Sleep Disorde\", \"Prostatitis\", \"Diarrhea, Chronic\", \"0</span> users found this comment helpful.\", \"Tonsillitis/Pharyngitis\", \"Light Sedation\", \"Dental Abscess\", \"Vertig\", \"Chronic Idiopathic Constipation\", \"Dietary Supplementation\", \"emale Infertility\", \"Dry Skin\", \"Tourette's Syndrome\", \"Cervical Dystonia\", \"4</span> users found this comment helpful.\", \"atigue\", \"Stomach Ulce\", \"Seasonal Allergic Conjunctivitis\", \"Tendonitis\", \"Sinus Symptoms\", \"Conjunctivitis, Allergic\", \"Erosive Esophagitis\", \"2</span> users found this comment helpful.\", \"Indigestion\", \"Pulmonary Embolism\", \"Mania\", \"Heart Attack\", \"5</span> users found this comment helpful.\", \"Basal Cell Carcinoma\", \"Trichomoniasis\", \"Constipation, Acute\", \"Skin and Structure Infection\", \"Prevention of Bladder infection\", \"High Cholesterol, Familial Heterozygous\", \"Barrett's Esophagus\", \"Glaucoma, Open Angle\", \"Opioid-Induced Constipation\", \"6</span> users found this comment helpful.\", \"Sjogren's Syndrome\", \"Conjunctivitis, Bacterial\", \"Periodic Limb Movement Disorde\", \"3</span> users found this comment helpful.\", \"Pruritus\", \"Uterine Fibroids\", \"Androgenetic Alopecia\", \"Bulimia\", \"Menorrhagia\", \"Iron Deficiency Anemia\", \"min)\", \"Eye Redness\", \"Nausea/Vomiting, Chemotherapy Induced\", \"Perimenopausal Symptoms\", \"Breakthrough Pain\", \"Gastroparesis\", \"Hyperprolactinemia\", \"Malaria Prevention\", \"Myasthenia Gravis\", \"Postoperative Pain\", \"Soft Tissue Sarcoma\", \"Raynaud's Syndrome\", \"Dermatological Disorders\", \"Reflex Sympathetic Dystrophy Syndrome\", \"7</span> users found this comment helpful.\", \"Burns, External\", \"Light Anesthesia\", \"Organ Transplant, Rejection Prophylaxis\", \"Tinea Pedis\", \"Ulcerative Colitis, Maintenance\", \"Primary Immunodeficiency Syndrome\", \"Tinea Versicol\", \"Acute Coronary Syndrome\", \"acial Wrinkles\", \"Otitis Externa\", \"Crohn's Disease, Acute\", \"Neutropenia Associated with Chemotherapy\", \"Pneumococcal Disease Prophylaxis\", \"Prevention of Osteoporosis\", \"Chronic Lymphocytic Leukemia\", \"Postural Orthostatic Tachycardia Syndrome\", \"Vulvodynia\", \"Lyme Disease\", \"Temporomandibular Joint Disorde\", \"Gastroenteritis\", \"Extrapyramidal Reaction\", \"Paranoid Disorde\", \"Seborrheic Dermatitis\", \"Herpes Zoste\", \"Anemia\", \"10</span> users found this comment helpful.\", \"Macular Degeneration\", \"Cutaneous Candidiasis\", \"Eye Redness/Itching\", \"Intraocular Hypertension\", \"9</span> users found this comment helpful.\", \"Hypoestrogenism\", \"Angina Pectoris Prophylaxis\", \"Glaucoma\", \"12</span> users found this comment helpful.\", \"Mitral Valve Prolapse\", \"Gouty Arthritis\", \"Tinea Cruris\", \"Inflammatory Bowel Disease\", \"Photoaging of the Skin\", \"Uveitis\", \"Nocturnal Leg Cramps\", \"Meniere's Disease\", \"Tinnitus\", \"Agitated State\", \"Hepatic Encephalopathy\", \"Methicillin-Resistant Staphylococcus Aureus Infection\", \"Actinic Keratosis\", \"Xerostomia\", \"Postoperative Ocular Inflammation\", \"Clostridial Infection\", \"Ovulation Induction\", \"Juvenile Rheumatoid Arthritis\", \"Human Papillomavirus Prophylaxis\", \"Ischemic Stroke, Prophylaxis\", \"Insulin Resistance Syndrome\", \"Atrial Flutte\", \"min / sitagliptin)\", \"Anemia Associated with Chronic Renal Failure\", \"Surgical Prophylaxis\", \"Onychomycosis, Fingernail\", \"Bronchospasm Prophylaxis\", \"Gas\", \"Benzodiazepine Withdrawal\", \"moterol / mometasone)\", \"Vitamin/Mineral Supplementation and Deficiency\", \"zen Shoulde\", \"Malaria\", \"Conjunctivitis\", \"Swine Flu\", \"8</span> users found this comment helpful.\", \"Pancreatic Exocrine Dysfunction\", \"Juvenile Idiopathic Arthritis\", \"Asperger Syndrome\", \"Hereditary Angioedema\", \"Diabetes Insipidus\", \"Pseudobulbar Affect\", \"Undifferentiated Connective Tissue Disease\", \"Hepatitis B\", \"Idiopathic Thrombocytopenic Purpura\", \"Left Ventricular Dysfunction\", \"Cystic Fibrosis\", \"Premenstrual Syndrome\", \"Giardiasis\", \"Nightmares\", \"Diagnosis and Investigation\", \"Duodenal Ulce\", \"Precocious Puberty\", \"Autoimmune Hepatitis\", \"Diaper Rash\", \"TSH Suppression\", \"Tinea Corporis\", \"Dermatologic Lesion\", \"Hiccups\", \"Herpes Simplex, Mucocutaneous/Immunocompetent Host\", \"Nausea/Vomiting, Postoperative\", \"Vitamin D Deficiency\", \"Allergic Urticaria\", \"Myelodysplastic Syndrome\", \"Pinworm Infection (Enterobius vermicularis)\", \"Deep Vein Thrombosis, Prophylaxis\", \"Night Terrors\", \"ge (amlodipine / valsartan)\", \"Breast Cancer, Adjuvant\", \"Agitation\", \"Dyspareunia\", \"Labor Pain\", \"Condylomata Acuminata\", \"Mucositis\", \"Labor Induction\", \"COPD, Acute\", \"Gingivitis\", \"Chronic Pancreatitis\", \"39</span> users found this comment helpful.\", \"Hyperphosphatemia of Renal Failure\", \"Influenza Prophylaxis\", \"Cyclic Vomiting Syndrome\", \"Vitamin B12 Deficiency\", \"Peptic Ulce\", \"Opioid Overdose\", \"13</span> users found this comment helpful.\", \"18</span> users found this comment helpful.\", \"Biliary Cirrhosis\", \"Herbal Supplementation\", \"Diabetic Kidney Disease\", \"Burning Mouth Syndrome\", \"Nasal Polyps\", \"Infection Prophylaxis\", \"Hyperlipoproteinemia Type IIa, Elevated LDL\", \"Anal Fissure and Fistula\", \"15</span> users found this comment helpful.\", \"Dysautonomia\", \"17</span> users found this comment helpful.\", \"Breast Cancer, Prevention\", \"Noninfectious Colitis\", \"Lennox-Gastaut Syndrome\", \"Non-Hodgkin's Lymphoma\", \"Lactation Augmentation\", \"Mountain Sickness / Altitude Sickness\", \"Reversal of Opioid Sedation\", \"Hypotension\", \"Ventricular Tachycardia\", \"11</span> users found this comment helpful.\", \"Osteolytic Bone Lesions of Multiple Myeloma\", \"Pelvic Inflammatory Disease\", \"Auditory Processing Disorde\", \"Menopausal Disorders\", \"Anal Itching\", \"Spondyloarthritis\", \"Diarrhea, Acute\", \"Atrophic Urethritis\", \"Bone infection\", \"Gastrointestinal Stromal Tum\", \"14</span> users found this comment helpful.\", \"Primary Ovarian Failure\", \"Dystonia\", \"Pediatric Growth Hormone Deficiency\", \"Oral Thrush\", \"Skin Cance\", \"Occipital Neuralgia\", \"Anemia, Sickle Cell\", \"eve\", \"Computed Tomography\", \"Bullous Pemphigoid\", \"Skin Disinfection, Preoperative\", \"Sarcoidosis\", \"min / saxagliptin)\", \"Pe\", \"Mycobacterium avium-intracellulare, Treatment\", \"Gastrointestinal Decontamination\", \"llicle Stimulation\", \"Thyroid Cance\", \"Lyme Disease, Neurologic\", \"Deep Vein Thrombosis Prophylaxis after Hip Replacement Surgery\", \"Oophorectomy\", \"High Cholesterol, Familial Homozygous\", \"mulation) (phenylephrine)\", \"lic Acid Deficiency\", \"von Willebrand's Disease\", \"Endometrial Cance\", \"Gastric Ulcer Maintenance Treatment\", \"23</span> users found this comment helpful.\", \"Hidradenitis Suppurativa\", \"Eyelash Hypotrichosis\", \"Melanoma, Metastatic\", \"Dietary Fiber Supplementation\", \"21</span> users found this comment helpful.\", \"Lipodystrophy\", \"Local Anesthesia\", \"Hypomagnesemia\", \"Ear Wax Impaction\", \"Primary Nocturnal Enuresis\", \"Lymphoma\", \"Aphthous Ulce\", \"Women (oxybutynin)\", \"Iritis\", \"Endometrial Hyperplasia\", \"Hyperthyroidism\", \"Bursitis\", \"Secondary Hyperparathyroidism\", \"Skin Rash\", \"Amebiasis\", \"Aplastic Anemia\", \"Mild Cognitive Impairment\", \"Ulcerative Proctitis\", \"Insomnia, Stimulant-Associated\", \"Prevention of Cardiovascular Disease\", \"Dercum's Disease\", \"Ophthalmic Surgery\", \"Percutaneous Coronary Intervention\", \"NSAID-Induced Gastric Ulce\", \"Multiple Myeloma\", \"Hypocalcemia\", \"Macular Edema\", \"Rhinorrhea\", \"Diabetic Macular Edema\", \"Gastritis/Duodenitis\", \"Perioral Dermatitis\", \"Intermittent Claudication\", \"Peritonitis\", \"Deep Neck Infection\", \"Bacterial Endocarditis Prevention\", \"Seasonal Affective Disorde\", \"Tuberculosis, Latent\", \"Adrenocortical Insufficiency\", \"Osteolytic Bone Metastases of Solid Tumors\", \"Lichen Planus\", \"Persistent Depressive Disorde\", \"Impetig\", \"Progesterone Insufficiency\", \"ICU Agitation\", \"Post-Cholecystectomy Diarrhea\", \"Dandruff\", \"55</span> users found this comment helpful.\", \"Hypercalcemia of Malignancy\", \"25</span> users found this comment helpful.\", \"Chronic Myofascial Pain\", \"Platelet Aggregation Inhibition\", \"Neck Pain\", \"Lymphocytic Colitis\", \"Pharyngitis\", \"Cerebral Spasticity\", \"Salmonella Gastroenteritis\", \"Glioblastoma Multiforme\", \"Mycoplasma Pneumonia\", \"20</span> users found this comment helpful.\", \"32</span> users found this comment helpful.\", \"Gastrointestinal Hemorrhage\", \"Submental Fullness\", \"Prevention of Dental Caries\", \"Intraabdominal Infection\", \"Behcet's Disease\", \"Systemic Mastocytosis\", \"Acute Otitis Externa\", \"Bacteremia\", \"Traveler's Diarrhea\", \"34</span> users found this comment helpful.\", \"AIDS Related Wasting\", \"Expectoration\", \"Dumping Syndrome\", \"Gonococcal Infection, Uncomplicated\", \"Uterine Bleeding\", \"33</span> users found this comment helpful.\", \"Trichotillomania\", \"Hyperlipoproteinemia\", \"Antiphospholipid Syndrome\", \"Mantle Cell Lymphoma\", \"Hepatocellular Carcinoma\", \"Costochondritis\", \"New Daily Persistent Headache\", \"Schnitzler Syndrome\", \"Lichen Sclerosus\", \"Hypoparathyroidism\", \"Still's Disease\", \"Varicella-Zoste\", \"Colorectal Cance\", \"Warts\", \"Thrombocythemia\", \"Renal Tubular Acidosis\", \"Ventricular Fibrillation\", \"Performance Anxiety\", \"Abortion\", \"Pupillary Dilation\", \"22</span> users found this comment helpful.\", \"Gallbladder Disease\", \"Acute Lymphoblastic Leukemia\", \"Periodontitis\", \"m Pain Disorde\", \"Thromboembolic Stroke Prophylaxis\", \"Cance\", \"Breast Cancer, Palliative\", \"Hyperekplexia\", \"Alpha-1 Proteinase Inhibitor Deficiency\", \"Streptococcal Infection\", \"Scabies\", \"28</span> users found this comment helpful.\", \"Corneal Refractive Surgery\", \"Deep Vein Thrombosis, First Event\", \"Premature Ventricular Depolarizations\", \"16</span> users found this comment helpful.\", \"Bleeding Disorde\", \"Deep Vein Thrombosis, Recurrent Event\", \"Opiate Adjunct\", \"27</span> users found this comment helpful.\", \"Addison's Disease\", \"Paget's Disease\", \"Polymyositis/Dermatomyositis\", \"Chronic Spasticity\", \"Occupational Exposure\", \"Liver Magnetic Resonance Imaging\", \"Ischemic Stroke\", \"Cataplexy\", \"Oligospermia\", \"Systemic Sclerosis\", \"51</span> users found this comment helpful.\", \"Pulmonary Embolism, First Event\", \"Lactose Intolerance\", \"Status Epilepticus\", \"Melanoma\", \"Pancreatic Cance\", \"Epididymitis, Sexually Transmitted\", \"135</span> users found this comment helpful.\", \"Nonoccupational Exposure\", \"Coccidioidomycosis\", \"24</span> users found this comment helpful.\", \"Dupuytren's contracture\", \"Dissociative Identity Disorde\", \"Jet Lag\", \"Schilling Test\", \"ibrocystic Breast Disease\", \"Reversal of Nondepolarizing Muscle Relaxants\", \"Chronic Inflammatory Demyelinating Polyradiculoneuropathy\", \"41</span> users found this comment helpful.\", \"Hypodermoclysis\", \"Acetaminophen Overdose\", \"Anaplastic Astrocytoma\", \"Anthrax\", \"Pemphigoid\", \"Pre-Exposure Prophylaxis\", \"Upper Limb Spasticity\", \"Histoplasmosis\", \"Yellow Fever Prophylaxis\", \"Hemophilia A\", \"acial Lipoatrophy\", \"Adult Human Growth Hormone Deficiency\", \"Cutaneous T-cell Lymphoma\", \"Sore Throat\", \"Stomach Cance\", \"Radionuclide Myocardial Perfusion Study\", \"Pityriasis rubra pilaris\", \"38</span> users found this comment helpful.\", \"Body Dysmorphic Disorde\", \"Strongyloidiasis\", \"Ovarian Cance\", \"Dermatomyositis\", \"Autoimmune Hemolytic Anemia\", \"Hemorrhoids (pramoxine / zinc oxide)\", \"Nausea (phosphorated carbohydrate solution)\", \"actor IX Deficiency\", \"Giant Cell Tumor of Bone\", \"Gonadotropin Inhibition\", \"Stress Ulcer Prophylaxis\", \"Aspergillosis, Aspergilloma\", \"Enterocolitis\", \"70</span> users found this comment helpful.\", \"Immunosuppression\", \"Pertussis\", \"Urinary Retention\", \"Leukemia\", \"Wegener's Granulomatosis\", \"Blepharitis\", \"Strabismus\", \"Acute Promyelocytic Leukemia\", \"Polycythemia Vera\", \"Hyperphosphatemia\", \"me\", \"Parkinsonism\", \"cal Segmental Glomerulosclerosis\", \"Dementia\", \"amilial Cold Autoinflammatory Syndrome\", \"Hypoactive Sexual Desire Disorde\", \"Uveitis, Posteri\", \"Small Bowel or Pancreatic Fistula\", \"Postoperative Increased Intraocular Pressure\", \"Pertussis Prophylaxis\", \"Gender Dysphoria\", \"Pulmonary Edema\", \"Acute Nonlymphocytic Leukemia\", \"Head and Neck Cance\", \"Meningococcal Meningitis Prophylaxis\", \"Rat-bite Feve\", \"Pudendal Neuralgia\", \"Esophageal Variceal Hemorrhage Prophylaxis\", \"Anemia, Chemotherapy Induced\", \"Nasal Carriage of Staphylococcus aureus\", \"Joint Infection\", \"100</span> users found this comment helpful.\", \"Thyrotoxicosis\", \"Premature Ejaculation\", \"Wolff-Parkinson-White Syndrome\", \"Steroid Responsive Inflammatory Conditions\", \"Ichthyosis\", \"Oral and Dental Conditions\", \"Syringomyelia\", \"Keratitis\", \"Cyclitis\", \"83</span> users found this comment helpful.\", \"Nephrotic Syndrome\", \"Organ Transplant, Rejection Reversal\", \"Spondylolisthesis\", \"Dermatophytosis\", \"35</span> users found this comment helpful.\", \"Tympanostomy Tube Placement Surgery\", \"Coronary Artery Disease\", \"CMV Prophylaxis\", \"37</span> users found this comment helpful.\", \"Glioblastoma Multi\", \"Neutropenia\", \"B12 Nutritional Deficiency\", \"Mixed Connective Tissue Disease\", \"105</span> users found this comment helpful.\", \"29</span> users found this comment helpful.\", \"Sunburn\", \"Myelofibrosis\", \"Peripheral Arterial Disease\", \"Zollinger-Ellison Syndrome\", \"Head Injury\", \"31</span> users found this comment helpful.\", \"Cachexia\", \"Pain/Feve\", \"Hemophilia B\", \"Prevention of Hypokalemia\", \"Primary Hyperaldosteronism\", \"Somat\", \"tic (mycophenolic acid)\", \"Hyperkalemia\", \"Topical Disinfection\", \"Oppositional Defiant Disorde\", \"Myotonia Congenita\", \"Squamous Cell Carcinoma\", \"Cerebral Edema\", \"Pemphigus\", \"Herpes Zoster, Prophylaxis\", \"Herpes Simplex Dendritic Keratitis\", \"Mononucleosis\", \"Hypertensive Emergency\", \"Hypokalemic Periodic Paralysis\", \"Subarachnoid Hemorrhage\", \"Transient Ischemic Attack\", \"Herpes Simplex, Mucocutaneous/Immunocompromised Host\", \"Myeloproliferative Disorders\", \"Ehrlichiosis\", \"Eosinophilic Esophagitis\", \"Lyme Disease, Erythema Chronicum Migrans\", \"mist (\", \"Cyclothymic Disorde\", \"Ventricular Arrhythmia\"], \"xaxis\": \"x\", \"y\": [9648, 3095, 2100, 1908, 1847, 1380, 1248, 1231, 1189, 1126, 827, 811, 808, 783, 660, 648, 639, 583, 579, 573, 525, 524, 485, 469, 454, 431, 398, 387, 387, 381, 378, 350, 325, 320, 307, 297, 289, 266, 246, 245, 240, 240, 234, 215, 206, 202, 198, 195, 195, 192, 192, 179, 176, 175, 173, 165, 158, 157, 153, 153, 153, 152, 137, 136, 133, 130, 130, 129, 127, 127, 120, 118, 118, 117, 113, 112, 107, 105, 103, 100, 99, 98, 98, 98, 96, 88, 86, 86, 80, 78, 78, 77, 77, 77, 75, 75, 74, 72, 72, 71, 71, 69, 68, 67, 64, 64, 63, 61, 60, 56, 56, 55, 55, 54, 54, 54, 53, 53, 52, 51, 50, 50, 49, 49, 48, 48, 47, 46, 45, 45, 45, 45, 45, 44, 44, 43, 43, 43, 43, 42, 41, 40, 40, 39, 38, 37, 37, 37, 36, 36, 35, 35, 35, 34, 34, 32, 32, 32, 31, 31, 31, 31, 31, 31, 30, 30, 30, 30, 30, 29, 29, 28, 28, 28, 28, 28, 27, 26, 26, 26, 26, 26, 26, 26, 25, 25, 25, 24, 24, 24, 24, 24, 23, 23, 23, 23, 22, 22, 22, 22, 21, 21, 21, 21, 21, 21, 21, 21, 21, 20, 20, 20, 20, 20, 19, 19, 19, 19, 19, 19, 18, 18, 18, 18, 18, 18, 18, 18, 17, 17, 17, 17, 17, 16, 16, 15, 15, 15, 15, 15, 14, 14, 14, 14, 13, 13, 13, 13, 13, 13, 13, 13, 13, 12, 12, 12, 12, 11, 11, 11, 11, 11, 11, 11, 11, 11, 10, 10, 10, 10, 10, 10, 10, 10, 10, 10, 10, 10, 10, 10, 9, 9, 9, 9, 9, 9, 9, 9, 9, 9, 8, 8, 8, 8, 8, 8, 8, 8, 8, 8, 8, 8, 8, 8, 8, 8, 8, 8, 8, 8, 7, 7, 7, 7, 7, 7, 7, 7, 7, 7, 7, 7, 7, 7, 7, 7, 7, 7, 7, 7, 7, 7, 7, 7, 7, 7, 7, 7, 6, 6, 6, 6, 6, 6, 6, 6, 6, 6, 6, 6, 6, 6, 6, 6, 6, 6, 5, 5, 5, 5, 5, 5, 5, 5, 5, 5, 5, 5, 5, 5, 5, 5, 5, 5, 5, 5, 5, 5, 5, 5, 5, 5, 5, 5, 5, 5, 5, 5, 4, 4, 4, 4, 4, 4, 4, 4, 4, 4, 4, 4, 4, 4, 4, 4, 4, 4, 4, 4, 4, 4, 4, 4, 4, 4, 4, 4, 4, 4, 4, 4, 4, 4, 4, 4, 3, 3, 3, 3, 3, 3, 3, 3, 3, 3, 3, 3, 3, 3, 3, 3, 3, 3, 3, 3, 3, 3, 3, 3, 3, 3, 3, 3, 3, 3, 3, 3, 3, 3, 3, 3, 3, 3, 3, 3, 3, 3, 3, 3, 3, 3, 3, 3, 3, 3, 3, 3, 3, 3, 3, 3, 3, 2, 2, 2, 2, 2, 2, 2, 2, 2, 2, 2, 2, 2, 2, 2, 2, 2, 2, 2, 2, 2, 2, 2, 2, 2, 2, 2, 2, 2, 2, 2, 2, 2, 2, 2, 2, 2, 2, 2, 2, 2, 2, 2, 2, 2, 2, 2, 2, 2, 2, 2, 2, 2, 2, 2, 2, 2, 2, 2, 2, 2, 2, 2, 2, 2, 2, 2, 2, 2, 2, 2, 2, 2, 2, 2, 2, 2, 2, 2, 2, 2, 2, 2, 2, 2, 2, 2, 1, 1, 1, 1, 1, 1, 1, 1, 1, 1, 1, 1, 1, 1, 1, 1, 1, 1, 1, 1, 1, 1, 1, 1, 1, 1, 1, 1, 1, 1, 1, 1, 1, 1, 1, 1, 1, 1, 1, 1, 1, 1, 1, 1, 1, 1, 1, 1, 1, 1, 1, 1, 1, 1, 1, 1, 1, 1, 1, 1, 1, 1, 1, 1, 1, 1, 1, 1, 1, 1, 1, 1, 1, 1, 1, 1, 1, 1, 1, 1, 1, 1, 1, 1, 1, 1, 1, 1, 1, 1, 1, 1, 1, 1, 1, 1, 1, 1, 1, 1, 1, 1, 1, 1, 1, 1, 1, 1, 1, 1, 1, 1, 1, 1, 1, 1, 1, 1, 1, 1, 1, 1, 1, 1, 1, 1, 1, 1, 1, 1, 1, 1, 1, 1, 1, 1, 1, 1, 1, 1], \"yaxis\": \"y\"}],\n",
              "                        {\"barmode\": \"relative\", \"height\": 400, \"legend\": {\"tracegroupgap\": 0}, \"template\": {\"data\": {\"bar\": [{\"error_x\": {\"color\": \"#2a3f5f\"}, \"error_y\": {\"color\": \"#2a3f5f\"}, \"marker\": {\"line\": {\"color\": \"#E5ECF6\", \"width\": 0.5}}, \"type\": \"bar\"}], \"barpolar\": [{\"marker\": {\"line\": {\"color\": \"#E5ECF6\", \"width\": 0.5}}, \"type\": \"barpolar\"}], \"carpet\": [{\"aaxis\": {\"endlinecolor\": \"#2a3f5f\", \"gridcolor\": \"white\", \"linecolor\": \"white\", \"minorgridcolor\": \"white\", \"startlinecolor\": \"#2a3f5f\"}, \"baxis\": {\"endlinecolor\": \"#2a3f5f\", \"gridcolor\": \"white\", \"linecolor\": \"white\", \"minorgridcolor\": \"white\", \"startlinecolor\": \"#2a3f5f\"}, \"type\": \"carpet\"}], \"choropleth\": [{\"colorbar\": {\"outlinewidth\": 0, \"ticks\": \"\"}, \"type\": \"choropleth\"}], \"contour\": [{\"colorbar\": {\"outlinewidth\": 0, \"ticks\": \"\"}, \"colorscale\": [[0.0, \"#0d0887\"], [0.1111111111111111, \"#46039f\"], [0.2222222222222222, \"#7201a8\"], [0.3333333333333333, \"#9c179e\"], [0.4444444444444444, \"#bd3786\"], [0.5555555555555556, \"#d8576b\"], [0.6666666666666666, \"#ed7953\"], [0.7777777777777778, \"#fb9f3a\"], [0.8888888888888888, \"#fdca26\"], [1.0, \"#f0f921\"]], \"type\": \"contour\"}], \"contourcarpet\": [{\"colorbar\": {\"outlinewidth\": 0, \"ticks\": \"\"}, \"type\": \"contourcarpet\"}], \"heatmap\": [{\"colorbar\": {\"outlinewidth\": 0, \"ticks\": \"\"}, \"colorscale\": [[0.0, \"#0d0887\"], [0.1111111111111111, \"#46039f\"], [0.2222222222222222, \"#7201a8\"], [0.3333333333333333, \"#9c179e\"], [0.4444444444444444, \"#bd3786\"], [0.5555555555555556, \"#d8576b\"], [0.6666666666666666, \"#ed7953\"], [0.7777777777777778, \"#fb9f3a\"], [0.8888888888888888, \"#fdca26\"], [1.0, \"#f0f921\"]], \"type\": \"heatmap\"}], \"heatmapgl\": [{\"colorbar\": {\"outlinewidth\": 0, \"ticks\": \"\"}, \"colorscale\": [[0.0, \"#0d0887\"], [0.1111111111111111, \"#46039f\"], [0.2222222222222222, \"#7201a8\"], [0.3333333333333333, \"#9c179e\"], [0.4444444444444444, \"#bd3786\"], [0.5555555555555556, \"#d8576b\"], [0.6666666666666666, \"#ed7953\"], [0.7777777777777778, \"#fb9f3a\"], [0.8888888888888888, \"#fdca26\"], [1.0, \"#f0f921\"]], \"type\": \"heatmapgl\"}], \"histogram\": [{\"marker\": {\"colorbar\": {\"outlinewidth\": 0, \"ticks\": \"\"}}, \"type\": \"histogram\"}], \"histogram2d\": [{\"colorbar\": {\"outlinewidth\": 0, \"ticks\": \"\"}, \"colorscale\": [[0.0, \"#0d0887\"], [0.1111111111111111, \"#46039f\"], [0.2222222222222222, \"#7201a8\"], [0.3333333333333333, \"#9c179e\"], [0.4444444444444444, \"#bd3786\"], [0.5555555555555556, \"#d8576b\"], [0.6666666666666666, \"#ed7953\"], [0.7777777777777778, \"#fb9f3a\"], [0.8888888888888888, \"#fdca26\"], [1.0, \"#f0f921\"]], \"type\": \"histogram2d\"}], \"histogram2dcontour\": [{\"colorbar\": {\"outlinewidth\": 0, \"ticks\": \"\"}, \"colorscale\": [[0.0, \"#0d0887\"], [0.1111111111111111, \"#46039f\"], [0.2222222222222222, \"#7201a8\"], [0.3333333333333333, \"#9c179e\"], [0.4444444444444444, \"#bd3786\"], [0.5555555555555556, \"#d8576b\"], [0.6666666666666666, \"#ed7953\"], [0.7777777777777778, \"#fb9f3a\"], [0.8888888888888888, \"#fdca26\"], [1.0, \"#f0f921\"]], \"type\": \"histogram2dcontour\"}], \"mesh3d\": [{\"colorbar\": {\"outlinewidth\": 0, \"ticks\": \"\"}, \"type\": \"mesh3d\"}], \"parcoords\": [{\"line\": {\"colorbar\": {\"outlinewidth\": 0, \"ticks\": \"\"}}, \"type\": \"parcoords\"}], \"pie\": [{\"automargin\": true, \"type\": \"pie\"}], \"scatter\": [{\"marker\": {\"colorbar\": {\"outlinewidth\": 0, \"ticks\": \"\"}}, \"type\": \"scatter\"}], \"scatter3d\": [{\"line\": {\"colorbar\": {\"outlinewidth\": 0, \"ticks\": \"\"}}, \"marker\": {\"colorbar\": {\"outlinewidth\": 0, \"ticks\": \"\"}}, \"type\": \"scatter3d\"}], \"scattercarpet\": [{\"marker\": {\"colorbar\": {\"outlinewidth\": 0, \"ticks\": \"\"}}, \"type\": \"scattercarpet\"}], \"scattergeo\": [{\"marker\": {\"colorbar\": {\"outlinewidth\": 0, \"ticks\": \"\"}}, \"type\": \"scattergeo\"}], \"scattergl\": [{\"marker\": {\"colorbar\": {\"outlinewidth\": 0, \"ticks\": \"\"}}, \"type\": \"scattergl\"}], \"scattermapbox\": [{\"marker\": {\"colorbar\": {\"outlinewidth\": 0, \"ticks\": \"\"}}, \"type\": \"scattermapbox\"}], \"scatterpolar\": [{\"marker\": {\"colorbar\": {\"outlinewidth\": 0, \"ticks\": \"\"}}, \"type\": \"scatterpolar\"}], \"scatterpolargl\": [{\"marker\": {\"colorbar\": {\"outlinewidth\": 0, \"ticks\": \"\"}}, \"type\": \"scatterpolargl\"}], \"scatterternary\": [{\"marker\": {\"colorbar\": {\"outlinewidth\": 0, \"ticks\": \"\"}}, \"type\": \"scatterternary\"}], \"surface\": [{\"colorbar\": {\"outlinewidth\": 0, \"ticks\": \"\"}, \"colorscale\": [[0.0, \"#0d0887\"], [0.1111111111111111, \"#46039f\"], [0.2222222222222222, \"#7201a8\"], [0.3333333333333333, \"#9c179e\"], [0.4444444444444444, \"#bd3786\"], [0.5555555555555556, \"#d8576b\"], [0.6666666666666666, \"#ed7953\"], [0.7777777777777778, \"#fb9f3a\"], [0.8888888888888888, \"#fdca26\"], [1.0, \"#f0f921\"]], \"type\": \"surface\"}], \"table\": [{\"cells\": {\"fill\": {\"color\": \"#EBF0F8\"}, \"line\": {\"color\": \"white\"}}, \"header\": {\"fill\": {\"color\": \"#C8D4E3\"}, \"line\": {\"color\": \"white\"}}, \"type\": \"table\"}]}, \"layout\": {\"annotationdefaults\": {\"arrowcolor\": \"#2a3f5f\", \"arrowhead\": 0, \"arrowwidth\": 1}, \"coloraxis\": {\"colorbar\": {\"outlinewidth\": 0, \"ticks\": \"\"}}, \"colorscale\": {\"diverging\": [[0, \"#8e0152\"], [0.1, \"#c51b7d\"], [0.2, \"#de77ae\"], [0.3, \"#f1b6da\"], [0.4, \"#fde0ef\"], [0.5, \"#f7f7f7\"], [0.6, \"#e6f5d0\"], [0.7, \"#b8e186\"], [0.8, \"#7fbc41\"], [0.9, \"#4d9221\"], [1, \"#276419\"]], \"sequential\": [[0.0, \"#0d0887\"], [0.1111111111111111, \"#46039f\"], [0.2222222222222222, \"#7201a8\"], [0.3333333333333333, \"#9c179e\"], [0.4444444444444444, \"#bd3786\"], [0.5555555555555556, \"#d8576b\"], [0.6666666666666666, \"#ed7953\"], [0.7777777777777778, \"#fb9f3a\"], [0.8888888888888888, \"#fdca26\"], [1.0, \"#f0f921\"]], \"sequentialminus\": [[0.0, \"#0d0887\"], [0.1111111111111111, \"#46039f\"], [0.2222222222222222, \"#7201a8\"], [0.3333333333333333, \"#9c179e\"], [0.4444444444444444, \"#bd3786\"], [0.5555555555555556, \"#d8576b\"], [0.6666666666666666, \"#ed7953\"], [0.7777777777777778, \"#fb9f3a\"], [0.8888888888888888, \"#fdca26\"], [1.0, \"#f0f921\"]]}, \"colorway\": [\"#636efa\", \"#EF553B\", \"#00cc96\", \"#ab63fa\", \"#FFA15A\", \"#19d3f3\", \"#FF6692\", \"#B6E880\", \"#FF97FF\", \"#FECB52\"], \"font\": {\"color\": \"#2a3f5f\"}, \"geo\": {\"bgcolor\": \"white\", \"lakecolor\": \"white\", \"landcolor\": \"#E5ECF6\", \"showlakes\": true, \"showland\": true, \"subunitcolor\": \"white\"}, \"hoverlabel\": {\"align\": \"left\"}, \"hovermode\": \"closest\", \"mapbox\": {\"style\": \"light\"}, \"paper_bgcolor\": \"white\", \"plot_bgcolor\": \"#E5ECF6\", \"polar\": {\"angularaxis\": {\"gridcolor\": \"white\", \"linecolor\": \"white\", \"ticks\": \"\"}, \"bgcolor\": \"#E5ECF6\", \"radialaxis\": {\"gridcolor\": \"white\", \"linecolor\": \"white\", \"ticks\": \"\"}}, \"scene\": {\"xaxis\": {\"backgroundcolor\": \"#E5ECF6\", \"gridcolor\": \"white\", \"gridwidth\": 2, \"linecolor\": \"white\", \"showbackground\": true, \"ticks\": \"\", \"zerolinecolor\": \"white\"}, \"yaxis\": {\"backgroundcolor\": \"#E5ECF6\", \"gridcolor\": \"white\", \"gridwidth\": 2, \"linecolor\": \"white\", \"showbackground\": true, \"ticks\": \"\", \"zerolinecolor\": \"white\"}, \"zaxis\": {\"backgroundcolor\": \"#E5ECF6\", \"gridcolor\": \"white\", \"gridwidth\": 2, \"linecolor\": \"white\", \"showbackground\": true, \"ticks\": \"\", \"zerolinecolor\": \"white\"}}, \"shapedefaults\": {\"line\": {\"color\": \"#2a3f5f\"}}, \"ternary\": {\"aaxis\": {\"gridcolor\": \"white\", \"linecolor\": \"white\", \"ticks\": \"\"}, \"baxis\": {\"gridcolor\": \"white\", \"linecolor\": \"white\", \"ticks\": \"\"}, \"bgcolor\": \"#E5ECF6\", \"caxis\": {\"gridcolor\": \"white\", \"linecolor\": \"white\", \"ticks\": \"\"}}, \"title\": {\"x\": 0.05}, \"xaxis\": {\"automargin\": true, \"gridcolor\": \"white\", \"linecolor\": \"white\", \"ticks\": \"\", \"title\": {\"standoff\": 15}, \"zerolinecolor\": \"white\", \"zerolinewidth\": 2}, \"yaxis\": {\"automargin\": true, \"gridcolor\": \"white\", \"linecolor\": \"white\", \"ticks\": \"\", \"title\": {\"standoff\": 15}, \"zerolinecolor\": \"white\", \"zerolinewidth\": 2}}}, \"title\": {\"text\": \"xc\"}, \"xaxis\": {\"anchor\": \"y\", \"domain\": [0.0, 1.0], \"title\": {\"text\": \"index\"}}, \"yaxis\": {\"anchor\": \"x\", \"domain\": [0.0, 1.0], \"title\": {\"text\": \"condition\"}}},\n",
              "                        {\"responsive\": true}\n",
              "                    ).then(function(){\n",
              "                            \n",
              "var gd = document.getElementById('f46f38ef-0cee-4d11-a671-b07ce53439f5');\n",
              "var x = new MutationObserver(function (mutations, observer) {{\n",
              "        var display = window.getComputedStyle(gd).display;\n",
              "        if (!display || display === 'none') {{\n",
              "            console.log([gd, 'removed!']);\n",
              "            Plotly.purge(gd);\n",
              "            observer.disconnect();\n",
              "        }}\n",
              "}});\n",
              "\n",
              "// Listen for the removal of the full notebook cells\n",
              "var notebookContainer = gd.closest('#notebook-container');\n",
              "if (notebookContainer) {{\n",
              "    x.observe(notebookContainer, {childList: true});\n",
              "}}\n",
              "\n",
              "// Listen for the clearing of the current output cell\n",
              "var outputEl = gd.closest('.output');\n",
              "if (outputEl) {{\n",
              "    x.observe(outputEl, {childList: true});\n",
              "}}\n",
              "\n",
              "                        })\n",
              "                };\n",
              "                \n",
              "            </script>\n",
              "        </div>\n",
              "</body>\n",
              "</html>"
            ]
          },
          "metadata": {
            "tags": []
          }
        }
      ]
    },
    {
      "cell_type": "code",
      "metadata": {
        "id": "LFBRS092lWcP",
        "colab_type": "code",
        "colab": {
          "base_uri": "https://localhost:8080/",
          "height": 34
        },
        "outputId": "1ebccb4c-f8bc-496c-cbcd-159fc2cd27f1"
      },
      "source": [
        "# Keeping classes which have more than 20 values in them\n",
        "index_counts = df_train[\"condition\"].value_counts()[df_train.condition.value_counts() >= 20].index\n",
        "df_train = df_train[df_train[\"condition\"].isin(index_counts)]\n",
        "number_of_classes(df_train)"
      ],
      "execution_count": null,
      "outputs": [
        {
          "output_type": "stream",
          "text": [
            "Number of classes:  214\n"
          ],
          "name": "stdout"
        }
      ]
    },
    {
      "cell_type": "markdown",
      "metadata": {
        "id": "E2gwievCl5nT",
        "colab_type": "text"
      },
      "source": [
        "#### Balancing Classes\n",
        "Undersampling all classes with samples greater than 200 to 200"
      ]
    },
    {
      "cell_type": "code",
      "metadata": {
        "id": "wUjvztsVly18",
        "colab_type": "code",
        "colab": {}
      },
      "source": [
        "# undersampling all classes with samples greater than 200 to 200\n",
        "condition_over200 = df_train[\"condition\"].value_counts()[df_train.condition.value_counts() >= 200].index\n",
        "\n",
        "for condition in condition_over200:\n",
        "    # randomly shuffle the samples\n",
        "    condition_samples = df_train[df_train[\"condition\"]==condition]\n",
        "    condition_samples = condition_samples.sample(frac=1).reset_index(drop=True)\n",
        "\n",
        "    # extract only 200\n",
        "    condition_samples = condition_samples[:200]\n",
        "\n",
        "    df_train = df_train[df_train[\"condition\"]!=condition]\n",
        "    # put it back\n",
        "    df_train = pd.concat([df_train, condition_samples], ignore_index=True)"
      ],
      "execution_count": null,
      "outputs": []
    },
    {
      "cell_type": "markdown",
      "metadata": {
        "id": "wbSY7qCkpNPK",
        "colab_type": "text"
      },
      "source": [
        "### Filtering Labels and removing alpha numeric values.\n"
      ]
    },
    {
      "cell_type": "code",
      "metadata": {
        "id": "qAJqk5sFmCtw",
        "colab_type": "code",
        "colab": {
          "base_uri": "https://localhost:8080/",
          "height": 84
        },
        "outputId": "6bb5ed80-c210-4ebb-cbff-b48f0d1cc2f0"
      },
      "source": [
        "def filter_labels(labels):\n",
        "    labels = labels.tolist()\n",
        "    labels_truth = []\n",
        "    for label in labels:\n",
        "        if label[0].isdigit():\n",
        "            labels_truth.append(False)\n",
        "        else:\n",
        "            labels_truth.append(True)\n",
        "    return labels_truth\n",
        "\n",
        "df_train = df_train[filter_labels(df_train[\"condition\"])]\n",
        "df_test = df_test[filter_labels(df_test[\"condition\"])]\n",
        "print(\"Train \", number_of_classes(df_train))\n",
        "print(\"Test \", number_of_classes(df_test))"
      ],
      "execution_count": null,
      "outputs": [
        {
          "output_type": "stream",
          "text": [
            "Number of classes:  210\n",
            "Train  None\n",
            "Number of classes:  664\n",
            "Test  None\n"
          ],
          "name": "stdout"
        }
      ]
    },
    {
      "cell_type": "markdown",
      "metadata": {
        "id": "xTAOfUI-prTn",
        "colab_type": "text"
      },
      "source": [
        "### Only keeping the classes that are in the training set, in to the test set"
      ]
    },
    {
      "cell_type": "code",
      "metadata": {
        "id": "wLQAL1FapVeL",
        "colab_type": "code",
        "colab": {
          "base_uri": "https://localhost:8080/",
          "height": 34
        },
        "outputId": "6c54325b-b373-467f-c7c2-c250c419b40f"
      },
      "source": [
        "df_test = df_test[df_test[\"condition\"].isin(df_train[\"condition\"])]\n",
        "number_of_classes(df_test)"
      ],
      "execution_count": null,
      "outputs": [
        {
          "output_type": "stream",
          "text": [
            "Number of classes:  210\n"
          ],
          "name": "stdout"
        }
      ]
    },
    {
      "cell_type": "markdown",
      "metadata": {
        "id": "Hr9FbFbMUmvY",
        "colab_type": "text"
      },
      "source": [
        "### Revised Class Distribution"
      ]
    },
    {
      "cell_type": "code",
      "metadata": {
        "id": "9Go7nhZaUlHd",
        "colab_type": "code",
        "colab": {
          "base_uri": "https://localhost:8080/",
          "height": 434
        },
        "outputId": "b8df29a6-74fa-4bf3-bad1-38c7cf01df19"
      },
      "source": [
        "plot_bar_chart(df_train)"
      ],
      "execution_count": null,
      "outputs": [
        {
          "output_type": "stream",
          "text": [
            "Number of classes:  210\n"
          ],
          "name": "stdout"
        },
        {
          "output_type": "display_data",
          "data": {
            "text/html": [
              "<html>\n",
              "<head><meta charset=\"utf-8\" /></head>\n",
              "<body>\n",
              "    <div>\n",
              "            <script src=\"https://cdnjs.cloudflare.com/ajax/libs/mathjax/2.7.5/MathJax.js?config=TeX-AMS-MML_SVG\"></script><script type=\"text/javascript\">if (window.MathJax) {MathJax.Hub.Config({SVG: {font: \"STIX-Web\"}});}</script>\n",
              "                <script type=\"text/javascript\">window.PlotlyConfig = {MathJaxConfig: 'local'};</script>\n",
              "        <script src=\"https://cdn.plot.ly/plotly-latest.min.js\"></script>    \n",
              "            <div id=\"436ea312-f009-4cce-9268-cf6fe20906d4\" class=\"plotly-graph-div\" style=\"height:400px; width:100%;\"></div>\n",
              "            <script type=\"text/javascript\">\n",
              "                \n",
              "                    window.PLOTLYENV=window.PLOTLYENV || {};\n",
              "                    \n",
              "                if (document.getElementById(\"436ea312-f009-4cce-9268-cf6fe20906d4\")) {\n",
              "                    Plotly.newPlot(\n",
              "                        '436ea312-f009-4cce-9268-cf6fe20906d4',\n",
              "                        [{\"alignmentgroup\": \"True\", \"hoverlabel\": {\"namelength\": 0}, \"hovertemplate\": \"index=%{x}<br>condition=%{y}\", \"legendgroup\": \"\", \"marker\": {\"color\": \"#636efa\"}, \"name\": \"\", \"offsetgroup\": \"\", \"orientation\": \"v\", \"showlegend\": false, \"textposition\": \"auto\", \"type\": \"bar\", \"x\": [\"Migraine\", \"Hyperhidrosis\", \"Panic Disorde\", \"Bacterial Infection\", \"Irritable Bowel Syndrome\", \"Vaginal Yeast Infection\", \"Hepatitis C\", \"ibromyalgia\", \"Nausea/Vomiting\", \"Smoking Cessation\", \"Cough\", \"Multiple Sclerosis\", \"Pain\", \"Osteoarthritis\", \"Overactive Bladde\", \"Weight Loss\", \"Bipolar Disorde\", \"Migraine Prevention\", \"Acne\", \"Erectile Dysfunction\", \"Depression\", \"Major Depressive Disorde\", \"Urinary Tract Infection\", \"Insomnia\", \"Obesity\", \"High Cholesterol\", \"Muscle Spasm\", \"Bowel Preparation\", \"Restless Legs Syndrome\", \"HIV Infection\", \"High Blood Pressure\", \"Birth Control\", \"Chronic Pain\", \"Anxiety and Stress\", \"Allergic Rhinitis\", \"GERD\", \"Rheumatoid Arthritis\", \"Sinusitis\", \"Diabetes, Type 2\", \"Anxiety\", \"Emergency Contraception\", \"Generalized Anxiety Disorde\", \"Opiate Dependence\", \"Constipation\", \"ADHD\", \"Abnormal Uterine Bleeding\", \"Psoriasis\", \"Schizophrenia\", \"Hypogonadism, Male\", \"Endometriosis\", \"Back Pain\", \"Constipation, Chronic\", \"Seizures\", \"Rosacea\", \"Obsessive Compulsive Disorde\", \"Benign Prostatic Hyperplasia\", \"Asthma, Maintenance\", \"Bronchitis\", \"Bacterial Vaginitis\", \"Not Listed / Othe\", \"Headache\", \"Narcolepsy\", \"Onychomycosis, Toenail\", \"Postmenopausal Symptoms\", \"Social Anxiety Disorde\", \"Alcohol Dependence\", \"Bladder Infection\", \"Herpes Simplex\", \"Schizoaffective Disorde\", \"Menstrual Disorders\", \"Epilepsy\", \"Post Traumatic Stress Disorde\", \"Underactive Thyroid\", \"Influenza\", \"Cough and Nasal Congestion\", \"Psoriatic Arthritis\", \"Opiate Withdrawal\", \"Cold Sores\", \"Inflammatory Conditions\", \"Nasal Congestion\", \"Breast Cance\", \"Plaque Psoriasis\", \"Premenstrual Dysphoric Disorde\", \"Chlamydia Infection\", \"Neuropathic Pain\", \"Pneumonia\", \"Osteoporosis\", \"Anesthesia\", \"Urticaria\", \"COPD, Maintenance\", \"Polycystic Ovary Syndrome\", \"Helicobacter Pylori Infection\", \"Constipation, Drug Induced\", \"Asthma\", \"Ulcerative Colitis\", \"Atrial Fibrillation\", \"Crohn's Disease, Maintenance\", \"mance Anxiety\", \"Motion Sickness\", \"Seizure Prevention\", \"Hashimoto's disease\", \"Diarrhea\", \"Alcohol Withdrawal\", \"Hot Flashes\", \"Upper Respiratory Tract Infection\", \"Urinary Incontinence\", \"Sedation\", \"Ankylosing Spondylitis\", \"Peripheral Neuropathy\", \"Skin or Soft Tissue Infection\", \"Gout, Acute\", \"Ovarian Cysts\", \"Otitis Media\", \"Diabetic Peripheral Neuropathy\", \"Atopic Dermatitis\", \"Dry Eye Disease\", \"Atrophic Vaginitis\", \"Crohn's Disease\", \"Eczema\", \"Trigeminal Neuralgia\", \"Borderline Personality Disorde\", \"Parkinson's Disease\", \"Strep Throat\", \"Allergies\", \"Hirsutism\", \"Period Pain\", \"Prostate Cance\", \"Cluster Headaches\", \"Diabetes, Type 1\", \"Interstitial Cystitis\", \"COPD\", \"Bacterial Skin Infection\", \"Keratosis\", \"Herpes Simplex, Suppression\", \"Prevention of Thromboembolism in Atrial Fibrillation\", \"Diverticulitis\", \"Ulcerative Colitis, Active\", \"Urinary Tract Stones\", \"Postherpetic Neuralgia\", \"Arrhythmia\", \"Edema\", \"Non-Small Cell Lung Cance\", \"Sciatica\", \"Human Papilloma Virus\", \"Nausea/Vomiting of Pregnancy\", \"Systemic Lupus Erythematosus\", \"Hypothyroidism, After Thyroid Removal\", \"Obstructive Sleep Apnea/Hypopnea Syndrome\", \"Premature Lab\", \"Alopecia\", \"Supraventricular Tachycardia\", \"Dermatitis\", \"Cold Symptoms\", \"Asthma, acute\", \"moterol)\", \"Kidney Infections\", \"Alzheimer's Disease\", \"Head Lice\", \"Neuralgia\", \"Rhinitis\", \"Anorexia\", \"Muscle Pain\", \"Autism\", \"Allergic Reactions\", \"Angina\", \"Renal Cell Carcinoma\", \"Postpartum Depression\", \"Hemorrhoids\", \"Binge Eating Disorde\", \"Sexual Dysfunction, SSRI Induced\", \"Melasma\", \"Pseudotumor Cerebri\", \"Benign Essential Trem\", \"Chronic Fatigue Syndrome\", \"Dysuria\", \"Heart Failure\", \"Gout\", \"Chronic Myelogenous Leukemia\", \"Amenorrhea\", \"Hypertriglyceridemia\", \"Pulmonary Hypertension\", \"Keratoconjunctivitis Sicca\", \"Breast Cancer, Metastatic\", \"Hypersomnia\", \"Vitamin/Mineral Supplementation during Pregnancy/Lactation\", \"Psychosis\", \"Shift Work Sleep Disorde\", \"Diarrhea, Chronic\", \"Prostatitis\", \"Deep Vein Thrombosis\", \"Vertig\", \"Tonsillitis/Pharyngitis\", \"Dental Abscess\", \"Light Sedation\", \"Dry Skin\", \"Dietary Supplementation\", \"Chronic Idiopathic Constipation\", \"emale Infertility\", \"Sinus Symptoms\", \"Conjunctivitis, Allergic\", \"Tendonitis\", \"atigue\", \"Tourette's Syndrome\", \"Stomach Ulce\", \"Cervical Dystonia\", \"Seasonal Allergic Conjunctivitis\", \"Pulmonary Embolism\", \"Erosive Esophagitis\", \"Indigestion\", \"Mania\"], \"xaxis\": \"x\", \"y\": [200, 200, 200, 200, 200, 200, 200, 200, 200, 200, 200, 200, 200, 200, 200, 200, 200, 200, 200, 200, 200, 200, 200, 200, 200, 200, 200, 200, 200, 200, 200, 200, 200, 200, 200, 200, 200, 200, 200, 200, 200, 200, 200, 200, 200, 200, 198, 195, 195, 192, 192, 179, 176, 175, 173, 165, 158, 157, 153, 153, 153, 152, 137, 136, 133, 130, 130, 129, 127, 127, 120, 118, 118, 117, 113, 112, 107, 105, 103, 100, 99, 98, 98, 98, 96, 88, 86, 86, 80, 78, 78, 77, 77, 77, 75, 75, 74, 72, 72, 71, 71, 69, 68, 67, 64, 64, 63, 61, 60, 56, 56, 55, 55, 54, 54, 54, 53, 53, 52, 51, 50, 50, 49, 49, 48, 48, 47, 46, 45, 45, 45, 45, 45, 44, 44, 43, 43, 43, 43, 42, 41, 40, 40, 39, 38, 37, 37, 37, 36, 36, 35, 35, 35, 34, 34, 32, 32, 32, 31, 31, 31, 31, 31, 30, 30, 30, 30, 30, 29, 29, 28, 28, 28, 28, 28, 27, 26, 26, 26, 26, 26, 26, 26, 25, 25, 25, 24, 24, 24, 24, 23, 23, 23, 23, 22, 22, 22, 22, 21, 21, 21, 21, 21, 21, 21, 21, 20, 20, 20, 20], \"yaxis\": \"y\"}],\n",
              "                        {\"barmode\": \"relative\", \"height\": 400, \"legend\": {\"tracegroupgap\": 0}, \"template\": {\"data\": {\"bar\": [{\"error_x\": {\"color\": \"#2a3f5f\"}, \"error_y\": {\"color\": \"#2a3f5f\"}, \"marker\": {\"line\": {\"color\": \"#E5ECF6\", \"width\": 0.5}}, \"type\": \"bar\"}], \"barpolar\": [{\"marker\": {\"line\": {\"color\": \"#E5ECF6\", \"width\": 0.5}}, \"type\": \"barpolar\"}], \"carpet\": [{\"aaxis\": {\"endlinecolor\": \"#2a3f5f\", \"gridcolor\": \"white\", \"linecolor\": \"white\", \"minorgridcolor\": \"white\", \"startlinecolor\": \"#2a3f5f\"}, \"baxis\": {\"endlinecolor\": \"#2a3f5f\", \"gridcolor\": \"white\", \"linecolor\": \"white\", \"minorgridcolor\": \"white\", \"startlinecolor\": \"#2a3f5f\"}, \"type\": \"carpet\"}], \"choropleth\": [{\"colorbar\": {\"outlinewidth\": 0, \"ticks\": \"\"}, \"type\": \"choropleth\"}], \"contour\": [{\"colorbar\": {\"outlinewidth\": 0, \"ticks\": \"\"}, \"colorscale\": [[0.0, \"#0d0887\"], [0.1111111111111111, \"#46039f\"], [0.2222222222222222, \"#7201a8\"], [0.3333333333333333, \"#9c179e\"], [0.4444444444444444, \"#bd3786\"], [0.5555555555555556, \"#d8576b\"], [0.6666666666666666, \"#ed7953\"], [0.7777777777777778, \"#fb9f3a\"], [0.8888888888888888, \"#fdca26\"], [1.0, \"#f0f921\"]], \"type\": \"contour\"}], \"contourcarpet\": [{\"colorbar\": {\"outlinewidth\": 0, \"ticks\": \"\"}, \"type\": \"contourcarpet\"}], \"heatmap\": [{\"colorbar\": {\"outlinewidth\": 0, \"ticks\": \"\"}, \"colorscale\": [[0.0, \"#0d0887\"], [0.1111111111111111, \"#46039f\"], [0.2222222222222222, \"#7201a8\"], [0.3333333333333333, \"#9c179e\"], [0.4444444444444444, \"#bd3786\"], [0.5555555555555556, \"#d8576b\"], [0.6666666666666666, \"#ed7953\"], [0.7777777777777778, \"#fb9f3a\"], [0.8888888888888888, \"#fdca26\"], [1.0, \"#f0f921\"]], \"type\": \"heatmap\"}], \"heatmapgl\": [{\"colorbar\": {\"outlinewidth\": 0, \"ticks\": \"\"}, \"colorscale\": [[0.0, \"#0d0887\"], [0.1111111111111111, \"#46039f\"], [0.2222222222222222, \"#7201a8\"], [0.3333333333333333, \"#9c179e\"], [0.4444444444444444, \"#bd3786\"], [0.5555555555555556, \"#d8576b\"], [0.6666666666666666, \"#ed7953\"], [0.7777777777777778, \"#fb9f3a\"], [0.8888888888888888, \"#fdca26\"], [1.0, \"#f0f921\"]], \"type\": \"heatmapgl\"}], \"histogram\": [{\"marker\": {\"colorbar\": {\"outlinewidth\": 0, \"ticks\": \"\"}}, \"type\": \"histogram\"}], \"histogram2d\": [{\"colorbar\": {\"outlinewidth\": 0, \"ticks\": \"\"}, \"colorscale\": [[0.0, \"#0d0887\"], [0.1111111111111111, \"#46039f\"], [0.2222222222222222, \"#7201a8\"], [0.3333333333333333, \"#9c179e\"], [0.4444444444444444, \"#bd3786\"], [0.5555555555555556, \"#d8576b\"], [0.6666666666666666, \"#ed7953\"], [0.7777777777777778, \"#fb9f3a\"], [0.8888888888888888, \"#fdca26\"], [1.0, \"#f0f921\"]], \"type\": \"histogram2d\"}], \"histogram2dcontour\": [{\"colorbar\": {\"outlinewidth\": 0, \"ticks\": \"\"}, \"colorscale\": [[0.0, \"#0d0887\"], [0.1111111111111111, \"#46039f\"], [0.2222222222222222, \"#7201a8\"], [0.3333333333333333, \"#9c179e\"], [0.4444444444444444, \"#bd3786\"], [0.5555555555555556, \"#d8576b\"], [0.6666666666666666, \"#ed7953\"], [0.7777777777777778, \"#fb9f3a\"], [0.8888888888888888, \"#fdca26\"], [1.0, \"#f0f921\"]], \"type\": \"histogram2dcontour\"}], \"mesh3d\": [{\"colorbar\": {\"outlinewidth\": 0, \"ticks\": \"\"}, \"type\": \"mesh3d\"}], \"parcoords\": [{\"line\": {\"colorbar\": {\"outlinewidth\": 0, \"ticks\": \"\"}}, \"type\": \"parcoords\"}], \"pie\": [{\"automargin\": true, \"type\": \"pie\"}], \"scatter\": [{\"marker\": {\"colorbar\": {\"outlinewidth\": 0, \"ticks\": \"\"}}, \"type\": \"scatter\"}], \"scatter3d\": [{\"line\": {\"colorbar\": {\"outlinewidth\": 0, \"ticks\": \"\"}}, \"marker\": {\"colorbar\": {\"outlinewidth\": 0, \"ticks\": \"\"}}, \"type\": \"scatter3d\"}], \"scattercarpet\": [{\"marker\": {\"colorbar\": {\"outlinewidth\": 0, \"ticks\": \"\"}}, \"type\": \"scattercarpet\"}], \"scattergeo\": [{\"marker\": {\"colorbar\": {\"outlinewidth\": 0, \"ticks\": \"\"}}, \"type\": \"scattergeo\"}], \"scattergl\": [{\"marker\": {\"colorbar\": {\"outlinewidth\": 0, \"ticks\": \"\"}}, \"type\": \"scattergl\"}], \"scattermapbox\": [{\"marker\": {\"colorbar\": {\"outlinewidth\": 0, \"ticks\": \"\"}}, \"type\": \"scattermapbox\"}], \"scatterpolar\": [{\"marker\": {\"colorbar\": {\"outlinewidth\": 0, \"ticks\": \"\"}}, \"type\": \"scatterpolar\"}], \"scatterpolargl\": [{\"marker\": {\"colorbar\": {\"outlinewidth\": 0, \"ticks\": \"\"}}, \"type\": \"scatterpolargl\"}], \"scatterternary\": [{\"marker\": {\"colorbar\": {\"outlinewidth\": 0, \"ticks\": \"\"}}, \"type\": \"scatterternary\"}], \"surface\": [{\"colorbar\": {\"outlinewidth\": 0, \"ticks\": \"\"}, \"colorscale\": [[0.0, \"#0d0887\"], [0.1111111111111111, \"#46039f\"], [0.2222222222222222, \"#7201a8\"], [0.3333333333333333, \"#9c179e\"], [0.4444444444444444, \"#bd3786\"], [0.5555555555555556, \"#d8576b\"], [0.6666666666666666, \"#ed7953\"], [0.7777777777777778, \"#fb9f3a\"], [0.8888888888888888, \"#fdca26\"], [1.0, \"#f0f921\"]], \"type\": \"surface\"}], \"table\": [{\"cells\": {\"fill\": {\"color\": \"#EBF0F8\"}, \"line\": {\"color\": \"white\"}}, \"header\": {\"fill\": {\"color\": \"#C8D4E3\"}, \"line\": {\"color\": \"white\"}}, \"type\": \"table\"}]}, \"layout\": {\"annotationdefaults\": {\"arrowcolor\": \"#2a3f5f\", \"arrowhead\": 0, \"arrowwidth\": 1}, \"coloraxis\": {\"colorbar\": {\"outlinewidth\": 0, \"ticks\": \"\"}}, \"colorscale\": {\"diverging\": [[0, \"#8e0152\"], [0.1, \"#c51b7d\"], [0.2, \"#de77ae\"], [0.3, \"#f1b6da\"], [0.4, \"#fde0ef\"], [0.5, \"#f7f7f7\"], [0.6, \"#e6f5d0\"], [0.7, \"#b8e186\"], [0.8, \"#7fbc41\"], [0.9, \"#4d9221\"], [1, \"#276419\"]], \"sequential\": [[0.0, \"#0d0887\"], [0.1111111111111111, \"#46039f\"], [0.2222222222222222, \"#7201a8\"], [0.3333333333333333, \"#9c179e\"], [0.4444444444444444, \"#bd3786\"], [0.5555555555555556, \"#d8576b\"], [0.6666666666666666, \"#ed7953\"], [0.7777777777777778, \"#fb9f3a\"], [0.8888888888888888, \"#fdca26\"], [1.0, \"#f0f921\"]], \"sequentialminus\": [[0.0, \"#0d0887\"], [0.1111111111111111, \"#46039f\"], [0.2222222222222222, \"#7201a8\"], [0.3333333333333333, \"#9c179e\"], [0.4444444444444444, \"#bd3786\"], [0.5555555555555556, \"#d8576b\"], [0.6666666666666666, \"#ed7953\"], [0.7777777777777778, \"#fb9f3a\"], [0.8888888888888888, \"#fdca26\"], [1.0, \"#f0f921\"]]}, \"colorway\": [\"#636efa\", \"#EF553B\", \"#00cc96\", \"#ab63fa\", \"#FFA15A\", \"#19d3f3\", \"#FF6692\", \"#B6E880\", \"#FF97FF\", \"#FECB52\"], \"font\": {\"color\": \"#2a3f5f\"}, \"geo\": {\"bgcolor\": \"white\", \"lakecolor\": \"white\", \"landcolor\": \"#E5ECF6\", \"showlakes\": true, \"showland\": true, \"subunitcolor\": \"white\"}, \"hoverlabel\": {\"align\": \"left\"}, \"hovermode\": \"closest\", \"mapbox\": {\"style\": \"light\"}, \"paper_bgcolor\": \"white\", \"plot_bgcolor\": \"#E5ECF6\", \"polar\": {\"angularaxis\": {\"gridcolor\": \"white\", \"linecolor\": \"white\", \"ticks\": \"\"}, \"bgcolor\": \"#E5ECF6\", \"radialaxis\": {\"gridcolor\": \"white\", \"linecolor\": \"white\", \"ticks\": \"\"}}, \"scene\": {\"xaxis\": {\"backgroundcolor\": \"#E5ECF6\", \"gridcolor\": \"white\", \"gridwidth\": 2, \"linecolor\": \"white\", \"showbackground\": true, \"ticks\": \"\", \"zerolinecolor\": \"white\"}, \"yaxis\": {\"backgroundcolor\": \"#E5ECF6\", \"gridcolor\": \"white\", \"gridwidth\": 2, \"linecolor\": \"white\", \"showbackground\": true, \"ticks\": \"\", \"zerolinecolor\": \"white\"}, \"zaxis\": {\"backgroundcolor\": \"#E5ECF6\", \"gridcolor\": \"white\", \"gridwidth\": 2, \"linecolor\": \"white\", \"showbackground\": true, \"ticks\": \"\", \"zerolinecolor\": \"white\"}}, \"shapedefaults\": {\"line\": {\"color\": \"#2a3f5f\"}}, \"ternary\": {\"aaxis\": {\"gridcolor\": \"white\", \"linecolor\": \"white\", \"ticks\": \"\"}, \"baxis\": {\"gridcolor\": \"white\", \"linecolor\": \"white\", \"ticks\": \"\"}, \"bgcolor\": \"#E5ECF6\", \"caxis\": {\"gridcolor\": \"white\", \"linecolor\": \"white\", \"ticks\": \"\"}}, \"title\": {\"x\": 0.05}, \"xaxis\": {\"automargin\": true, \"gridcolor\": \"white\", \"linecolor\": \"white\", \"ticks\": \"\", \"title\": {\"standoff\": 15}, \"zerolinecolor\": \"white\", \"zerolinewidth\": 2}, \"yaxis\": {\"automargin\": true, \"gridcolor\": \"white\", \"linecolor\": \"white\", \"ticks\": \"\", \"title\": {\"standoff\": 15}, \"zerolinecolor\": \"white\", \"zerolinewidth\": 2}}}, \"title\": {\"text\": \"xc\"}, \"xaxis\": {\"anchor\": \"y\", \"domain\": [0.0, 1.0], \"title\": {\"text\": \"index\"}}, \"yaxis\": {\"anchor\": \"x\", \"domain\": [0.0, 1.0], \"title\": {\"text\": \"condition\"}}},\n",
              "                        {\"responsive\": true}\n",
              "                    ).then(function(){\n",
              "                            \n",
              "var gd = document.getElementById('436ea312-f009-4cce-9268-cf6fe20906d4');\n",
              "var x = new MutationObserver(function (mutations, observer) {{\n",
              "        var display = window.getComputedStyle(gd).display;\n",
              "        if (!display || display === 'none') {{\n",
              "            console.log([gd, 'removed!']);\n",
              "            Plotly.purge(gd);\n",
              "            observer.disconnect();\n",
              "        }}\n",
              "}});\n",
              "\n",
              "// Listen for the removal of the full notebook cells\n",
              "var notebookContainer = gd.closest('#notebook-container');\n",
              "if (notebookContainer) {{\n",
              "    x.observe(notebookContainer, {childList: true});\n",
              "}}\n",
              "\n",
              "// Listen for the clearing of the current output cell\n",
              "var outputEl = gd.closest('.output');\n",
              "if (outputEl) {{\n",
              "    x.observe(outputEl, {childList: true});\n",
              "}}\n",
              "\n",
              "                        })\n",
              "                };\n",
              "                \n",
              "            </script>\n",
              "        </div>\n",
              "</body>\n",
              "</html>"
            ]
          },
          "metadata": {
            "tags": []
          }
        }
      ]
    },
    {
      "cell_type": "markdown",
      "metadata": {
        "id": "T539dPZQp0cg",
        "colab_type": "text"
      },
      "source": [
        "### Encoding Labels"
      ]
    },
    {
      "cell_type": "code",
      "metadata": {
        "id": "lFORfDgPp2On",
        "colab_type": "code",
        "colab": {}
      },
      "source": [
        "# combining drug name with review\n",
        "df_train[\"combined\"] = df_train[\"drugName\"].str.lower() + \": \" + df_train[\"review\"].str.lower()\n",
        "df_test[\"combined\"] = df_test[\"drugName\"].str.lower() + \": \" + df_test[\"review\"].str.lower()\n",
        "\n",
        "# df_train[\"combined\"] = df_train[\"review\"].str.lower()\n",
        "# df_test[\"combined\"] = df_test[\"review\"].str.lower()"
      ],
      "execution_count": null,
      "outputs": []
    },
    {
      "cell_type": "code",
      "metadata": {
        "id": "4Jr9ECMVp8c7",
        "colab_type": "code",
        "colab": {
          "base_uri": "https://localhost:8080/",
          "height": 34
        },
        "outputId": "edd0733d-c48c-4bb4-8ba1-7bbedf52a2f7"
      },
      "source": [
        "labelencoder = LabelEncoder()\n",
        "df_train[\"Label\"] = labelencoder.fit_transform(df_train[\"condition\"])\n",
        "df_test[\"Label\"] = labelencoder.fit_transform(df_test[\"condition\"])\n",
        "len(labelencoder.classes_)"
      ],
      "execution_count": null,
      "outputs": [
        {
          "output_type": "execute_result",
          "data": {
            "text/plain": [
              "210"
            ]
          },
          "metadata": {
            "tags": []
          },
          "execution_count": 44
        }
      ]
    },
    {
      "cell_type": "markdown",
      "metadata": {
        "id": "TjZEWRi9qYQc",
        "colab_type": "text"
      },
      "source": [
        "### Removing Stepwords and stemming"
      ]
    },
    {
      "cell_type": "code",
      "metadata": {
        "id": "j3vbOMLDqjFg",
        "colab_type": "code",
        "colab": {
          "base_uri": "https://localhost:8080/",
          "height": 67
        },
        "outputId": "c6277dc0-69ea-415f-b5ef-365fe99661ee"
      },
      "source": [
        "import nltk\n",
        "nltk.download('stopwords')"
      ],
      "execution_count": null,
      "outputs": [
        {
          "output_type": "stream",
          "text": [
            "[nltk_data] Downloading package stopwords to /root/nltk_data...\n",
            "[nltk_data]   Package stopwords is already up-to-date!\n"
          ],
          "name": "stdout"
        },
        {
          "output_type": "execute_result",
          "data": {
            "text/plain": [
              "True"
            ]
          },
          "metadata": {
            "tags": []
          },
          "execution_count": 45
        }
      ]
    },
    {
      "cell_type": "code",
      "metadata": {
        "id": "VWtV-f7SqCSq",
        "colab_type": "code",
        "colab": {}
      },
      "source": [
        "def filter_data(reviews):\n",
        "  \n",
        "  \"\"\"\n",
        "  Filter the synopsis of training and testing df.\n",
        "  This function removes stop and stem words from the synopsis\n",
        "  :param synopsis_series:\n",
        "  :return:\n",
        "  \"\"\"\n",
        "  # covert to lower case\n",
        "  reviews = reviews.str.lower()\n",
        "  stop = stopwords.words('english')\n",
        "  stemmer = SnowballStemmer(\"english\")\n",
        "  wordnet_lemmatizer = WordNetLemmatizer()\n",
        "  # remove stop words\n",
        "  series = reviews.apply(\n",
        "      lambda x: ' '.join([word for word in x.split() if word not in stop]))\n",
        "\n",
        "  # remove stem words\n",
        "  series = series.apply(lambda x: ' '.join([stemmer.stem(word) for word in x.split()]))\n",
        "\n",
        "  # lematize stem words\n",
        "#         series = series.apply(\n",
        "#             lambda x: ' '.join([wordnet_lemmatizer.lemmatize(word, pos=\"v\")\n",
        "#                                 for word in x.split()]))\n",
        "  return series\n",
        "    \n",
        "df_train[\"combined\"] = filter_data(df_train[\"combined\"])\n",
        "df_test[\"combined\"] = filter_data(df_test[\"combined\"])"
      ],
      "execution_count": null,
      "outputs": []
    },
    {
      "cell_type": "code",
      "metadata": {
        "id": "WWHh599omIP-",
        "colab_type": "code",
        "colab": {}
      },
      "source": [
        "# shuffle the training dataframe and first work with it\n",
        "df_train = df_train.sample(frac=1)\n",
        "X = df_train['combined']\n",
        "Y = df_train['Label']"
      ],
      "execution_count": null,
      "outputs": []
    },
    {
      "cell_type": "markdown",
      "metadata": {
        "id": "gGZlqzgJq4DL",
        "colab_type": "text"
      },
      "source": [
        "## Creating Model"
      ]
    },
    {
      "cell_type": "markdown",
      "metadata": {
        "id": "N_4aY1tOQlTC",
        "colab_type": "text"
      },
      "source": [
        "### Defining a function for K-Fold Cross Validation for multiple classifiers"
      ]
    },
    {
      "cell_type": "code",
      "metadata": {
        "id": "K9KZnP2iGGeL",
        "colab_type": "code",
        "colab": {}
      },
      "source": [
        "def cross_val_multiple_classifiers(X, Y):\n",
        "  classifiers = [MultinomialNB(), SGDClassifier(loss=\"modified_huber\"), RandomForestClassifier(n_estimators=100), KNeighborsClassifier(n_neighbors=5)]\n",
        "  labels = ['Multinomial Naive Bayes', 'SGD Classifier', 'Random Forest',  'KNN']\n",
        "  clf_cv_mean = []\n",
        "  clf_cv_std = []\n",
        "  for clf, label in zip(classifiers, labels): \n",
        "      scores = cross_val_score(clf, X, Y, cv=4, scoring='accuracy')\n",
        "      print (\"Accuracy: %.2f (+/- %.2f) [%s]\" %(scores.mean(), scores.std(), label))\n",
        "\n"
      ],
      "execution_count": null,
      "outputs": []
    },
    {
      "cell_type": "markdown",
      "metadata": {
        "id": "AW1p67xtQ60o",
        "colab_type": "text"
      },
      "source": [
        "### Creating Count Vectorizer Object and transforming whole training dataset from it"
      ]
    },
    {
      "cell_type": "code",
      "metadata": {
        "id": "kmYfmhA3Qlo2",
        "colab_type": "code",
        "colab": {}
      },
      "source": [
        "count_vectorizer = CountVectorizer(ngram_range=(1,2))\n",
        "X_count_vec = count_vectorizer.fit_transform(X)"
      ],
      "execution_count": null,
      "outputs": []
    },
    {
      "cell_type": "markdown",
      "metadata": {
        "id": "xTl5f1W1SHcw",
        "colab_type": "text"
      },
      "source": [
        "#### Calling K Fold validation of multiple classifiers on Count Vectorized Dataset"
      ]
    },
    {
      "cell_type": "code",
      "metadata": {
        "id": "7mJDUSOW0KPo",
        "colab_type": "code",
        "colab": {
          "base_uri": "https://localhost:8080/",
          "height": 84
        },
        "outputId": "af7afc47-d22b-4239-8c69-b487b297fb83"
      },
      "source": [
        "# calling multiple classifiers on the vectorized features\n",
        "cross_val_multiple_classifiers(X_count_vec, Y)"
      ],
      "execution_count": null,
      "outputs": [
        {
          "output_type": "stream",
          "text": [
            "Accuracy: 0.47 (+/- 0.00) [Multinomial Naive Bayes]\n",
            "Accuracy: 0.57 (+/- 0.01) [SGD Classifier]\n",
            "Accuracy: 0.65 (+/- 0.00) [Random Forest]\n",
            "Accuracy: 0.08 (+/- 0.00) [KNN]\n"
          ],
          "name": "stdout"
        }
      ]
    },
    {
      "cell_type": "markdown",
      "metadata": {
        "id": "ClVf1Jd8zGbB",
        "colab_type": "text"
      },
      "source": [
        "### Creating TFIDF Vectorizer"
      ]
    },
    {
      "cell_type": "code",
      "metadata": {
        "id": "-SW_pI33y8hN",
        "colab_type": "code",
        "colab": {}
      },
      "source": [
        "tf_idf_vectorizer = TfidfVectorizer(ngram_range=(1,2))\n",
        "X_tf_idf_vec = tf_idf_vectorizer.fit_transform(X)"
      ],
      "execution_count": null,
      "outputs": []
    },
    {
      "cell_type": "markdown",
      "metadata": {
        "id": "3zWYELFeSUAX",
        "colab_type": "text"
      },
      "source": [
        "#### Calling K Fold validation of multiple classifiers on TFIDF Vectorized Dataset"
      ]
    },
    {
      "cell_type": "code",
      "metadata": {
        "id": "a8wnrjMV0MCW",
        "colab_type": "code",
        "colab": {
          "base_uri": "https://localhost:8080/",
          "height": 84
        },
        "outputId": "b99d1b42-9edb-4fe0-baaf-6754c5b07d49"
      },
      "source": [
        "cross_val_multiple_classifiers(X_tf_idf_vec, Y)"
      ],
      "execution_count": null,
      "outputs": [
        {
          "output_type": "stream",
          "text": [
            "Accuracy: 0.47 (+/- 0.00) [Multinomial Naive Bayes]\n",
            "Accuracy: 0.71 (+/- 0.00) [SGD Classifier]\n",
            "Accuracy: 0.66 (+/- 0.00) [Random Forest]\n",
            "Accuracy: 0.53 (+/- 0.01) [KNN]\n"
          ],
          "name": "stdout"
        }
      ]
    },
    {
      "cell_type": "markdown",
      "metadata": {
        "id": "zUymS-dnXCJ2",
        "colab_type": "text"
      },
      "source": [
        "## Ensemble Model"
      ]
    },
    {
      "cell_type": "markdown",
      "metadata": {
        "id": "KPBiYXwhXKlk",
        "colab_type": "text"
      },
      "source": [
        "Combining Results from SGDClassifier of Count Vectorizer Model and TFIDF Vectorizer Model using Soft Voting"
      ]
    },
    {
      "cell_type": "markdown",
      "metadata": {
        "id": "HuWdB1K2qthB",
        "colab_type": "text"
      },
      "source": [
        "### Performing train Test Split"
      ]
    },
    {
      "cell_type": "code",
      "metadata": {
        "id": "hrbWAc8wqzue",
        "colab_type": "code",
        "colab": {}
      },
      "source": [
        "# divide the dataset in to train and test set\n",
        "random_seed = 63445\n",
        "x1_train, x1_val, y1_train, y1_val = train_test_split(df_train['combined'], df_train['Label'], shuffle=True, test_size = 0.30, random_state=random_seed, stratify=df_train['Label'])"
      ],
      "execution_count": null,
      "outputs": []
    },
    {
      "cell_type": "markdown",
      "metadata": {
        "id": "MqL_uAbwgl_6",
        "colab_type": "text"
      },
      "source": [
        "### Vectorizing Train and Validate Objects"
      ]
    },
    {
      "cell_type": "code",
      "metadata": {
        "id": "HsiPtxAppBtg",
        "colab_type": "code",
        "colab": {}
      },
      "source": [
        "def transform_data_in_count_vec_and_tfidf(x_data, count_vectorizer, tf_idf_vectorizer):\n",
        "  return count_vectorizer.transform(x_data), tf_idf_vectorizer.transform(x_data)"
      ],
      "execution_count": null,
      "outputs": []
    },
    {
      "cell_type": "code",
      "metadata": {
        "id": "h_ivtV3UXIr8",
        "colab_type": "code",
        "colab": {}
      },
      "source": [
        "x1_train_count_vec, x1_train_tf_idf = transform_data_in_count_vec_and_tfidf(x1_train,\n",
        "                                                                            count_vectorizer, \n",
        "                                                                            tf_idf_vectorizer)\n",
        "\n",
        "x1_val_count_vec, x1_val_tf_idf = transform_data_in_count_vec_and_tfidf(x1_val,\n",
        "                                                                            count_vectorizer, \n",
        "                                                                            tf_idf_vectorizer)"
      ],
      "execution_count": null,
      "outputs": []
    },
    {
      "cell_type": "code",
      "metadata": {
        "id": "UjwzVH0EgkXt",
        "colab_type": "code",
        "colab": {
          "base_uri": "https://localhost:8080/",
          "height": 118
        },
        "outputId": "19e33bcf-5aed-428d-e834-2d1bd7a3ff5f"
      },
      "source": [
        "sgd_classifier1 = SGDClassifier(loss=\"modified_huber\")\n",
        "sgd_classifier2 = SGDClassifier(loss=\"modified_huber\")\n",
        "\n",
        "# fitting model 1 on count vectorizer dataset\n",
        "sgd_classifier1.fit(x1_train_count_vec, y1_train)\n",
        "\n",
        "# fitting model 2 on tf idf vectorizer object\n",
        "sgd_classifier2.fit(x1_train_tf_idf, y1_train)"
      ],
      "execution_count": null,
      "outputs": [
        {
          "output_type": "execute_result",
          "data": {
            "text/plain": [
              "SGDClassifier(alpha=0.0001, average=False, class_weight=None,\n",
              "              early_stopping=False, epsilon=0.1, eta0=0.0, fit_intercept=True,\n",
              "              l1_ratio=0.15, learning_rate='optimal', loss='modified_huber',\n",
              "              max_iter=1000, n_iter_no_change=5, n_jobs=None, penalty='l2',\n",
              "              power_t=0.5, random_state=None, shuffle=True, tol=0.001,\n",
              "              validation_fraction=0.1, verbose=0, warm_start=False)"
            ]
          },
          "metadata": {
            "tags": []
          },
          "execution_count": 53
        }
      ]
    },
    {
      "cell_type": "code",
      "metadata": {
        "id": "6LQl07V-nbOp",
        "colab_type": "code",
        "colab": {}
      },
      "source": [
        "from sklearn.metrics import accuracy_score\n",
        "from sklearn.metrics import f1_score\n",
        "\n",
        "def get_ensemble_preds(clfs, x1, x2, y):  \n",
        "  print(\"Accuracy of SGD Classifier on Validation Set from Count Vectorizer Object: \", \n",
        "        accuracy_score(y, clfs[0].predict(x1)))\n",
        "  print(\"Micro F-1 Score of SGD Classifier on Validation Set from Count Vectorizer Object: \", \n",
        "        f1_score(y, clfs[0].predict(x1), average=\"macro\"))\n",
        "  \n",
        "  print(\"Accuracy of SGD Classifier Validation Set from TF-IDF Vectorizer Object: \", \n",
        "        accuracy_score(y, clfs[1].predict(x2)))\n",
        "  print(\"Micro F-1 Score of SGD Classifier Validation Set from TF-IDF Vectorizer Object: \", \n",
        "        f1_score(y, clfs[1].predict(x2), average=\"macro\"))\n",
        "  \n",
        "\n",
        "  probs_combined = (clfs[0].predict_proba(x1) + \n",
        "                    clfs[1].predict_proba(x2)) / 2\n",
        "  print(\"Ensemble Accuracy Score: \", accuracy_score(y, \n",
        "                                                    np.argmax(probs_combined, \n",
        "                                                              axis=1)))\n",
        "  print(\"Ensemble Micro F-1 Score: \", f1_score(y, \n",
        "                                                    np.argmax(probs_combined, \n",
        "                                                              axis=1), average=\"macro\"))\n"
      ],
      "execution_count": null,
      "outputs": []
    },
    {
      "cell_type": "code",
      "metadata": {
        "id": "tQ3t2ZcbBRee",
        "colab_type": "code",
        "colab": {
          "base_uri": "https://localhost:8080/",
          "height": 118
        },
        "outputId": "5555fe12-274d-4579-e39f-415e59fa795a"
      },
      "source": [
        "# getting ensemble accuracy on validation set\n",
        "get_ensemble_preds([sgd_classifier1, sgd_classifier2], x1_val_count_vec, \n",
        "                   x1_val_tf_idf, y1_val)"
      ],
      "execution_count": null,
      "outputs": [
        {
          "output_type": "stream",
          "text": [
            "Accuracy of SGD Classifier on Validation Set from Count Vectorizer Object:  0.563508064516129\n",
            "Micro F-1 Score of SGD Classifier on Validation Set from Count Vectorizer Object:  0.5182146003429337\n",
            "Accuracy of SGD Classifier Validation Set from TF-IDF Vectorizer Object:  0.7091733870967742\n",
            "Micro F-1 Score of SGD Classifier Validation Set from TF-IDF Vectorizer Object:  0.6598764082844812\n",
            "Ensemble Accuracy Score:  0.7037970430107527\n",
            "Ensemble Micro F-1 Score:  0.6626992789034075\n"
          ],
          "name": "stdout"
        }
      ]
    },
    {
      "cell_type": "code",
      "metadata": {
        "id": "hpnlCdwUVLSo",
        "colab_type": "code",
        "colab": {
          "base_uri": "https://localhost:8080/",
          "height": 34
        },
        "outputId": "dcdf4c5e-5b49-47b8-f52f-7ce1b21762db"
      },
      "source": [
        "\n",
        "from sklearn import metrics\n",
        "auc = metrics.roc_auc_score(y1_val, sgd_classifier2.predict_proba(x1_val_tf_idf), \n",
        "                            multi_class=\"ovr\")\n",
        "print(auc)"
      ],
      "execution_count": null,
      "outputs": [
        {
          "output_type": "stream",
          "text": [
            "0.9692289158293079\n"
          ],
          "name": "stdout"
        }
      ]
    },
    {
      "cell_type": "markdown",
      "metadata": {
        "id": "bXBTTtAqohLN",
        "colab_type": "text"
      },
      "source": [
        "### Getting Results of Ensemble Model on Test Set\n"
      ]
    },
    {
      "cell_type": "code",
      "metadata": {
        "id": "3lHB1csIUjqa",
        "colab_type": "code",
        "colab": {
          "base_uri": "https://localhost:8080/",
          "height": 118
        },
        "outputId": "5bc0b656-f37b-4515-c1fa-c7595d931507"
      },
      "source": [
        "x_test_count_vec, x_test_tf_idf = transform_data_in_count_vec_and_tfidf(df_test[\"combined\"],\n",
        "                                                                            count_vectorizer, \n",
        "                                                                            tf_idf_vectorizer)\n",
        "get_ensemble_preds([sgd_classifier1, sgd_classifier2], x_test_count_vec, \n",
        "                   x_test_tf_idf, df_test[\"Label\"].tolist())"
      ],
      "execution_count": null,
      "outputs": [
        {
          "output_type": "stream",
          "text": [
            "Accuracy of SGD Classifier on Validation Set from Count Vectorizer Object:  0.6270098978913188\n",
            "Micro F-1 Score of SGD Classifier on Validation Set from Count Vectorizer Object:  0.6270098978913188\n",
            "Accuracy of SGD Classifier Validation Set from TF-IDF Vectorizer Object:  0.7435155119126795\n",
            "Micro F-1 Score of SGD Classifier Validation Set from TF-IDF Vectorizer Object:  0.7435155119126795\n",
            "Ensemble Accuracy Score:  0.7369821212002661\n",
            "Ensemble Micro F-1 Score:  0.736982121200266\n"
          ],
          "name": "stdout"
        }
      ]
    }
  ]
}