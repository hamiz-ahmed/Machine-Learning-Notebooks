{
  "nbformat": 4,
  "nbformat_minor": 0,
  "metadata": {
    "colab": {
      "name": "Copy of Classifying Disaster Tweets.ipynb",
      "provenance": [],
      "collapsed_sections": [],
      "toc_visible": true
    },
    "kernelspec": {
      "name": "python3",
      "display_name": "Python 3"
    },
    "accelerator": "GPU"
  },
  "cells": [
    {
      "cell_type": "markdown",
      "metadata": {
        "id": "NUWTI2kII0xB",
        "colab_type": "text"
      },
      "source": [
        "# **Supervised Learning code for Disaster Tweet Classification**\n",
        "\n",
        "Installing the libraries\n"
      ]
    },
    {
      "cell_type": "code",
      "metadata": {
        "id": "6Uu9dnNJuzk3",
        "colab_type": "code",
        "colab": {
          "base_uri": "https://localhost:8080/",
          "height": 1000
        },
        "outputId": "d75b824f-38cf-4fc0-9c9f-d1607d4929db"
      },
      "source": [
        "!pip3 install ktrain==0.7.1"
      ],
      "execution_count": 1,
      "outputs": [
        {
          "output_type": "stream",
          "text": [
            "Collecting ktrain==0.7.1\n",
            "\u001b[?25l  Downloading https://files.pythonhosted.org/packages/c6/5f/97c4fbf556fd7e8988037aedd4f4983115372fd509833ee8cfce1c240bd9/ktrain-0.7.1.tar.gz (88kB)\n",
            "\u001b[K     |████████████████████████████████| 92kB 6.9MB/s \n",
            "\u001b[?25hCollecting scikit-learn==0.21.3\n",
            "\u001b[?25l  Downloading https://files.pythonhosted.org/packages/a0/c5/d2238762d780dde84a20b8c761f563fe882b88c5a5fb03c056547c442a19/scikit_learn-0.21.3-cp36-cp36m-manylinux1_x86_64.whl (6.7MB)\n",
            "\u001b[K     |████████████████████████████████| 6.7MB 22.4MB/s \n",
            "\u001b[?25hRequirement already satisfied: matplotlib>=3.0.0 in /usr/local/lib/python3.6/dist-packages (from ktrain==0.7.1) (3.2.2)\n",
            "Requirement already satisfied: pandas>=0.24.2 in /usr/local/lib/python3.6/dist-packages (from ktrain==0.7.1) (1.0.5)\n",
            "Requirement already satisfied: fastprogress>=0.1.21 in /usr/local/lib/python3.6/dist-packages (from ktrain==0.7.1) (0.2.3)\n",
            "Collecting keras_bert\n",
            "  Downloading https://files.pythonhosted.org/packages/ec/08/bffa03eb899b20bfb60553e4503f8bac00b83d415bc6ead08f6b447e8aaa/keras-bert-0.84.0.tar.gz\n",
            "Requirement already satisfied: requests in /usr/local/lib/python3.6/dist-packages (from ktrain==0.7.1) (2.23.0)\n",
            "Requirement already satisfied: joblib in /usr/local/lib/python3.6/dist-packages (from ktrain==0.7.1) (0.15.1)\n",
            "Collecting langdetect\n",
            "\u001b[?25l  Downloading https://files.pythonhosted.org/packages/56/a3/8407c1e62d5980188b4acc45ef3d94b933d14a2ebc9ef3505f22cf772570/langdetect-1.0.8.tar.gz (981kB)\n",
            "\u001b[K     |████████████████████████████████| 983kB 44.4MB/s \n",
            "\u001b[?25hRequirement already satisfied: jieba in /usr/local/lib/python3.6/dist-packages (from ktrain==0.7.1) (0.42.1)\n",
            "Collecting cchardet\n",
            "\u001b[?25l  Downloading https://files.pythonhosted.org/packages/1e/c5/7e1a0d7b4afd83d6f8de794fce82820ec4c5136c6d52e14000822681a842/cchardet-2.1.6-cp36-cp36m-manylinux2010_x86_64.whl (241kB)\n",
            "\u001b[K     |████████████████████████████████| 245kB 54.2MB/s \n",
            "\u001b[?25hCollecting networkx==2.3\n",
            "\u001b[?25l  Downloading https://files.pythonhosted.org/packages/85/08/f20aef11d4c343b557e5de6b9548761811eb16e438cee3d32b1c66c8566b/networkx-2.3.zip (1.7MB)\n",
            "\u001b[K     |████████████████████████████████| 1.8MB 40.0MB/s \n",
            "\u001b[?25hRequirement already satisfied: bokeh in /usr/local/lib/python3.6/dist-packages (from ktrain==0.7.1) (1.4.0)\n",
            "Collecting seqeval\n",
            "  Downloading https://files.pythonhosted.org/packages/34/91/068aca8d60ce56dd9ba4506850e876aba5e66a6f2f29aa223224b50df0de/seqeval-0.0.12.tar.gz\n",
            "Requirement already satisfied: packaging in /usr/local/lib/python3.6/dist-packages (from ktrain==0.7.1) (20.4)\n",
            "Requirement already satisfied: numpy>=1.11.0 in /usr/local/lib/python3.6/dist-packages (from scikit-learn==0.21.3->ktrain==0.7.1) (1.18.5)\n",
            "Requirement already satisfied: scipy>=0.17.0 in /usr/local/lib/python3.6/dist-packages (from scikit-learn==0.21.3->ktrain==0.7.1) (1.4.1)\n",
            "Requirement already satisfied: pyparsing!=2.0.4,!=2.1.2,!=2.1.6,>=2.0.1 in /usr/local/lib/python3.6/dist-packages (from matplotlib>=3.0.0->ktrain==0.7.1) (2.4.7)\n",
            "Requirement already satisfied: python-dateutil>=2.1 in /usr/local/lib/python3.6/dist-packages (from matplotlib>=3.0.0->ktrain==0.7.1) (2.8.1)\n",
            "Requirement already satisfied: cycler>=0.10 in /usr/local/lib/python3.6/dist-packages (from matplotlib>=3.0.0->ktrain==0.7.1) (0.10.0)\n",
            "Requirement already satisfied: kiwisolver>=1.0.1 in /usr/local/lib/python3.6/dist-packages (from matplotlib>=3.0.0->ktrain==0.7.1) (1.2.0)\n",
            "Requirement already satisfied: pytz>=2017.2 in /usr/local/lib/python3.6/dist-packages (from pandas>=0.24.2->ktrain==0.7.1) (2018.9)\n",
            "Requirement already satisfied: Keras in /usr/local/lib/python3.6/dist-packages (from keras_bert->ktrain==0.7.1) (2.3.1)\n",
            "Collecting keras-transformer>=0.37.0\n",
            "  Downloading https://files.pythonhosted.org/packages/8a/2b/c465241bd3f37a3699246827ff4ad7974c6edeaa69cf9cdcff2fd1d3ba46/keras-transformer-0.37.0.tar.gz\n",
            "Requirement already satisfied: urllib3!=1.25.0,!=1.25.1,<1.26,>=1.21.1 in /usr/local/lib/python3.6/dist-packages (from requests->ktrain==0.7.1) (1.24.3)\n",
            "Requirement already satisfied: chardet<4,>=3.0.2 in /usr/local/lib/python3.6/dist-packages (from requests->ktrain==0.7.1) (3.0.4)\n",
            "Requirement already satisfied: certifi>=2017.4.17 in /usr/local/lib/python3.6/dist-packages (from requests->ktrain==0.7.1) (2020.6.20)\n",
            "Requirement already satisfied: idna<3,>=2.5 in /usr/local/lib/python3.6/dist-packages (from requests->ktrain==0.7.1) (2.9)\n",
            "Requirement already satisfied: six in /usr/local/lib/python3.6/dist-packages (from langdetect->ktrain==0.7.1) (1.12.0)\n",
            "Requirement already satisfied: decorator>=4.3.0 in /usr/local/lib/python3.6/dist-packages (from networkx==2.3->ktrain==0.7.1) (4.4.2)\n",
            "Requirement already satisfied: tornado>=4.3 in /usr/local/lib/python3.6/dist-packages (from bokeh->ktrain==0.7.1) (4.5.3)\n",
            "Requirement already satisfied: PyYAML>=3.10 in /usr/local/lib/python3.6/dist-packages (from bokeh->ktrain==0.7.1) (3.13)\n",
            "Requirement already satisfied: Jinja2>=2.7 in /usr/local/lib/python3.6/dist-packages (from bokeh->ktrain==0.7.1) (2.11.2)\n",
            "Requirement already satisfied: pillow>=4.0 in /usr/local/lib/python3.6/dist-packages (from bokeh->ktrain==0.7.1) (7.0.0)\n",
            "Requirement already satisfied: keras-applications>=1.0.6 in /usr/local/lib/python3.6/dist-packages (from Keras->keras_bert->ktrain==0.7.1) (1.0.8)\n",
            "Requirement already satisfied: h5py in /usr/local/lib/python3.6/dist-packages (from Keras->keras_bert->ktrain==0.7.1) (2.10.0)\n",
            "Requirement already satisfied: keras-preprocessing>=1.0.5 in /usr/local/lib/python3.6/dist-packages (from Keras->keras_bert->ktrain==0.7.1) (1.1.2)\n",
            "Collecting keras-pos-embd>=0.11.0\n",
            "  Downloading https://files.pythonhosted.org/packages/09/70/b63ed8fc660da2bb6ae29b9895401c628da5740c048c190b5d7107cadd02/keras-pos-embd-0.11.0.tar.gz\n",
            "Collecting keras-multi-head>=0.27.0\n",
            "  Downloading https://files.pythonhosted.org/packages/e6/32/45adf2549450aca7867deccfa04af80a0ab1ca139af44b16bc669e0e09cd/keras-multi-head-0.27.0.tar.gz\n",
            "Collecting keras-layer-normalization>=0.14.0\n",
            "  Downloading https://files.pythonhosted.org/packages/a4/0e/d1078df0494bac9ce1a67954e5380b6e7569668f0f3b50a9531c62c1fc4a/keras-layer-normalization-0.14.0.tar.gz\n",
            "Collecting keras-position-wise-feed-forward>=0.6.0\n",
            "  Downloading https://files.pythonhosted.org/packages/e3/59/f0faa1037c033059e7e9e7758e6c23b4d1c0772cd48de14c4b6fd4033ad5/keras-position-wise-feed-forward-0.6.0.tar.gz\n",
            "Collecting keras-embed-sim>=0.7.0\n",
            "  Downloading https://files.pythonhosted.org/packages/bc/20/735fd53f6896e2af63af47e212601c1b8a7a80d00b6126c388c9d1233892/keras-embed-sim-0.7.0.tar.gz\n",
            "Requirement already satisfied: MarkupSafe>=0.23 in /usr/local/lib/python3.6/dist-packages (from Jinja2>=2.7->bokeh->ktrain==0.7.1) (1.1.1)\n",
            "Collecting keras-self-attention==0.46.0\n",
            "  Downloading https://files.pythonhosted.org/packages/15/6b/c804924a056955fa1f3ff767945187103cfc851ba9bd0fc5a6c6bc18e2eb/keras-self-attention-0.46.0.tar.gz\n",
            "Building wheels for collected packages: ktrain, keras-bert, langdetect, networkx, seqeval, keras-transformer, keras-pos-embd, keras-multi-head, keras-layer-normalization, keras-position-wise-feed-forward, keras-embed-sim, keras-self-attention\n",
            "  Building wheel for ktrain (setup.py) ... \u001b[?25l\u001b[?25hdone\n",
            "  Created wheel for ktrain: filename=ktrain-0.7.1-cp36-none-any.whl size=113531 sha256=ca8e84ba551cb14ecdf63ad5cd690767ff6be8189039e954da4273f18987af38\n",
            "  Stored in directory: /root/.cache/pip/wheels/b3/8b/ba/b274eb6f796b689e0eb2b2a05d88d1e1d66e5df88278aaf422\n",
            "  Building wheel for keras-bert (setup.py) ... \u001b[?25l\u001b[?25hdone\n",
            "  Created wheel for keras-bert: filename=keras_bert-0.84.0-cp36-none-any.whl size=36139 sha256=12bc018d9610a56a4dbc9a3ebb98749fbc772e7490aab6d86f8a0384316fc6bd\n",
            "  Stored in directory: /root/.cache/pip/wheels/1f/59/04/12e95257aebfd27f7edaaf65ab7dd57b5f6cadfb183f1a4ccd\n",
            "  Building wheel for langdetect (setup.py) ... \u001b[?25l\u001b[?25hdone\n",
            "  Created wheel for langdetect: filename=langdetect-1.0.8-cp36-none-any.whl size=993193 sha256=a50a2c17f9042c3463cec20438290528f23a7a6062cc6c4fb10a934501397587\n",
            "  Stored in directory: /root/.cache/pip/wheels/8d/b3/aa/6d99de9f3841d7d3d40a60ea06e6d669e8e5012e6c8b947a57\n",
            "  Building wheel for networkx (setup.py) ... \u001b[?25l\u001b[?25hdone\n",
            "  Created wheel for networkx: filename=networkx-2.3-py2.py3-none-any.whl size=1556408 sha256=a264fdcf96393db81d1337b4a7dc3fbeaa5b087b334b69d9c36d773cbf41b574\n",
            "  Stored in directory: /root/.cache/pip/wheels/de/63/64/3699be2a9d0ccdb37c7f16329acf3863fd76eda58c39c737af\n",
            "  Building wheel for seqeval (setup.py) ... \u001b[?25l\u001b[?25hdone\n",
            "  Created wheel for seqeval: filename=seqeval-0.0.12-cp36-none-any.whl size=7424 sha256=6d9202eb4b0909a9bc997b387a7e3e0e68da6a860c0f5977c53bf97841599c02\n",
            "  Stored in directory: /root/.cache/pip/wheels/4f/32/0a/df3b340a82583566975377d65e724895b3fad101a3fb729f68\n",
            "  Building wheel for keras-transformer (setup.py) ... \u001b[?25l\u001b[?25hdone\n",
            "  Created wheel for keras-transformer: filename=keras_transformer-0.37.0-cp36-none-any.whl size=12942 sha256=e9f7c98838ee4f45388a425358038070331d1b62cf81acce5f1f17eaf081c542\n",
            "  Stored in directory: /root/.cache/pip/wheels/2a/f9/31/2a3289e948852ce0dd3fcd94c34bbc7eb9628842cb7110a87b\n",
            "  Building wheel for keras-pos-embd (setup.py) ... \u001b[?25l\u001b[?25hdone\n",
            "  Created wheel for keras-pos-embd: filename=keras_pos_embd-0.11.0-cp36-none-any.whl size=7554 sha256=3b9922e7fc499927cd64c6f13517bc65d14cce32fe7e4f3997d0466562bc5a64\n",
            "  Stored in directory: /root/.cache/pip/wheels/5b/a1/a0/ce6b1d49ba1a9a76f592e70cf297b05c96bc9f418146761032\n",
            "  Building wheel for keras-multi-head (setup.py) ... \u001b[?25l\u001b[?25hdone\n",
            "  Created wheel for keras-multi-head: filename=keras_multi_head-0.27.0-cp36-none-any.whl size=15611 sha256=0820d82c82fda5263060948140f071e07ad467f76b13f343abc5b116514ec483\n",
            "  Stored in directory: /root/.cache/pip/wheels/b5/b4/49/0a0c27dcb93c13af02fea254ff51d1a43a924dd4e5b7a7164d\n",
            "  Building wheel for keras-layer-normalization (setup.py) ... \u001b[?25l\u001b[?25hdone\n",
            "  Created wheel for keras-layer-normalization: filename=keras_layer_normalization-0.14.0-cp36-none-any.whl size=5268 sha256=0295dbd01b8f403392d552d600ae01833ddfe1548d19573d7ae49dd6259fa88e\n",
            "  Stored in directory: /root/.cache/pip/wheels/54/80/22/a638a7d406fd155e507aa33d703e3fa2612b9eb7bb4f4fe667\n",
            "  Building wheel for keras-position-wise-feed-forward (setup.py) ... \u001b[?25l\u001b[?25hdone\n",
            "  Created wheel for keras-position-wise-feed-forward: filename=keras_position_wise_feed_forward-0.6.0-cp36-none-any.whl size=5623 sha256=6ab89eacb8558fce110262b955d8dc6d6ba6a560cac6d49cc43fc9f2294cf983\n",
            "  Stored in directory: /root/.cache/pip/wheels/39/e2/e2/3514fef126a00574b13bc0b9e23891800158df3a3c19c96e3b\n",
            "  Building wheel for keras-embed-sim (setup.py) ... \u001b[?25l\u001b[?25hdone\n",
            "  Created wheel for keras-embed-sim: filename=keras_embed_sim-0.7.0-cp36-none-any.whl size=4676 sha256=491246379193755f0d9532153ba198e8e27cb7d3ddf087dfd95ee8d896add025\n",
            "  Stored in directory: /root/.cache/pip/wheels/d1/bc/b1/b0c45cee4ca2e6c86586b0218ffafe7f0703c6d07fdf049866\n",
            "  Building wheel for keras-self-attention (setup.py) ... \u001b[?25l\u001b[?25hdone\n",
            "  Created wheel for keras-self-attention: filename=keras_self_attention-0.46.0-cp36-none-any.whl size=17278 sha256=660fd4604e1e87d153697bb30c36defe863d735fd1915ceb3ae50da96c81d0f8\n",
            "  Stored in directory: /root/.cache/pip/wheels/d2/2e/80/fec4c05eb23c8e13b790e26d207d6e0ffe8013fad8c6bdd4d2\n",
            "Successfully built ktrain keras-bert langdetect networkx seqeval keras-transformer keras-pos-embd keras-multi-head keras-layer-normalization keras-position-wise-feed-forward keras-embed-sim keras-self-attention\n",
            "\u001b[31mERROR: albumentations 0.1.12 has requirement imgaug<0.2.7,>=0.2.5, but you'll have imgaug 0.2.9 which is incompatible.\u001b[0m\n",
            "Installing collected packages: scikit-learn, keras-pos-embd, keras-self-attention, keras-multi-head, keras-layer-normalization, keras-position-wise-feed-forward, keras-embed-sim, keras-transformer, keras-bert, langdetect, cchardet, networkx, seqeval, ktrain\n",
            "  Found existing installation: scikit-learn 0.22.2.post1\n",
            "    Uninstalling scikit-learn-0.22.2.post1:\n",
            "      Successfully uninstalled scikit-learn-0.22.2.post1\n",
            "  Found existing installation: networkx 2.4\n",
            "    Uninstalling networkx-2.4:\n",
            "      Successfully uninstalled networkx-2.4\n",
            "Successfully installed cchardet-2.1.6 keras-bert-0.84.0 keras-embed-sim-0.7.0 keras-layer-normalization-0.14.0 keras-multi-head-0.27.0 keras-pos-embd-0.11.0 keras-position-wise-feed-forward-0.6.0 keras-self-attention-0.46.0 keras-transformer-0.37.0 ktrain-0.7.1 langdetect-1.0.8 networkx-2.3 scikit-learn-0.21.3 seqeval-0.0.12\n"
          ],
          "name": "stdout"
        }
      ]
    },
    {
      "cell_type": "markdown",
      "metadata": {
        "id": "zQgG37TuJNdv",
        "colab_type": "text"
      },
      "source": [
        "### Importing Libraries\n"
      ]
    },
    {
      "cell_type": "code",
      "metadata": {
        "id": "FWMcWRscfxzr",
        "colab_type": "code",
        "colab": {
          "base_uri": "https://localhost:8080/",
          "height": 34
        },
        "outputId": "b521da5b-fa2f-43d4-e874-1c925ebc2b72"
      },
      "source": [
        "from sklearn.model_selection import train_test_split\n",
        "import ktrain\n",
        "from ktrain import text\n",
        "import pandas as pd"
      ],
      "execution_count": 2,
      "outputs": [
        {
          "output_type": "stream",
          "text": [
            "using Keras version: 2.3.0-tf\n"
          ],
          "name": "stdout"
        }
      ]
    },
    {
      "cell_type": "markdown",
      "metadata": {
        "id": "n2xmIdIzr6Qt",
        "colab_type": "text"
      },
      "source": [
        "### Reading training file"
      ]
    },
    {
      "cell_type": "code",
      "metadata": {
        "id": "bGyFlT3aBe9R",
        "colab_type": "code",
        "colab": {}
      },
      "source": [
        "train_df = pd.read_csv(\"train.csv\")"
      ],
      "execution_count": 3,
      "outputs": []
    },
    {
      "cell_type": "code",
      "metadata": {
        "id": "8mS_Z3CFSxyD",
        "colab_type": "code",
        "colab": {
          "base_uri": "https://localhost:8080/",
          "height": 195
        },
        "outputId": "5db5b619-836c-4e9a-b7f7-4ea0faf91e56"
      },
      "source": [
        "train_df.head()"
      ],
      "execution_count": null,
      "outputs": [
        {
          "output_type": "execute_result",
          "data": {
            "text/html": [
              "<div>\n",
              "<style scoped>\n",
              "    .dataframe tbody tr th:only-of-type {\n",
              "        vertical-align: middle;\n",
              "    }\n",
              "\n",
              "    .dataframe tbody tr th {\n",
              "        vertical-align: top;\n",
              "    }\n",
              "\n",
              "    .dataframe thead th {\n",
              "        text-align: right;\n",
              "    }\n",
              "</style>\n",
              "<table border=\"1\" class=\"dataframe\">\n",
              "  <thead>\n",
              "    <tr style=\"text-align: right;\">\n",
              "      <th></th>\n",
              "      <th>id</th>\n",
              "      <th>keyword</th>\n",
              "      <th>location</th>\n",
              "      <th>text</th>\n",
              "      <th>target</th>\n",
              "    </tr>\n",
              "  </thead>\n",
              "  <tbody>\n",
              "    <tr>\n",
              "      <th>0</th>\n",
              "      <td>1</td>\n",
              "      <td>NaN</td>\n",
              "      <td>NaN</td>\n",
              "      <td>Our Deeds are the Reason of this #earthquake M...</td>\n",
              "      <td>1</td>\n",
              "    </tr>\n",
              "    <tr>\n",
              "      <th>1</th>\n",
              "      <td>4</td>\n",
              "      <td>NaN</td>\n",
              "      <td>NaN</td>\n",
              "      <td>Forest fire near La Ronge Sask. Canada</td>\n",
              "      <td>1</td>\n",
              "    </tr>\n",
              "    <tr>\n",
              "      <th>2</th>\n",
              "      <td>5</td>\n",
              "      <td>NaN</td>\n",
              "      <td>NaN</td>\n",
              "      <td>All residents asked to 'shelter in place' are ...</td>\n",
              "      <td>1</td>\n",
              "    </tr>\n",
              "    <tr>\n",
              "      <th>3</th>\n",
              "      <td>6</td>\n",
              "      <td>NaN</td>\n",
              "      <td>NaN</td>\n",
              "      <td>13,000 people receive #wildfires evacuation or...</td>\n",
              "      <td>1</td>\n",
              "    </tr>\n",
              "    <tr>\n",
              "      <th>4</th>\n",
              "      <td>7</td>\n",
              "      <td>NaN</td>\n",
              "      <td>NaN</td>\n",
              "      <td>Just got sent this photo from Ruby #Alaska as ...</td>\n",
              "      <td>1</td>\n",
              "    </tr>\n",
              "  </tbody>\n",
              "</table>\n",
              "</div>"
            ],
            "text/plain": [
              "   id keyword  ...                                               text target\n",
              "0   1     NaN  ...  Our Deeds are the Reason of this #earthquake M...      1\n",
              "1   4     NaN  ...             Forest fire near La Ronge Sask. Canada      1\n",
              "2   5     NaN  ...  All residents asked to 'shelter in place' are ...      1\n",
              "3   6     NaN  ...  13,000 people receive #wildfires evacuation or...      1\n",
              "4   7     NaN  ...  Just got sent this photo from Ruby #Alaska as ...      1\n",
              "\n",
              "[5 rows x 5 columns]"
            ]
          },
          "metadata": {
            "tags": []
          },
          "execution_count": 6
        }
      ]
    },
    {
      "cell_type": "markdown",
      "metadata": {
        "id": "vdM0B0Qah7F-",
        "colab_type": "text"
      },
      "source": [
        "### Splitting training data in to training and validation data"
      ]
    },
    {
      "cell_type": "code",
      "metadata": {
        "id": "wyO3msPQgx19",
        "colab_type": "code",
        "colab": {}
      },
      "source": [
        "random_seed = 12342\n",
        "x_train, x_val, y_train, y_val = train_test_split(train_df['text'], train_df['target'], shuffle=True, test_size = 0.2, random_state=random_seed, stratify=train_df['target'])"
      ],
      "execution_count": 4,
      "outputs": []
    },
    {
      "cell_type": "markdown",
      "metadata": {
        "id": "BteMwVZ0LrEN",
        "colab_type": "text"
      },
      "source": [
        "### Convert data to features for BERT"
      ]
    },
    {
      "cell_type": "code",
      "metadata": {
        "id": "JK6GHUaIvgfG",
        "colab_type": "code",
        "colab": {
          "base_uri": "https://localhost:8080/",
          "height": 252
        },
        "outputId": "8969fb16-c56a-4f7b-cc0e-883486b4db83"
      },
      "source": [
        "(x_train_bert,  y_train_bert), (x_val_bert, y_val_bert), preproc = text.texts_from_array(x_train=x_train, y_train=y_train,\n",
        "                                                                                         x_test = x_val, y_test=y_val,\n",
        "                                                                                          class_names= [\"0\", \"1\"],\n",
        "                                                                                          preprocess_mode='bert',\n",
        "                                                                                          lang = 'en',\n",
        "                                                                                          maxlen=65, \n",
        "                                                                                          max_features=35000)"
      ],
      "execution_count": 5,
      "outputs": [
        {
          "output_type": "stream",
          "text": [
            "downloading pretrained BERT model (uncased_L-12_H-768_A-12.zip)...\n",
            "[██████████████████████████████████████████████████]\n",
            "extracting pretrained BERT model...\n",
            "done.\n",
            "\n",
            "cleanup downloaded zip...\n",
            "done.\n",
            "\n",
            "preprocessing train...\n",
            "language: en\n"
          ],
          "name": "stdout"
        },
        {
          "output_type": "display_data",
          "data": {
            "text/html": [
              "done."
            ],
            "text/plain": [
              "<IPython.core.display.HTML object>"
            ]
          },
          "metadata": {
            "tags": []
          }
        },
        {
          "output_type": "stream",
          "text": [
            "preprocessing test...\n",
            "language: en\n"
          ],
          "name": "stdout"
        },
        {
          "output_type": "display_data",
          "data": {
            "text/html": [
              "done."
            ],
            "text/plain": [
              "<IPython.core.display.HTML object>"
            ]
          },
          "metadata": {
            "tags": []
          }
        }
      ]
    },
    {
      "cell_type": "markdown",
      "metadata": {
        "id": "P8QVEFWjMINC",
        "colab_type": "text"
      },
      "source": [
        "### Create Model Instance and train it for 6 epochs\n",
        "\n",
        "\n"
      ]
    },
    {
      "cell_type": "code",
      "metadata": {
        "id": "yTMcG_I2vzsw",
        "colab_type": "code",
        "colab": {
          "base_uri": "https://localhost:8080/",
          "height": 67
        },
        "outputId": "0882d130-50a7-4a1d-a756-70084ca135e1"
      },
      "source": [
        "model = text.text_classifier('bert', train_data=(x_train_bert, y_train_bert), preproc=preproc)\n",
        "learner = ktrain.get_learner(model, train_data=(x_train_bert, y_train_bert), val_data=(x_val_bert, y_val_bert), batch_size=16)"
      ],
      "execution_count": 6,
      "outputs": [
        {
          "output_type": "stream",
          "text": [
            "Is Multi-Label? False\n",
            "maxlen is 65\n",
            "done.\n"
          ],
          "name": "stdout"
        }
      ]
    },
    {
      "cell_type": "code",
      "metadata": {
        "id": "nwkt6BsTB-U-",
        "colab_type": "code",
        "colab": {
          "base_uri": "https://localhost:8080/",
          "height": 272
        },
        "outputId": "ee2f5234-1a04-43b5-9bcd-5e8ccd7a9edc"
      },
      "source": [
        "learner.lr_find()             # briefly simulate training to find good learning rate\n",
        "   "
      ],
      "execution_count": null,
      "outputs": [
        {
          "output_type": "stream",
          "text": [
            "simulating training for different learning rates... this may take a few moments...\n",
            "Train on 6090 samples\n",
            "Epoch 1/1024\n",
            "6090/6090 [==============================] - 188s 31ms/sample - loss: 0.6748 - acc: 0.5511\n",
            "Epoch 2/1024\n",
            "6090/6090 [==============================] - 188s 31ms/sample - loss: 0.4483 - acc: 0.8087\n",
            "Epoch 3/1024\n",
            "6090/6090 [==============================] - 187s 31ms/sample - loss: 0.7296 - acc: 0.5663\n",
            "Epoch 4/1024\n",
            " 560/6090 [=>............................] - 17s 30ms/sample - loss: 2.2778 - acc: 0.4643\n",
            "\n",
            "\n",
            "done.\n",
            "Please invoke the Learner.lr_plot() method to visually inspect the loss plot to help identify the maximal learning rate associated with falling loss.\n"
          ],
          "name": "stdout"
        }
      ]
    },
    {
      "cell_type": "code",
      "metadata": {
        "id": "cWPmoEOPEg9K",
        "colab_type": "code",
        "colab": {
          "base_uri": "https://localhost:8080/",
          "height": 283
        },
        "outputId": "fd3f4c79-8ac4-4de7-85c9-6c7cc208caad"
      },
      "source": [
        "learner.lr_plot()"
      ],
      "execution_count": null,
      "outputs": [
        {
          "output_type": "display_data",
          "data": {
            "image/png": "[encoded data removed]",
            "text/plain": [
              "<Figure size 432x288 with 1 Axes>"
            ]
          },
          "metadata": {
            "tags": [],
            "needs_background": "light"
          }
        }
      ]
    },
    {
      "cell_type": "code",
      "metadata": {
        "id": "-6HqzgLDBd09",
        "colab_type": "code",
        "colab": {
          "base_uri": "https://localhost:8080/",
          "height": 487
        },
        "outputId": "9887e165-5f6d-4a82-c2a5-12e1f08b5f84"
      },
      "source": [
        "learner.autofit(1e-5)"
      ],
      "execution_count": null,
      "outputs": [
        {
          "output_type": "stream",
          "text": [
            "early_stopping automatically enabled at patience=5\n",
            "reduce_on_plateau automatically enabled at patience=2\n",
            "\n",
            "\n",
            "begin training using triangular learning rate policy with max lr of 1e-05...\n",
            "Train on 6090 samples, validate on 1523 samples\n",
            "Epoch 1/1024\n",
            "6090/6090 [==============================] - 208s 34ms/sample - loss: 0.4704 - acc: 0.7837 - val_loss: 0.4007 - val_acc: 0.8273\n",
            "Epoch 2/1024\n",
            "6090/6090 [==============================] - 206s 34ms/sample - loss: 0.3585 - acc: 0.8540 - val_loss: 0.3724 - val_acc: 0.8437\n",
            "Epoch 3/1024\n",
            "6090/6090 [==============================] - 204s 34ms/sample - loss: 0.3038 - acc: 0.8790 - val_loss: 0.4075 - val_acc: 0.8385\n",
            "Epoch 4/1024\n",
            "6090/6090 [==============================] - ETA: 0s - loss: 0.2520 - acc: 0.9053\n",
            "Epoch 00004: Reducing Max LR on Plateau: new max lr will be 5e-06 (if not early_stopping).\n",
            "6090/6090 [==============================] - 204s 34ms/sample - loss: 0.2520 - acc: 0.9053 - val_loss: 0.4440 - val_acc: 0.8306\n",
            "Epoch 5/1024\n",
            "6090/6090 [==============================] - 205s 34ms/sample - loss: 0.1961 - acc: 0.9278 - val_loss: 0.4737 - val_acc: 0.8339\n",
            "Epoch 6/1024\n",
            "6090/6090 [==============================] - ETA: 0s - loss: 0.1604 - acc: 0.9443\n",
            "Epoch 00006: Reducing Max LR on Plateau: new max lr will be 2.5e-06 (if not early_stopping).\n",
            "6090/6090 [==============================] - 205s 34ms/sample - loss: 0.1604 - acc: 0.9443 - val_loss: 0.5402 - val_acc: 0.8181\n",
            "Epoch 7/1024\n",
            "6090/6090 [==============================] - ETA: 0s - loss: 0.1314 - acc: 0.9521Restoring model weights from the end of the best epoch.\n",
            "6090/6090 [==============================] - 205s 34ms/sample - loss: 0.1314 - acc: 0.9521 - val_loss: 0.5635 - val_acc: 0.8155\n",
            "Epoch 00007: early stopping\n",
            "Weights from best epoch have been loaded into model.\n"
          ],
          "name": "stdout"
        },
        {
          "output_type": "execute_result",
          "data": {
            "text/plain": [
              "<tensorflow.python.keras.callbacks.History at 0x7fe46ab1dda0>"
            ]
          },
          "metadata": {
            "tags": []
          },
          "execution_count": 6
        }
      ]
    },
    {
      "cell_type": "code",
      "metadata": {
        "id": "gebvrQ5kjE_o",
        "colab_type": "code",
        "colab": {
          "base_uri": "https://localhost:8080/",
          "height": 202
        },
        "outputId": "c5466fe1-72e1-456b-8444-9cc37fdbf504"
      },
      "source": [
        "learner.validate(val_data=(x_val_bert, y_val_bert), class_names=['No Disaster', 'Disaster'])"
      ],
      "execution_count": null,
      "outputs": [
        {
          "output_type": "stream",
          "text": [
            "              precision    recall  f1-score   support\n",
            "\n",
            " No Disaster       0.84      0.90      0.87       869\n",
            "    Disaster       0.85      0.77      0.81       654\n",
            "\n",
            "    accuracy                           0.84      1523\n",
            "   macro avg       0.85      0.83      0.84      1523\n",
            "weighted avg       0.84      0.84      0.84      1523\n",
            "\n"
          ],
          "name": "stdout"
        },
        {
          "output_type": "execute_result",
          "data": {
            "text/plain": [
              "array([[781,  88],\n",
              "       [150, 504]])"
            ]
          },
          "metadata": {
            "tags": []
          },
          "execution_count": 7
        }
      ]
    },
    {
      "cell_type": "markdown",
      "metadata": {
        "id": "3OFnCIH2wKpE",
        "colab_type": "text"
      },
      "source": [
        "### Getting predictor variable"
      ]
    },
    {
      "cell_type": "code",
      "metadata": {
        "id": "HLxfR9mPwV7K",
        "colab_type": "code",
        "colab": {}
      },
      "source": [
        "# getting predictor variable\n",
        "predictor = ktrain.get_predictor(learner.model, preproc)"
      ],
      "execution_count": null,
      "outputs": []
    },
    {
      "cell_type": "code",
      "metadata": {
        "id": "4_voYwZG8JOS",
        "colab_type": "code",
        "colab": {
          "base_uri": "https://localhost:8080/",
          "height": 1000
        },
        "outputId": "07a31589-6068-4763-d757-cdec3ba71d67"
      },
      "source": [
        "learner.print_layers()"
      ],
      "execution_count": 7,
      "outputs": [
        {
          "output_type": "stream",
          "text": [
            "0 (trainable=True) : <tensorflow.python.keras.engine.input_layer.InputLayer object at 0x7f6bf11b42e8>\n",
            "1 (trainable=True) : <tensorflow.python.keras.engine.input_layer.InputLayer object at 0x7f6bf1126be0>\n",
            "2 (trainable=True) : <keras_bert.layers.embedding.TokenEmbedding object at 0x7f6bf114d198>\n",
            "3 (trainable=True) : <tensorflow.python.keras.layers.embeddings.Embedding object at 0x7f6bf0904668>\n",
            "4 (trainable=True) : <tensorflow.python.keras.layers.merge.Add object at 0x7f6bf0904160>\n",
            "5 (trainable=True) : <keras_pos_embd.pos_embd.PositionEmbedding object at 0x7f6bf0904198>\n",
            "6 (trainable=True) : <tensorflow.python.keras.layers.core.Dropout object at 0x7f6bf114d668>\n",
            "7 (trainable=True) : <keras_layer_normalization.layer_normalization.LayerNormalization object at 0x7f6bf08d55f8>\n",
            "8 (trainable=True) : <keras_multi_head.multi_head_attention.MultiHeadAttention object at 0x7f6bf0885358>\n",
            "9 (trainable=True) : <tensorflow.python.keras.layers.core.Dropout object at 0x7f6bf18e0f28>\n",
            "10 (trainable=True) : <tensorflow.python.keras.layers.merge.Add object at 0x7f6bf08e8f60>\n",
            "11 (trainable=True) : <keras_layer_normalization.layer_normalization.LayerNormalization object at 0x7f6bf08e8550>\n",
            "12 (trainable=True) : <keras_position_wise_feed_forward.feed_forward.FeedForward object at 0x7f6bf084f668>\n",
            "13 (trainable=True) : <tensorflow.python.keras.layers.core.Dropout object at 0x7f6bf0724c18>\n",
            "14 (trainable=True) : <tensorflow.python.keras.layers.merge.Add object at 0x7f6bf0724f28>\n",
            "15 (trainable=True) : <keras_layer_normalization.layer_normalization.LayerNormalization object at 0x7f6bf05954a8>\n",
            "16 (trainable=True) : <keras_multi_head.multi_head_attention.MultiHeadAttention object at 0x7f6bf06c7048>\n",
            "17 (trainable=True) : <tensorflow.python.keras.layers.core.Dropout object at 0x7f6bf06df400>\n",
            "18 (trainable=True) : <tensorflow.python.keras.layers.merge.Add object at 0x7f6bf0866e80>\n",
            "19 (trainable=True) : <keras_layer_normalization.layer_normalization.LayerNormalization object at 0x7f6bf067b1d0>\n",
            "20 (trainable=True) : <keras_position_wise_feed_forward.feed_forward.FeedForward object at 0x7f6bf059b5f8>\n",
            "21 (trainable=True) : <tensorflow.python.keras.layers.core.Dropout object at 0x7f6bf05ac470>\n",
            "22 (trainable=True) : <tensorflow.python.keras.layers.merge.Add object at 0x7f6bf06c7c18>\n",
            "23 (trainable=True) : <keras_layer_normalization.layer_normalization.LayerNormalization object at 0x7f6bf05b3898>\n",
            "24 (trainable=True) : <keras_multi_head.multi_head_attention.MultiHeadAttention object at 0x7f6bf06d9550>\n",
            "25 (trainable=True) : <tensorflow.python.keras.layers.core.Dropout object at 0x7f6bf07023c8>\n",
            "26 (trainable=True) : <tensorflow.python.keras.layers.merge.Add object at 0x7f6bf06b8c18>\n",
            "27 (trainable=True) : <keras_layer_normalization.layer_normalization.LayerNormalization object at 0x7f6bf06db9b0>\n",
            "28 (trainable=True) : <keras_position_wise_feed_forward.feed_forward.FeedForward object at 0x7f6bf0625dd8>\n",
            "29 (trainable=True) : <tensorflow.python.keras.layers.core.Dropout object at 0x7f6bf062d080>\n",
            "30 (trainable=True) : <tensorflow.python.keras.layers.merge.Add object at 0x7f6bf062df60>\n",
            "31 (trainable=True) : <keras_layer_normalization.layer_normalization.LayerNormalization object at 0x7f6bf05d2278>\n",
            "32 (trainable=True) : <keras_multi_head.multi_head_attention.MultiHeadAttention object at 0x7f6bf05e9d68>\n",
            "33 (trainable=True) : <tensorflow.python.keras.layers.core.Dropout object at 0x7f6bf05efda0>\n",
            "34 (trainable=True) : <tensorflow.python.keras.layers.merge.Add object at 0x7f6bf0518eb8>\n",
            "35 (trainable=True) : <keras_layer_normalization.layer_normalization.LayerNormalization object at 0x7f6bf0600400>\n",
            "36 (trainable=True) : <keras_position_wise_feed_forward.feed_forward.FeedForward object at 0x7f6bf04aaa90>\n",
            "37 (trainable=True) : <tensorflow.python.keras.layers.core.Dropout object at 0x7f6bf04b0828>\n",
            "38 (trainable=True) : <tensorflow.python.keras.layers.merge.Add object at 0x7f6bf04bebe0>\n",
            "39 (trainable=True) : <keras_layer_normalization.layer_normalization.LayerNormalization object at 0x7f6bf044ac50>\n",
            "40 (trainable=True) : <keras_multi_head.multi_head_attention.MultiHeadAttention object at 0x7f6bf046ea20>\n",
            "41 (trainable=True) : <tensorflow.python.keras.layers.core.Dropout object at 0x7f6bf04757b8>\n",
            "42 (trainable=True) : <tensorflow.python.keras.layers.merge.Add object at 0x7f6bf041e8d0>\n",
            "43 (trainable=True) : <keras_layer_normalization.layer_normalization.LayerNormalization object at 0x7f6bf0485e48>\n",
            "44 (trainable=True) : <keras_position_wise_feed_forward.feed_forward.FeedForward object at 0x7f6bf03ad3c8>\n",
            "45 (trainable=True) : <tensorflow.python.keras.layers.core.Dropout object at 0x7f6bf03b31d0>\n",
            "46 (trainable=True) : <tensorflow.python.keras.layers.merge.Add object at 0x7f6bf03b3390>\n",
            "47 (trainable=True) : <keras_layer_normalization.layer_normalization.LayerNormalization object at 0x7f6bf03c2860>\n",
            "48 (trainable=True) : <keras_multi_head.multi_head_attention.MultiHeadAttention object at 0x7f6bf0378358>\n",
            "49 (trainable=True) : <tensorflow.python.keras.layers.core.Dropout object at 0x7f6bf037c1d0>\n",
            "50 (trainable=True) : <tensorflow.python.keras.layers.merge.Add object at 0x7f6bf0337e48>\n",
            "51 (trainable=True) : <keras_layer_normalization.layer_normalization.LayerNormalization object at 0x7f6bf030a898>\n",
            "52 (trainable=True) : <keras_position_wise_feed_forward.feed_forward.FeedForward object at 0x7f6bf02afdd8>\n",
            "53 (trainable=True) : <tensorflow.python.keras.layers.core.Dropout object at 0x7f6bf02b5c18>\n",
            "54 (trainable=True) : <tensorflow.python.keras.layers.merge.Add object at 0x7f6bf02c5fd0>\n",
            "55 (trainable=True) : <keras_layer_normalization.layer_normalization.LayerNormalization object at 0x7f6bf0257ac8>\n",
            "56 (trainable=True) : <keras_multi_head.multi_head_attention.MultiHeadAttention object at 0x7f6bf0277d68>\n",
            "57 (trainable=True) : <tensorflow.python.keras.layers.core.Dropout object at 0x7f6bf027db38>\n",
            "58 (trainable=True) : <tensorflow.python.keras.layers.merge.Add object at 0x7f6bf027dcf8>\n",
            "59 (trainable=True) : <keras_layer_normalization.layer_normalization.LayerNormalization object at 0x7f6bf0210198>\n",
            "60 (trainable=True) : <keras_position_wise_feed_forward.feed_forward.FeedForward object at 0x7f6bf01b9898>\n",
            "61 (trainable=True) : <tensorflow.python.keras.layers.core.Dropout object at 0x7f6bf01be5c0>\n",
            "62 (trainable=True) : <tensorflow.python.keras.layers.merge.Add object at 0x7f6bf01be780>\n",
            "63 (trainable=True) : <keras_layer_normalization.layer_normalization.LayerNormalization object at 0x7f6bf014cbe0>\n",
            "64 (trainable=True) : <keras_multi_head.multi_head_attention.MultiHeadAttention object at 0x7f6bf017f828>\n",
            "65 (trainable=True) : <tensorflow.python.keras.layers.core.Dropout object at 0x7f6bf01845c0>\n",
            "66 (trainable=True) : <tensorflow.python.keras.layers.merge.Add object at 0x7f6bf013ca90>\n",
            "67 (trainable=True) : <keras_layer_normalization.layer_normalization.LayerNormalization object at 0x7f6bf0111b70>\n",
            "68 (trainable=True) : <keras_position_wise_feed_forward.feed_forward.FeedForward object at 0x7f6bf00bafd0>\n",
            "69 (trainable=True) : <tensorflow.python.keras.layers.core.Dropout object at 0x7f6bf00bf6a0>\n",
            "70 (trainable=True) : <tensorflow.python.keras.layers.merge.Add object at 0x7f6bf0046198>\n",
            "71 (trainable=True) : <keras_layer_normalization.layer_normalization.LayerNormalization object at 0x7f6bf00525c0>\n",
            "72 (trainable=True) : <keras_multi_head.multi_head_attention.MultiHeadAttention object at 0x7f6bf0081f60>\n",
            "73 (trainable=True) : <tensorflow.python.keras.layers.core.Dropout object at 0x7f6bf0008f98>\n",
            "74 (trainable=True) : <tensorflow.python.keras.layers.merge.Add object at 0x7f6beffc9c50>\n",
            "75 (trainable=True) : <keras_layer_normalization.layer_normalization.LayerNormalization object at 0x7f6bf001be10>\n",
            "76 (trainable=True) : <keras_position_wise_feed_forward.feed_forward.FeedForward object at 0x7f6beffc1b70>\n",
            "77 (trainable=True) : <tensorflow.python.keras.layers.core.Dropout object at 0x7f6beff48a20>\n",
            "78 (trainable=True) : <tensorflow.python.keras.layers.merge.Add object at 0x7f6beff57dd8>\n",
            "79 (trainable=True) : <keras_layer_normalization.layer_normalization.LayerNormalization object at 0x7f6beff69ef0>\n",
            "80 (trainable=True) : <keras_multi_head.multi_head_attention.MultiHeadAttention object at 0x7f6beff07b70>\n",
            "81 (trainable=True) : <tensorflow.python.keras.layers.core.Dropout object at 0x7f6beff0d9b0>\n",
            "82 (trainable=True) : <tensorflow.python.keras.layers.merge.Add object at 0x7f6beff1ceb8>\n",
            "83 (trainable=True) : <keras_layer_normalization.layer_normalization.LayerNormalization object at 0x7f6befecb668>\n",
            "84 (trainable=True) : <keras_position_wise_feed_forward.feed_forward.FeedForward object at 0x7f6befe4c6a0>\n",
            "85 (trainable=True) : <tensorflow.python.keras.layers.core.Dropout object at 0x7f6befe53438>\n",
            "86 (trainable=True) : <tensorflow.python.keras.layers.merge.Add object at 0x7f6befe668d0>\n",
            "87 (trainable=True) : <keras_layer_normalization.layer_normalization.LayerNormalization object at 0x7f6befe5fa90>\n",
            "88 (trainable=True) : <keras_multi_head.multi_head_attention.MultiHeadAttention object at 0x7f6befe12630>\n",
            "89 (trainable=True) : <tensorflow.python.keras.layers.core.Dropout object at 0x7f6befe1b3c8>\n",
            "90 (trainable=True) : <tensorflow.python.keras.layers.merge.Add object at 0x7f6befde4c18>\n",
            "91 (trainable=True) : <keras_layer_normalization.layer_normalization.LayerNormalization object at 0x7f6befe279b0>\n",
            "92 (trainable=True) : <keras_position_wise_feed_forward.feed_forward.FeedForward object at 0x7f6befd4edd8>\n",
            "93 (trainable=True) : <tensorflow.python.keras.layers.core.Dropout object at 0x7f6befd54080>\n",
            "94 (trainable=True) : <tensorflow.python.keras.layers.merge.Add object at 0x7f6befd54f60>\n",
            "95 (trainable=True) : <keras_layer_normalization.layer_normalization.LayerNormalization object at 0x7f6befd7d320>\n",
            "96 (trainable=True) : <keras_multi_head.multi_head_attention.MultiHeadAttention object at 0x7f6befd16d68>\n",
            "97 (trainable=True) : <tensorflow.python.keras.layers.core.Dropout object at 0x7f6befd1dda0>\n",
            "98 (trainable=True) : <tensorflow.python.keras.layers.merge.Add object at 0x7f6befd40cf8>\n",
            "99 (trainable=True) : <keras_layer_normalization.layer_normalization.LayerNormalization object at 0x7f6befd2f400>\n",
            "100 (trainable=True) : <keras_position_wise_feed_forward.feed_forward.FeedForward object at 0x7f6befc58a90>\n",
            "101 (trainable=True) : <tensorflow.python.keras.layers.core.Dropout object at 0x7f6befc5f828>\n",
            "102 (trainable=True) : <tensorflow.python.keras.layers.merge.Add object at 0x7f6befc6cbe0>\n",
            "103 (trainable=True) : <keras_layer_normalization.layer_normalization.LayerNormalization object at 0x7f6befc7ac50>\n",
            "104 (trainable=True) : <keras_bert.layers.extract.Extract object at 0x7f6befbcdd68>\n",
            "105 (trainable=True) : <tensorflow.python.keras.layers.core.Dense object at 0x7f6bf0800940>\n",
            "106 (trainable=True) : <tensorflow.python.keras.layers.core.Dense object at 0x7f6befbf6358>\n"
          ],
          "name": "stdout"
        }
      ]
    },
    {
      "cell_type": "markdown",
      "metadata": {
        "id": "6YD8qTRutzhL",
        "colab_type": "text"
      },
      "source": [
        "### Getting predictions on test data"
      ]
    },
    {
      "cell_type": "code",
      "metadata": {
        "id": "ofq80LYrtp3M",
        "colab_type": "code",
        "colab": {
          "base_uri": "https://localhost:8080/",
          "height": 17
        },
        "outputId": "c9dc4adb-09a9-4ac1-b1d1-0cc021651b09"
      },
      "source": [
        "test_df = pd.read_csv(\"test.csv\")\n",
        "test_df[\"target\"] = predictor.predict(test_df[\"text\"].tolist())\n",
        "\n",
        "test_df = test_df[[\"id\", \"target\"]]\n"
      ],
      "execution_count": null,
      "outputs": [
        {
          "output_type": "display_data",
          "data": {
            "text/html": [
              ""
            ],
            "text/plain": [
              "<IPython.core.display.HTML object>"
            ]
          },
          "metadata": {
            "tags": []
          }
        }
      ]
    },
    {
      "cell_type": "code",
      "metadata": {
        "id": "IKpDQGGUui6L",
        "colab_type": "code",
        "colab": {
          "base_uri": "https://localhost:8080/",
          "height": 195
        },
        "outputId": "db6acc3d-467d-4664-ba3d-415d410f7ae4"
      },
      "source": [
        "test_df.head()"
      ],
      "execution_count": null,
      "outputs": [
        {
          "output_type": "execute_result",
          "data": {
            "text/html": [
              "<div>\n",
              "<style scoped>\n",
              "    .dataframe tbody tr th:only-of-type {\n",
              "        vertical-align: middle;\n",
              "    }\n",
              "\n",
              "    .dataframe tbody tr th {\n",
              "        vertical-align: top;\n",
              "    }\n",
              "\n",
              "    .dataframe thead th {\n",
              "        text-align: right;\n",
              "    }\n",
              "</style>\n",
              "<table border=\"1\" class=\"dataframe\">\n",
              "  <thead>\n",
              "    <tr style=\"text-align: right;\">\n",
              "      <th></th>\n",
              "      <th>id</th>\n",
              "      <th>target</th>\n",
              "    </tr>\n",
              "  </thead>\n",
              "  <tbody>\n",
              "    <tr>\n",
              "      <th>0</th>\n",
              "      <td>0</td>\n",
              "      <td>1</td>\n",
              "    </tr>\n",
              "    <tr>\n",
              "      <th>1</th>\n",
              "      <td>2</td>\n",
              "      <td>1</td>\n",
              "    </tr>\n",
              "    <tr>\n",
              "      <th>2</th>\n",
              "      <td>3</td>\n",
              "      <td>1</td>\n",
              "    </tr>\n",
              "    <tr>\n",
              "      <th>3</th>\n",
              "      <td>9</td>\n",
              "      <td>1</td>\n",
              "    </tr>\n",
              "    <tr>\n",
              "      <th>4</th>\n",
              "      <td>11</td>\n",
              "      <td>1</td>\n",
              "    </tr>\n",
              "  </tbody>\n",
              "</table>\n",
              "</div>"
            ],
            "text/plain": [
              "   id target\n",
              "0   0      1\n",
              "1   2      1\n",
              "2   3      1\n",
              "3   9      1\n",
              "4  11      1"
            ]
          },
          "metadata": {
            "tags": []
          },
          "execution_count": 14
        }
      ]
    },
    {
      "cell_type": "code",
      "metadata": {
        "id": "usXiCGlXulBm",
        "colab_type": "code",
        "colab": {}
      },
      "source": [
        "test_df.to_csv(\"submisssions.csv\", index=False)"
      ],
      "execution_count": null,
      "outputs": []
    }
  ]
}